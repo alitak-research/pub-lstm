{
 "cells": [
  {
   "cell_type": "markdown",
   "metadata": {
    "id": "6CnLTvHKOlZL"
   },
   "source": [
    "# Using Long short term memory networks for streamflow prediction\n",
    "\n",
    "Refrence links:\n",
    "\n",
    "\n",
    "1. [Single basin LSTM](https://github.com/kratzert/pangeo_lstm_example)\n",
    "2. [Neural Hydrology](https://neuralhydrology.github.io)\n",
    "3.  [EA-LSTM](https://github.com/kratzert/ealstm_regional_modeling)\n",
    "4. [Prediction in ungauged basins](https://github.com/kratzert/lstm_for_pub)\n",
    "\n",
    "Please make your own copy of this notebook and work on your copy. Each section can then be merged after discussion in this final notebook."
   ]
  },
  {
   "cell_type": "markdown",
   "metadata": {
    "id": "kKXSQxcP_BvP"
   },
   "source": [
    "# **Import Libraries**"
   ]
  },
  {
   "cell_type": "markdown",
   "metadata": {
    "id": "BQHV0_AdQTNV",
    "jp-MarkdownHeadingCollapsed": true
   },
   "source": [
    "# 1) Data download, loading and exploration\n",
    "Start by downloading CAMELS data, loading into notebook and exploring attributes in this format:\n",
    "\n",
    "| Basin_ID | Date | Precip | Climate | Vegetation | Topography | Soil | Geology | Streamflow |\n",
    "|----------|----------|----------|----------|----------|----------|----------|----------|----------|\n",
    "\n",
    "\n",
    "\n"
   ]
  },
  {
   "cell_type": "code",
   "execution_count": 34,
   "metadata": {},
   "outputs": [],
   "source": [
    "root_folder = '/mh1/Atakallou/MLproject'\n",
    "discharge_files = glob.glob(f'{root_folder}/basin_dataset_public_v1p2/usgs_streamflow/*/*.txt')\n",
    "forcing_files = glob.glob(f'{root_folder}/basin_dataset_public_v1p2/basin_mean_forcing/nldas/*/*.txt')"
   ]
  },
  {
   "cell_type": "code",
   "execution_count": 35,
   "metadata": {
    "scrolled": true
   },
   "outputs": [],
   "source": [
    "forcings=[]\n",
    "for f in forcing_files:\n",
    "    gaugeid = int(f.split('/')[-1].split('_')[0])\n",
    "    df = pd.read_csv(f,delimiter='\\\\s+',skipinitialspace=True,skiprows=3)\n",
    "    df.insert(0, 'gauge_id', gaugeid)\n",
    "    forcings.append(df)\n",
    "    \n",
    "forcing = pd.concat(forcings,ignore_index=True)\n",
    "dates = (forcing.Year.map(str) + \"/\" + forcing.Mnth.map(str) + \"/\" + forcing.Day.map(str))\n",
    "forcing.insert(0, 'Date', pd.to_datetime(dates, format=\"%Y/%m/%d\"))\n",
    "forcing.drop(columns=['Year','Mnth','Day','Hr','Dayl(s)'],inplace=True)"
   ]
  },
  {
   "cell_type": "code",
   "execution_count": 36,
   "metadata": {
    "scrolled": true
   },
   "outputs": [],
   "source": [
    "attrs = pd.read_csv(f'{root_folder}/camels_topo.txt',delimiter=';')\n",
    "for attr in ['camels_clim','camels_vege','camels_geol','camels_soil']:\n",
    "    attrs=pd.merge(attrs,pd.read_csv(f'{root_folder}/{attr}.txt',delimiter=';'),on='gauge_id')\n",
    "attrs.drop(columns=['gauge_lat', 'gauge_lon', 'high_prec_timing','low_prec_timing','dom_land_cover','geol_1st_class',\n",
    "                    'geol_2nd_class','area_geospa_fabric','root_depth_50','root_depth_99','geol_porostiy'],\n",
    "          inplace=True)"
   ]
  },
  {
   "cell_type": "code",
   "execution_count": 40,
   "metadata": {},
   "outputs": [],
   "source": [
    "Qobss=[]\n",
    "for f in discharge_files:\n",
    "    df = pd.read_csv(f,names = ['gauge_id','year','month','day','Qobs','flag'],delimiter=' ',skipinitialspace=True)\n",
    "    Qobss.append(df)\n",
    "Qobs = pd.concat(Qobss,ignore_index=True)\n",
    "dates = (Qobs.year.map(str) + \"/\" + Qobs.month.map(str) + \"/\" + Qobs.day.map(str))\n",
    "Qobs.insert(0, 'Date', pd.to_datetime(dates, format=\"%Y/%m/%d\"))\n",
    "Qobs.drop(columns=['year','month','day','flag'],inplace=True)"
   ]
  },
  {
   "cell_type": "code",
   "execution_count": 41,
   "metadata": {},
   "outputs": [],
   "source": [
    "Qobs = Qobs[Qobs['gauge_id'].isin(attrs['gauge_id'].unique())]"
   ]
  },
  {
   "cell_type": "code",
   "execution_count": null,
   "metadata": {},
   "outputs": [],
   "source": [
    "forcing = forcing[forcing['gauge_id'].isin(attrs['gauge_id'].unique())]"
   ]
  },
  {
   "cell_type": "code",
   "execution_count": null,
   "metadata": {},
   "outputs": [],
   "source": [
    "len(forcing.gauge_id.unique())"
   ]
  },
  {
   "cell_type": "code",
   "execution_count": null,
   "metadata": {
    "scrolled": true
   },
   "outputs": [],
   "source": [
    "(forcing.merge(attrs)).merge(Qobs).to_pickle('/mh1/nkarki/MLproj/CAMELS_data.pkl')"
   ]
  },
  {
   "cell_type": "markdown",
   "metadata": {},
   "source": [
    "# Single run"
   ]
  },
  {
   "cell_type": "code",
   "execution_count": 54,
   "metadata": {},
   "outputs": [],
   "source": [
    "import torch\n",
    "import torch.nn as nn\n",
    "import torch.nn.functional as F\n",
    "from torch.utils.data import DataLoader, Dataset\n",
    "\n",
    "import matplotlib.pyplot as plt\n",
    "import numpy as np\n",
    "import pandas as pd\n",
    "import tqdm\n",
    "import random\n",
    "import glob"
   ]
  },
  {
   "cell_type": "markdown",
   "metadata": {
    "jp-MarkdownHeadingCollapsed": true
   },
   "source": [
    "## Data loading"
   ]
  },
  {
   "cell_type": "code",
   "execution_count": 189,
   "metadata": {},
   "outputs": [],
   "source": [
    "nldas = glob.glob('/mh1/nkarki/MLproj/nldas/*/*.txt')"
   ]
  },
  {
   "cell_type": "code",
   "execution_count": 190,
   "metadata": {},
   "outputs": [],
   "source": [
    "forcings=[]\n",
    "for f in nldas:\n",
    "    gauge_id = str(f.split('/')[-1].split('_')[0])\n",
    "    df=pd.read_csv(nldas[0],skiprows=3,sep='\\s+')\n",
    "    df.insert(0, 'gauge_id', gauge_id)\n",
    "    forcings.append(df)"
   ]
  },
  {
   "cell_type": "code",
   "execution_count": 191,
   "metadata": {},
   "outputs": [],
   "source": [
    "forcing = pd.concat(forcings)\n",
    "forcing['Date'] = pd.to_datetime(dict(year=forcing.Year, month=forcing.Mnth, day=forcing.Day))\n",
    "forcing.drop(columns=['Year','Mnth','Day','Hr','Dayl(s)'],inplace=True)"
   ]
  },
  {
   "cell_type": "code",
   "execution_count": 235,
   "metadata": {},
   "outputs": [],
   "source": [
    "attr_files = glob.glob('/mh1/nkarki/MLproj/CAMELS_attrs/*.txt')"
   ]
  },
  {
   "cell_type": "code",
   "execution_count": 236,
   "metadata": {},
   "outputs": [
    {
     "data": {
      "text/plain": [
       "['/mh1/nkarki/MLproj/CAMELS_attrs/camels_vege.txt',\n",
       " '/mh1/nkarki/MLproj/CAMELS_attrs/camels_topo.txt',\n",
       " '/mh1/nkarki/MLproj/CAMELS_attrs/camels_soil.txt',\n",
       " '/mh1/nkarki/MLproj/CAMELS_attrs/camels_hydro.txt',\n",
       " '/mh1/nkarki/MLproj/CAMELS_attrs/camels_geol.txt',\n",
       " '/mh1/nkarki/MLproj/CAMELS_attrs/camels_clim.txt']"
      ]
     },
     "execution_count": 236,
     "metadata": {},
     "output_type": "execute_result"
    }
   ],
   "source": [
    "attr_files"
   ]
  },
  {
   "cell_type": "code",
   "execution_count": 237,
   "metadata": {},
   "outputs": [],
   "source": [
    "basin_attr = pd.DataFrame()\n",
    "\n",
    "for f in attr_files:\n",
    "    df = pd.read_csv(f,sep=';')\n",
    "    df.set_index('gauge_id',inplace=True)\n",
    "    if basin_attr.empty:\n",
    "        basin_attr = df\n",
    "    else:\n",
    "        basin_attr = basin_attr.merge(df,left_index=True,right_index=True)"
   ]
  },
  {
   "cell_type": "code",
   "execution_count": 21,
   "metadata": {},
   "outputs": [],
   "source": [
    "INVALID_ATTR = [\n",
    "    'area_geospa_fabric', 'geol_1st_class', 'glim_1st_class_frac', 'geol_2nd_class',\n",
    "    'glim_2nd_class_frac', 'dom_land_cover_frac', 'dom_land_cover', 'high_prec_timing',\n",
    "    'low_prec_timing', 'q_mean', 'runoff_ratio', 'stream_elas', 'slope_fdc',\n",
    "    'baseflow_index', 'hfd_mean', 'q5', 'q95', 'high_q_freq', 'high_q_dur', 'low_q_freq',\n",
    "    'low_q_dur', 'zero_q_freq', 'geol_porostiy', 'root_depth_50', 'root_depth_99', 'organic_frac',\n",
    "    'water_frac', 'other_frac'\n",
    "]"
   ]
  },
  {
   "cell_type": "code",
   "execution_count": 242,
   "metadata": {},
   "outputs": [],
   "source": [
    "basin_attr.drop(columns = INVALID_ATTR,inplace=True)"
   ]
  },
  {
   "cell_type": "code",
   "execution_count": 247,
   "metadata": {},
   "outputs": [],
   "source": [
    "qobss = glob.glob('/mh1/nkarki/MLproj/usgs_streamflow/*/*.txt')"
   ]
  },
  {
   "cell_type": "code",
   "execution_count": 333,
   "metadata": {},
   "outputs": [],
   "source": [
    "qobs = []\n",
    "for f in qobss:\n",
    "    df = pd.read_csv(f,names=['gauge_id','Year','Month','Day','Qobs','flag'],sep='\\s+')\n",
    "    qobs.append(df)"
   ]
  },
  {
   "cell_type": "code",
   "execution_count": 334,
   "metadata": {},
   "outputs": [],
   "source": [
    "qobs = pd.concat(qobs)"
   ]
  },
  {
   "cell_type": "code",
   "execution_count": 335,
   "metadata": {},
   "outputs": [],
   "source": [
    "qobs['Date'] = pd.to_datetime(dict(year=qobs.Year, month=qobs.Month, day=qobs.Day))"
   ]
  },
  {
   "cell_type": "code",
   "execution_count": 336,
   "metadata": {},
   "outputs": [
    {
     "data": {
      "text/html": [
       "<div>\n",
       "<style scoped>\n",
       "    .dataframe tbody tr th:only-of-type {\n",
       "        vertical-align: middle;\n",
       "    }\n",
       "\n",
       "    .dataframe tbody tr th {\n",
       "        vertical-align: top;\n",
       "    }\n",
       "\n",
       "    .dataframe thead th {\n",
       "        text-align: right;\n",
       "    }\n",
       "</style>\n",
       "<table border=\"1\" class=\"dataframe\">\n",
       "  <thead>\n",
       "    <tr style=\"text-align: right;\">\n",
       "      <th></th>\n",
       "      <th>gauge_id</th>\n",
       "      <th>Year</th>\n",
       "      <th>Month</th>\n",
       "      <th>Day</th>\n",
       "      <th>Qobs</th>\n",
       "      <th>flag</th>\n",
       "      <th>Date</th>\n",
       "    </tr>\n",
       "  </thead>\n",
       "  <tbody>\n",
       "    <tr>\n",
       "      <th>0</th>\n",
       "      <td>1013500</td>\n",
       "      <td>1980</td>\n",
       "      <td>1</td>\n",
       "      <td>1</td>\n",
       "      <td>655.0</td>\n",
       "      <td>A</td>\n",
       "      <td>1980-01-01</td>\n",
       "    </tr>\n",
       "    <tr>\n",
       "      <th>1</th>\n",
       "      <td>1013500</td>\n",
       "      <td>1980</td>\n",
       "      <td>1</td>\n",
       "      <td>2</td>\n",
       "      <td>640.0</td>\n",
       "      <td>A</td>\n",
       "      <td>1980-01-02</td>\n",
       "    </tr>\n",
       "    <tr>\n",
       "      <th>2</th>\n",
       "      <td>1013500</td>\n",
       "      <td>1980</td>\n",
       "      <td>1</td>\n",
       "      <td>3</td>\n",
       "      <td>625.0</td>\n",
       "      <td>A</td>\n",
       "      <td>1980-01-03</td>\n",
       "    </tr>\n",
       "    <tr>\n",
       "      <th>3</th>\n",
       "      <td>1013500</td>\n",
       "      <td>1980</td>\n",
       "      <td>1</td>\n",
       "      <td>4</td>\n",
       "      <td>620.0</td>\n",
       "      <td>A</td>\n",
       "      <td>1980-01-04</td>\n",
       "    </tr>\n",
       "    <tr>\n",
       "      <th>4</th>\n",
       "      <td>1013500</td>\n",
       "      <td>1980</td>\n",
       "      <td>1</td>\n",
       "      <td>5</td>\n",
       "      <td>605.0</td>\n",
       "      <td>A</td>\n",
       "      <td>1980-01-05</td>\n",
       "    </tr>\n",
       "    <tr>\n",
       "      <th>...</th>\n",
       "      <td>...</td>\n",
       "      <td>...</td>\n",
       "      <td>...</td>\n",
       "      <td>...</td>\n",
       "      <td>...</td>\n",
       "      <td>...</td>\n",
       "      <td>...</td>\n",
       "    </tr>\n",
       "    <tr>\n",
       "      <th>12779</th>\n",
       "      <td>11532500</td>\n",
       "      <td>2014</td>\n",
       "      <td>12</td>\n",
       "      <td>27</td>\n",
       "      <td>-999.0</td>\n",
       "      <td>M</td>\n",
       "      <td>2014-12-27</td>\n",
       "    </tr>\n",
       "    <tr>\n",
       "      <th>12780</th>\n",
       "      <td>11532500</td>\n",
       "      <td>2014</td>\n",
       "      <td>12</td>\n",
       "      <td>28</td>\n",
       "      <td>-999.0</td>\n",
       "      <td>M</td>\n",
       "      <td>2014-12-28</td>\n",
       "    </tr>\n",
       "    <tr>\n",
       "      <th>12781</th>\n",
       "      <td>11532500</td>\n",
       "      <td>2014</td>\n",
       "      <td>12</td>\n",
       "      <td>29</td>\n",
       "      <td>-999.0</td>\n",
       "      <td>M</td>\n",
       "      <td>2014-12-29</td>\n",
       "    </tr>\n",
       "    <tr>\n",
       "      <th>12782</th>\n",
       "      <td>11532500</td>\n",
       "      <td>2014</td>\n",
       "      <td>12</td>\n",
       "      <td>30</td>\n",
       "      <td>-999.0</td>\n",
       "      <td>M</td>\n",
       "      <td>2014-12-30</td>\n",
       "    </tr>\n",
       "    <tr>\n",
       "      <th>12783</th>\n",
       "      <td>11532500</td>\n",
       "      <td>2014</td>\n",
       "      <td>12</td>\n",
       "      <td>31</td>\n",
       "      <td>-999.0</td>\n",
       "      <td>M</td>\n",
       "      <td>2014-12-31</td>\n",
       "    </tr>\n",
       "  </tbody>\n",
       "</table>\n",
       "<p>8438500 rows × 7 columns</p>\n",
       "</div>"
      ],
      "text/plain": [
       "       gauge_id  Year  Month  Day   Qobs flag       Date\n",
       "0       1013500  1980      1    1  655.0    A 1980-01-01\n",
       "1       1013500  1980      1    2  640.0    A 1980-01-02\n",
       "2       1013500  1980      1    3  625.0    A 1980-01-03\n",
       "3       1013500  1980      1    4  620.0    A 1980-01-04\n",
       "4       1013500  1980      1    5  605.0    A 1980-01-05\n",
       "...         ...   ...    ...  ...    ...  ...        ...\n",
       "12779  11532500  2014     12   27 -999.0    M 2014-12-27\n",
       "12780  11532500  2014     12   28 -999.0    M 2014-12-28\n",
       "12781  11532500  2014     12   29 -999.0    M 2014-12-29\n",
       "12782  11532500  2014     12   30 -999.0    M 2014-12-30\n",
       "12783  11532500  2014     12   31 -999.0    M 2014-12-31\n",
       "\n",
       "[8438500 rows x 7 columns]"
      ]
     },
     "execution_count": 336,
     "metadata": {},
     "output_type": "execute_result"
    }
   ],
   "source": [
    "qobs"
   ]
  },
  {
   "cell_type": "code",
   "execution_count": 337,
   "metadata": {},
   "outputs": [],
   "source": [
    "all_basins = basin_attr.index.unique()"
   ]
  },
  {
   "cell_type": "code",
   "execution_count": 338,
   "metadata": {},
   "outputs": [],
   "source": [
    "qobs = qobs[qobs.gauge_id.isin(all_basins)]"
   ]
  },
  {
   "cell_type": "code",
   "execution_count": 340,
   "metadata": {
    "scrolled": true
   },
   "outputs": [
    {
     "ename": "KeyError",
     "evalue": "\"['Year', 'Month', 'Day', 'flag'] not found in axis\"",
     "output_type": "error",
     "traceback": [
      "\u001b[0;31m---------------------------------------------------------------------------\u001b[0m",
      "\u001b[0;31mKeyError\u001b[0m                                  Traceback (most recent call last)",
      "Cell \u001b[0;32mIn[340], line 1\u001b[0m\n\u001b[0;32m----> 1\u001b[0m \u001b[43mqobs\u001b[49m\u001b[38;5;241;43m.\u001b[39;49m\u001b[43mdrop\u001b[49m\u001b[43m(\u001b[49m\u001b[43mcolumns\u001b[49m\u001b[38;5;241;43m=\u001b[39;49m\u001b[43m[\u001b[49m\u001b[38;5;124;43m'\u001b[39;49m\u001b[38;5;124;43mYear\u001b[39;49m\u001b[38;5;124;43m'\u001b[39;49m\u001b[43m,\u001b[49m\u001b[38;5;124;43m'\u001b[39;49m\u001b[38;5;124;43mMonth\u001b[39;49m\u001b[38;5;124;43m'\u001b[39;49m\u001b[43m,\u001b[49m\u001b[38;5;124;43m'\u001b[39;49m\u001b[38;5;124;43mDay\u001b[39;49m\u001b[38;5;124;43m'\u001b[39;49m\u001b[43m,\u001b[49m\u001b[38;5;124;43m'\u001b[39;49m\u001b[38;5;124;43mflag\u001b[39;49m\u001b[38;5;124;43m'\u001b[39;49m\u001b[43m]\u001b[49m\u001b[43m)\u001b[49m\n\u001b[1;32m      2\u001b[0m \u001b[38;5;66;03m#qobs.set_index(['gauge_id','Date'],inplace=True)\u001b[39;00m\n",
      "File \u001b[0;32m/bighome/nkarki/.conda/envs/torch/lib/python3.10/site-packages/pandas/core/frame.py:5581\u001b[0m, in \u001b[0;36mDataFrame.drop\u001b[0;34m(self, labels, axis, index, columns, level, inplace, errors)\u001b[0m\n\u001b[1;32m   5433\u001b[0m \u001b[38;5;28;01mdef\u001b[39;00m \u001b[38;5;21mdrop\u001b[39m(\n\u001b[1;32m   5434\u001b[0m     \u001b[38;5;28mself\u001b[39m,\n\u001b[1;32m   5435\u001b[0m     labels: IndexLabel \u001b[38;5;241m|\u001b[39m \u001b[38;5;28;01mNone\u001b[39;00m \u001b[38;5;241m=\u001b[39m \u001b[38;5;28;01mNone\u001b[39;00m,\n\u001b[0;32m   (...)\u001b[0m\n\u001b[1;32m   5442\u001b[0m     errors: IgnoreRaise \u001b[38;5;241m=\u001b[39m \u001b[38;5;124m\"\u001b[39m\u001b[38;5;124mraise\u001b[39m\u001b[38;5;124m\"\u001b[39m,\n\u001b[1;32m   5443\u001b[0m ) \u001b[38;5;241m-\u001b[39m\u001b[38;5;241m>\u001b[39m DataFrame \u001b[38;5;241m|\u001b[39m \u001b[38;5;28;01mNone\u001b[39;00m:\n\u001b[1;32m   5444\u001b[0m \u001b[38;5;250m    \u001b[39m\u001b[38;5;124;03m\"\"\"\u001b[39;00m\n\u001b[1;32m   5445\u001b[0m \u001b[38;5;124;03m    Drop specified labels from rows or columns.\u001b[39;00m\n\u001b[1;32m   5446\u001b[0m \n\u001b[0;32m   (...)\u001b[0m\n\u001b[1;32m   5579\u001b[0m \u001b[38;5;124;03m            weight  1.0     0.8\u001b[39;00m\n\u001b[1;32m   5580\u001b[0m \u001b[38;5;124;03m    \"\"\"\u001b[39;00m\n\u001b[0;32m-> 5581\u001b[0m     \u001b[38;5;28;01mreturn\u001b[39;00m \u001b[38;5;28;43msuper\u001b[39;49m\u001b[43m(\u001b[49m\u001b[43m)\u001b[49m\u001b[38;5;241;43m.\u001b[39;49m\u001b[43mdrop\u001b[49m\u001b[43m(\u001b[49m\n\u001b[1;32m   5582\u001b[0m \u001b[43m        \u001b[49m\u001b[43mlabels\u001b[49m\u001b[38;5;241;43m=\u001b[39;49m\u001b[43mlabels\u001b[49m\u001b[43m,\u001b[49m\n\u001b[1;32m   5583\u001b[0m \u001b[43m        \u001b[49m\u001b[43maxis\u001b[49m\u001b[38;5;241;43m=\u001b[39;49m\u001b[43maxis\u001b[49m\u001b[43m,\u001b[49m\n\u001b[1;32m   5584\u001b[0m \u001b[43m        \u001b[49m\u001b[43mindex\u001b[49m\u001b[38;5;241;43m=\u001b[39;49m\u001b[43mindex\u001b[49m\u001b[43m,\u001b[49m\n\u001b[1;32m   5585\u001b[0m \u001b[43m        \u001b[49m\u001b[43mcolumns\u001b[49m\u001b[38;5;241;43m=\u001b[39;49m\u001b[43mcolumns\u001b[49m\u001b[43m,\u001b[49m\n\u001b[1;32m   5586\u001b[0m \u001b[43m        \u001b[49m\u001b[43mlevel\u001b[49m\u001b[38;5;241;43m=\u001b[39;49m\u001b[43mlevel\u001b[49m\u001b[43m,\u001b[49m\n\u001b[1;32m   5587\u001b[0m \u001b[43m        \u001b[49m\u001b[43minplace\u001b[49m\u001b[38;5;241;43m=\u001b[39;49m\u001b[43minplace\u001b[49m\u001b[43m,\u001b[49m\n\u001b[1;32m   5588\u001b[0m \u001b[43m        \u001b[49m\u001b[43merrors\u001b[49m\u001b[38;5;241;43m=\u001b[39;49m\u001b[43merrors\u001b[49m\u001b[43m,\u001b[49m\n\u001b[1;32m   5589\u001b[0m \u001b[43m    \u001b[49m\u001b[43m)\u001b[49m\n",
      "File \u001b[0;32m/bighome/nkarki/.conda/envs/torch/lib/python3.10/site-packages/pandas/core/generic.py:4788\u001b[0m, in \u001b[0;36mNDFrame.drop\u001b[0;34m(self, labels, axis, index, columns, level, inplace, errors)\u001b[0m\n\u001b[1;32m   4786\u001b[0m \u001b[38;5;28;01mfor\u001b[39;00m axis, labels \u001b[38;5;129;01min\u001b[39;00m axes\u001b[38;5;241m.\u001b[39mitems():\n\u001b[1;32m   4787\u001b[0m     \u001b[38;5;28;01mif\u001b[39;00m labels \u001b[38;5;129;01mis\u001b[39;00m \u001b[38;5;129;01mnot\u001b[39;00m \u001b[38;5;28;01mNone\u001b[39;00m:\n\u001b[0;32m-> 4788\u001b[0m         obj \u001b[38;5;241m=\u001b[39m \u001b[43mobj\u001b[49m\u001b[38;5;241;43m.\u001b[39;49m\u001b[43m_drop_axis\u001b[49m\u001b[43m(\u001b[49m\u001b[43mlabels\u001b[49m\u001b[43m,\u001b[49m\u001b[43m \u001b[49m\u001b[43maxis\u001b[49m\u001b[43m,\u001b[49m\u001b[43m \u001b[49m\u001b[43mlevel\u001b[49m\u001b[38;5;241;43m=\u001b[39;49m\u001b[43mlevel\u001b[49m\u001b[43m,\u001b[49m\u001b[43m \u001b[49m\u001b[43merrors\u001b[49m\u001b[38;5;241;43m=\u001b[39;49m\u001b[43merrors\u001b[49m\u001b[43m)\u001b[49m\n\u001b[1;32m   4790\u001b[0m \u001b[38;5;28;01mif\u001b[39;00m inplace:\n\u001b[1;32m   4791\u001b[0m     \u001b[38;5;28mself\u001b[39m\u001b[38;5;241m.\u001b[39m_update_inplace(obj)\n",
      "File \u001b[0;32m/bighome/nkarki/.conda/envs/torch/lib/python3.10/site-packages/pandas/core/generic.py:4830\u001b[0m, in \u001b[0;36mNDFrame._drop_axis\u001b[0;34m(self, labels, axis, level, errors, only_slice)\u001b[0m\n\u001b[1;32m   4828\u001b[0m         new_axis \u001b[38;5;241m=\u001b[39m axis\u001b[38;5;241m.\u001b[39mdrop(labels, level\u001b[38;5;241m=\u001b[39mlevel, errors\u001b[38;5;241m=\u001b[39merrors)\n\u001b[1;32m   4829\u001b[0m     \u001b[38;5;28;01melse\u001b[39;00m:\n\u001b[0;32m-> 4830\u001b[0m         new_axis \u001b[38;5;241m=\u001b[39m \u001b[43maxis\u001b[49m\u001b[38;5;241;43m.\u001b[39;49m\u001b[43mdrop\u001b[49m\u001b[43m(\u001b[49m\u001b[43mlabels\u001b[49m\u001b[43m,\u001b[49m\u001b[43m \u001b[49m\u001b[43merrors\u001b[49m\u001b[38;5;241;43m=\u001b[39;49m\u001b[43merrors\u001b[49m\u001b[43m)\u001b[49m\n\u001b[1;32m   4831\u001b[0m     indexer \u001b[38;5;241m=\u001b[39m axis\u001b[38;5;241m.\u001b[39mget_indexer(new_axis)\n\u001b[1;32m   4833\u001b[0m \u001b[38;5;66;03m# Case for non-unique axis\u001b[39;00m\n\u001b[1;32m   4834\u001b[0m \u001b[38;5;28;01melse\u001b[39;00m:\n",
      "File \u001b[0;32m/bighome/nkarki/.conda/envs/torch/lib/python3.10/site-packages/pandas/core/indexes/base.py:7070\u001b[0m, in \u001b[0;36mIndex.drop\u001b[0;34m(self, labels, errors)\u001b[0m\n\u001b[1;32m   7068\u001b[0m \u001b[38;5;28;01mif\u001b[39;00m mask\u001b[38;5;241m.\u001b[39many():\n\u001b[1;32m   7069\u001b[0m     \u001b[38;5;28;01mif\u001b[39;00m errors \u001b[38;5;241m!=\u001b[39m \u001b[38;5;124m\"\u001b[39m\u001b[38;5;124mignore\u001b[39m\u001b[38;5;124m\"\u001b[39m:\n\u001b[0;32m-> 7070\u001b[0m         \u001b[38;5;28;01mraise\u001b[39;00m \u001b[38;5;167;01mKeyError\u001b[39;00m(\u001b[38;5;124mf\u001b[39m\u001b[38;5;124m\"\u001b[39m\u001b[38;5;132;01m{\u001b[39;00mlabels[mask]\u001b[38;5;241m.\u001b[39mtolist()\u001b[38;5;132;01m}\u001b[39;00m\u001b[38;5;124m not found in axis\u001b[39m\u001b[38;5;124m\"\u001b[39m)\n\u001b[1;32m   7071\u001b[0m     indexer \u001b[38;5;241m=\u001b[39m indexer[\u001b[38;5;241m~\u001b[39mmask]\n\u001b[1;32m   7072\u001b[0m \u001b[38;5;28;01mreturn\u001b[39;00m \u001b[38;5;28mself\u001b[39m\u001b[38;5;241m.\u001b[39mdelete(indexer)\n",
      "\u001b[0;31mKeyError\u001b[0m: \"['Year', 'Month', 'Day', 'flag'] not found in axis\""
     ]
    }
   ],
   "source": [
    "qobs.drop(columns=['Year','Month','Day','flag'])\n",
    "#qobs.set_index(['gauge_id','Date'],inplace=True)"
   ]
  },
  {
   "cell_type": "code",
   "execution_count": 343,
   "metadata": {},
   "outputs": [
    {
     "data": {
      "text/plain": [
       "0         1013500\n",
       "1         1013500\n",
       "2         1013500\n",
       "3         1013500\n",
       "4         1013500\n",
       "           ...   \n",
       "12779    11532500\n",
       "12780    11532500\n",
       "12781    11532500\n",
       "12782    11532500\n",
       "12783    11532500\n",
       "Name: gauge_id, Length: 8415489, dtype: int64"
      ]
     },
     "execution_count": 343,
     "metadata": {},
     "output_type": "execute_result"
    }
   ],
   "source": []
  },
  {
   "cell_type": "code",
   "execution_count": null,
   "metadata": {},
   "outputs": [],
   "source": []
  },
  {
   "cell_type": "markdown",
   "metadata": {},
   "source": [
    "## Model"
   ]
  },
  {
   "cell_type": "code",
   "execution_count": 2,
   "metadata": {},
   "outputs": [],
   "source": [
    "root_dir = '/mh1/nkarki/MLproj'"
   ]
  },
  {
   "cell_type": "code",
   "execution_count": 3,
   "metadata": {},
   "outputs": [],
   "source": [
    "camels_df = pd.read_pickle(f'{root_dir}/CAMELS_data.pkl')"
   ]
  },
  {
   "cell_type": "code",
   "execution_count": 4,
   "metadata": {
    "scrolled": true
   },
   "outputs": [],
   "source": [
    "camels_df.drop(columns=['dom_land_cover_frac',\n",
    " 'glim_1st_class_frac',\n",
    " 'glim_2nd_class_frac',\n",
    " 'organic_frac',\n",
    " 'water_frac',\n",
    " 'other_frac'],inplace=True)"
   ]
  },
  {
   "cell_type": "code",
   "execution_count": 5,
   "metadata": {},
   "outputs": [],
   "source": [
    "camels_df = camels_df[camels_df.Qobs >= 0].sort_values(by=['gauge_id','Date'])"
   ]
  },
  {
   "cell_type": "code",
   "execution_count": 6,
   "metadata": {},
   "outputs": [],
   "source": [
    "basins = random.sample(sorted(camels_df.gauge_id.unique()),600) "
   ]
  },
  {
   "cell_type": "code",
   "execution_count": 7,
   "metadata": {},
   "outputs": [],
   "source": [
    "eligible_basins = [basin for basin in camels_df.gauge_id.unique() if basin not in basins]"
   ]
  },
  {
   "cell_type": "code",
   "execution_count": 8,
   "metadata": {},
   "outputs": [],
   "source": [
    "test_basins = random.sample(sorted(eligible_basins),71)"
   ]
  },
  {
   "cell_type": "code",
   "execution_count": 9,
   "metadata": {},
   "outputs": [],
   "source": [
    "df = camels_df[camels_df.gauge_id.isin(basins)]"
   ]
  },
  {
   "cell_type": "code",
   "execution_count": 10,
   "metadata": {},
   "outputs": [],
   "source": [
    "train_period = pd.date_range('1980-01-01','2008-12-31')\n",
    "valid_period = pd.date_range('2009-01-01','2014-12-31')\n",
    "test_period = pd.date_range('1980-01-01','2014-12-31')"
   ]
  },
  {
   "cell_type": "code",
   "execution_count": 11,
   "metadata": {},
   "outputs": [],
   "source": [
    "train_df = df[df.Date.isin(train_period)]\n",
    "valid_df = df[df.Date.isin(test_period)]"
   ]
  },
  {
   "cell_type": "code",
   "execution_count": 69,
   "metadata": {},
   "outputs": [
    {
     "data": {
      "text/html": [
       "<div>\n",
       "<style scoped>\n",
       "    .dataframe tbody tr th:only-of-type {\n",
       "        vertical-align: middle;\n",
       "    }\n",
       "\n",
       "    .dataframe tbody tr th {\n",
       "        vertical-align: top;\n",
       "    }\n",
       "\n",
       "    .dataframe thead th {\n",
       "        text-align: right;\n",
       "    }\n",
       "</style>\n",
       "<table border=\"1\" class=\"dataframe\">\n",
       "  <thead>\n",
       "    <tr style=\"text-align: right;\">\n",
       "      <th></th>\n",
       "      <th>Date</th>\n",
       "      <th>gauge_id</th>\n",
       "      <th>PRCP(mm/day)</th>\n",
       "      <th>SRAD(W/m2)</th>\n",
       "      <th>Tmax(C)</th>\n",
       "      <th>Tmin(C)</th>\n",
       "      <th>Vp(Pa)</th>\n",
       "      <th>elev_mean</th>\n",
       "      <th>slope_mean</th>\n",
       "      <th>area_gages2</th>\n",
       "      <th>...</th>\n",
       "      <th>geol_permeability</th>\n",
       "      <th>soil_depth_pelletier</th>\n",
       "      <th>soil_depth_statsgo</th>\n",
       "      <th>soil_porosity</th>\n",
       "      <th>soil_conductivity</th>\n",
       "      <th>max_water_content</th>\n",
       "      <th>sand_frac</th>\n",
       "      <th>silt_frac</th>\n",
       "      <th>clay_frac</th>\n",
       "      <th>Qobs</th>\n",
       "    </tr>\n",
       "  </thead>\n",
       "  <tbody>\n",
       "    <tr>\n",
       "      <th>4828739</th>\n",
       "      <td>1980-01-01</td>\n",
       "      <td>1013500</td>\n",
       "      <td>0.00</td>\n",
       "      <td>218.66</td>\n",
       "      <td>-13.04</td>\n",
       "      <td>-13.04</td>\n",
       "      <td>203.28</td>\n",
       "      <td>250.31</td>\n",
       "      <td>21.64152</td>\n",
       "      <td>2252.70</td>\n",
       "      <td>...</td>\n",
       "      <td>-14.7019</td>\n",
       "      <td>7.404762</td>\n",
       "      <td>1.248408</td>\n",
       "      <td>0.461149</td>\n",
       "      <td>1.106522</td>\n",
       "      <td>0.558055</td>\n",
       "      <td>27.841827</td>\n",
       "      <td>55.156940</td>\n",
       "      <td>16.275732</td>\n",
       "      <td>7.113717e+05</td>\n",
       "    </tr>\n",
       "    <tr>\n",
       "      <th>4828740</th>\n",
       "      <td>1980-01-02</td>\n",
       "      <td>1013500</td>\n",
       "      <td>0.00</td>\n",
       "      <td>199.05</td>\n",
       "      <td>-10.93</td>\n",
       "      <td>-10.93</td>\n",
       "      <td>237.37</td>\n",
       "      <td>250.31</td>\n",
       "      <td>21.64152</td>\n",
       "      <td>2252.70</td>\n",
       "      <td>...</td>\n",
       "      <td>-14.7019</td>\n",
       "      <td>7.404762</td>\n",
       "      <td>1.248408</td>\n",
       "      <td>0.461149</td>\n",
       "      <td>1.106522</td>\n",
       "      <td>0.558055</td>\n",
       "      <td>27.841827</td>\n",
       "      <td>55.156940</td>\n",
       "      <td>16.275732</td>\n",
       "      <td>6.950807e+05</td>\n",
       "    </tr>\n",
       "    <tr>\n",
       "      <th>4828741</th>\n",
       "      <td>1980-01-03</td>\n",
       "      <td>1013500</td>\n",
       "      <td>0.00</td>\n",
       "      <td>197.64</td>\n",
       "      <td>-13.60</td>\n",
       "      <td>-13.60</td>\n",
       "      <td>169.39</td>\n",
       "      <td>250.31</td>\n",
       "      <td>21.64152</td>\n",
       "      <td>2252.70</td>\n",
       "      <td>...</td>\n",
       "      <td>-14.7019</td>\n",
       "      <td>7.404762</td>\n",
       "      <td>1.248408</td>\n",
       "      <td>0.461149</td>\n",
       "      <td>1.106522</td>\n",
       "      <td>0.558055</td>\n",
       "      <td>27.841827</td>\n",
       "      <td>55.156940</td>\n",
       "      <td>16.275732</td>\n",
       "      <td>6.787898e+05</td>\n",
       "    </tr>\n",
       "    <tr>\n",
       "      <th>4828742</th>\n",
       "      <td>1980-01-04</td>\n",
       "      <td>1013500</td>\n",
       "      <td>0.00</td>\n",
       "      <td>214.61</td>\n",
       "      <td>-16.53</td>\n",
       "      <td>-16.53</td>\n",
       "      <td>134.57</td>\n",
       "      <td>250.31</td>\n",
       "      <td>21.64152</td>\n",
       "      <td>2252.70</td>\n",
       "      <td>...</td>\n",
       "      <td>-14.7019</td>\n",
       "      <td>7.404762</td>\n",
       "      <td>1.248408</td>\n",
       "      <td>0.461149</td>\n",
       "      <td>1.106522</td>\n",
       "      <td>0.558055</td>\n",
       "      <td>27.841827</td>\n",
       "      <td>55.156940</td>\n",
       "      <td>16.275732</td>\n",
       "      <td>6.733595e+05</td>\n",
       "    </tr>\n",
       "    <tr>\n",
       "      <th>4828743</th>\n",
       "      <td>1980-01-05</td>\n",
       "      <td>1013500</td>\n",
       "      <td>0.00</td>\n",
       "      <td>206.02</td>\n",
       "      <td>-17.60</td>\n",
       "      <td>-17.60</td>\n",
       "      <td>129.30</td>\n",
       "      <td>250.31</td>\n",
       "      <td>21.64152</td>\n",
       "      <td>2252.70</td>\n",
       "      <td>...</td>\n",
       "      <td>-14.7019</td>\n",
       "      <td>7.404762</td>\n",
       "      <td>1.248408</td>\n",
       "      <td>0.461149</td>\n",
       "      <td>1.106522</td>\n",
       "      <td>0.558055</td>\n",
       "      <td>27.841827</td>\n",
       "      <td>55.156940</td>\n",
       "      <td>16.275732</td>\n",
       "      <td>6.570685e+05</td>\n",
       "    </tr>\n",
       "    <tr>\n",
       "      <th>...</th>\n",
       "      <td>...</td>\n",
       "      <td>...</td>\n",
       "      <td>...</td>\n",
       "      <td>...</td>\n",
       "      <td>...</td>\n",
       "      <td>...</td>\n",
       "      <td>...</td>\n",
       "      <td>...</td>\n",
       "      <td>...</td>\n",
       "      <td>...</td>\n",
       "      <td>...</td>\n",
       "      <td>...</td>\n",
       "      <td>...</td>\n",
       "      <td>...</td>\n",
       "      <td>...</td>\n",
       "      <td>...</td>\n",
       "      <td>...</td>\n",
       "      <td>...</td>\n",
       "      <td>...</td>\n",
       "      <td>...</td>\n",
       "      <td>...</td>\n",
       "    </tr>\n",
       "    <tr>\n",
       "      <th>6363993</th>\n",
       "      <td>2008-12-27</td>\n",
       "      <td>14400000</td>\n",
       "      <td>29.58</td>\n",
       "      <td>88.11</td>\n",
       "      <td>3.94</td>\n",
       "      <td>3.94</td>\n",
       "      <td>711.01</td>\n",
       "      <td>625.31</td>\n",
       "      <td>98.81802</td>\n",
       "      <td>702.63</td>\n",
       "      <td>...</td>\n",
       "      <td>-14.7163</td>\n",
       "      <td>0.929015</td>\n",
       "      <td>1.071426</td>\n",
       "      <td>0.452074</td>\n",
       "      <td>0.941310</td>\n",
       "      <td>0.494187</td>\n",
       "      <td>30.026587</td>\n",
       "      <td>42.214515</td>\n",
       "      <td>27.805122</td>\n",
       "      <td>2.277245e+07</td>\n",
       "    </tr>\n",
       "    <tr>\n",
       "      <th>6363994</th>\n",
       "      <td>2008-12-28</td>\n",
       "      <td>14400000</td>\n",
       "      <td>171.20</td>\n",
       "      <td>105.07</td>\n",
       "      <td>6.59</td>\n",
       "      <td>6.59</td>\n",
       "      <td>829.54</td>\n",
       "      <td>625.31</td>\n",
       "      <td>98.81802</td>\n",
       "      <td>702.63</td>\n",
       "      <td>...</td>\n",
       "      <td>-14.7163</td>\n",
       "      <td>0.929015</td>\n",
       "      <td>1.071426</td>\n",
       "      <td>0.452074</td>\n",
       "      <td>0.941310</td>\n",
       "      <td>0.494187</td>\n",
       "      <td>30.026587</td>\n",
       "      <td>42.214515</td>\n",
       "      <td>27.805122</td>\n",
       "      <td>1.156032e+08</td>\n",
       "    </tr>\n",
       "    <tr>\n",
       "      <th>6363995</th>\n",
       "      <td>2008-12-29</td>\n",
       "      <td>14400000</td>\n",
       "      <td>135.26</td>\n",
       "      <td>137.48</td>\n",
       "      <td>6.10</td>\n",
       "      <td>6.10</td>\n",
       "      <td>822.86</td>\n",
       "      <td>625.31</td>\n",
       "      <td>98.81802</td>\n",
       "      <td>702.63</td>\n",
       "      <td>...</td>\n",
       "      <td>-14.7163</td>\n",
       "      <td>0.929015</td>\n",
       "      <td>1.071426</td>\n",
       "      <td>0.452074</td>\n",
       "      <td>0.941310</td>\n",
       "      <td>0.494187</td>\n",
       "      <td>30.026587</td>\n",
       "      <td>42.214515</td>\n",
       "      <td>27.805122</td>\n",
       "      <td>1.344062e+08</td>\n",
       "    </tr>\n",
       "    <tr>\n",
       "      <th>6363996</th>\n",
       "      <td>2008-12-30</td>\n",
       "      <td>14400000</td>\n",
       "      <td>0.37</td>\n",
       "      <td>239.88</td>\n",
       "      <td>1.42</td>\n",
       "      <td>1.42</td>\n",
       "      <td>513.03</td>\n",
       "      <td>625.31</td>\n",
       "      <td>98.81802</td>\n",
       "      <td>702.63</td>\n",
       "      <td>...</td>\n",
       "      <td>-14.7163</td>\n",
       "      <td>0.929015</td>\n",
       "      <td>1.071426</td>\n",
       "      <td>0.452074</td>\n",
       "      <td>0.941310</td>\n",
       "      <td>0.494187</td>\n",
       "      <td>30.026587</td>\n",
       "      <td>42.214515</td>\n",
       "      <td>27.805122</td>\n",
       "      <td>5.431960e+07</td>\n",
       "    </tr>\n",
       "    <tr>\n",
       "      <th>6363997</th>\n",
       "      <td>2008-12-31</td>\n",
       "      <td>14400000</td>\n",
       "      <td>7.79</td>\n",
       "      <td>220.64</td>\n",
       "      <td>3.70</td>\n",
       "      <td>3.70</td>\n",
       "      <td>632.38</td>\n",
       "      <td>625.31</td>\n",
       "      <td>98.81802</td>\n",
       "      <td>702.63</td>\n",
       "      <td>...</td>\n",
       "      <td>-14.7163</td>\n",
       "      <td>0.929015</td>\n",
       "      <td>1.071426</td>\n",
       "      <td>0.452074</td>\n",
       "      <td>0.941310</td>\n",
       "      <td>0.494187</td>\n",
       "      <td>30.026587</td>\n",
       "      <td>42.214515</td>\n",
       "      <td>27.805122</td>\n",
       "      <td>2.987578e+07</td>\n",
       "    </tr>\n",
       "  </tbody>\n",
       "</table>\n",
       "<p>6208388 rows × 35 columns</p>\n",
       "</div>"
      ],
      "text/plain": [
       "              Date  gauge_id  PRCP(mm/day)  SRAD(W/m2)  Tmax(C)  Tmin(C)  \\\n",
       "4828739 1980-01-01   1013500          0.00      218.66   -13.04   -13.04   \n",
       "4828740 1980-01-02   1013500          0.00      199.05   -10.93   -10.93   \n",
       "4828741 1980-01-03   1013500          0.00      197.64   -13.60   -13.60   \n",
       "4828742 1980-01-04   1013500          0.00      214.61   -16.53   -16.53   \n",
       "4828743 1980-01-05   1013500          0.00      206.02   -17.60   -17.60   \n",
       "...            ...       ...           ...         ...      ...      ...   \n",
       "6363993 2008-12-27  14400000         29.58       88.11     3.94     3.94   \n",
       "6363994 2008-12-28  14400000        171.20      105.07     6.59     6.59   \n",
       "6363995 2008-12-29  14400000        135.26      137.48     6.10     6.10   \n",
       "6363996 2008-12-30  14400000          0.37      239.88     1.42     1.42   \n",
       "6363997 2008-12-31  14400000          7.79      220.64     3.70     3.70   \n",
       "\n",
       "         Vp(Pa)  elev_mean  slope_mean  area_gages2  ...  geol_permeability  \\\n",
       "4828739  203.28     250.31    21.64152      2252.70  ...           -14.7019   \n",
       "4828740  237.37     250.31    21.64152      2252.70  ...           -14.7019   \n",
       "4828741  169.39     250.31    21.64152      2252.70  ...           -14.7019   \n",
       "4828742  134.57     250.31    21.64152      2252.70  ...           -14.7019   \n",
       "4828743  129.30     250.31    21.64152      2252.70  ...           -14.7019   \n",
       "...         ...        ...         ...          ...  ...                ...   \n",
       "6363993  711.01     625.31    98.81802       702.63  ...           -14.7163   \n",
       "6363994  829.54     625.31    98.81802       702.63  ...           -14.7163   \n",
       "6363995  822.86     625.31    98.81802       702.63  ...           -14.7163   \n",
       "6363996  513.03     625.31    98.81802       702.63  ...           -14.7163   \n",
       "6363997  632.38     625.31    98.81802       702.63  ...           -14.7163   \n",
       "\n",
       "         soil_depth_pelletier  soil_depth_statsgo  soil_porosity  \\\n",
       "4828739              7.404762            1.248408       0.461149   \n",
       "4828740              7.404762            1.248408       0.461149   \n",
       "4828741              7.404762            1.248408       0.461149   \n",
       "4828742              7.404762            1.248408       0.461149   \n",
       "4828743              7.404762            1.248408       0.461149   \n",
       "...                       ...                 ...            ...   \n",
       "6363993              0.929015            1.071426       0.452074   \n",
       "6363994              0.929015            1.071426       0.452074   \n",
       "6363995              0.929015            1.071426       0.452074   \n",
       "6363996              0.929015            1.071426       0.452074   \n",
       "6363997              0.929015            1.071426       0.452074   \n",
       "\n",
       "         soil_conductivity  max_water_content  sand_frac  silt_frac  \\\n",
       "4828739           1.106522           0.558055  27.841827  55.156940   \n",
       "4828740           1.106522           0.558055  27.841827  55.156940   \n",
       "4828741           1.106522           0.558055  27.841827  55.156940   \n",
       "4828742           1.106522           0.558055  27.841827  55.156940   \n",
       "4828743           1.106522           0.558055  27.841827  55.156940   \n",
       "...                    ...                ...        ...        ...   \n",
       "6363993           0.941310           0.494187  30.026587  42.214515   \n",
       "6363994           0.941310           0.494187  30.026587  42.214515   \n",
       "6363995           0.941310           0.494187  30.026587  42.214515   \n",
       "6363996           0.941310           0.494187  30.026587  42.214515   \n",
       "6363997           0.941310           0.494187  30.026587  42.214515   \n",
       "\n",
       "         clay_frac          Qobs  \n",
       "4828739  16.275732  7.113717e+05  \n",
       "4828740  16.275732  6.950807e+05  \n",
       "4828741  16.275732  6.787898e+05  \n",
       "4828742  16.275732  6.733595e+05  \n",
       "4828743  16.275732  6.570685e+05  \n",
       "...            ...           ...  \n",
       "6363993  27.805122  2.277245e+07  \n",
       "6363994  27.805122  1.156032e+08  \n",
       "6363995  27.805122  1.344062e+08  \n",
       "6363996  27.805122  5.431960e+07  \n",
       "6363997  27.805122  2.987578e+07  \n",
       "\n",
       "[6208388 rows x 35 columns]"
      ]
     },
     "execution_count": 69,
     "metadata": {},
     "output_type": "execute_result"
    }
   ],
   "source": [
    "train_df"
   ]
  },
  {
   "cell_type": "code",
   "execution_count": 12,
   "metadata": {},
   "outputs": [],
   "source": [
    "mean = train_df.mean()\n",
    "std = train_df.std()"
   ]
  },
  {
   "cell_type": "code",
   "execution_count": 13,
   "metadata": {},
   "outputs": [
    {
     "data": {
      "text/plain": [
       "PRCP(mm/day)                  3.046886\n",
       "SRAD(W/m2)                  355.815716\n",
       "Tmax(C)                      10.669536\n",
       "Tmin(C)                      10.669536\n",
       "Vp(Pa)                     1054.104318\n",
       "elev_mean                   767.402097\n",
       "slope_mean                   46.978654\n",
       "area_gages2                 803.323061\n",
       "p_mean                         3.27736\n",
       "pet_mean                      2.775789\n",
       "p_seasonality                 -0.04532\n",
       "frac_snow                     0.182726\n",
       "aridity                       1.043354\n",
       "high_prec_freq               20.834066\n",
       "high_prec_dur                 1.351422\n",
       "low_prec_freq               254.010328\n",
       "low_prec_dur                  5.913295\n",
       "frac_forest                   0.642056\n",
       "lai_max                       3.197595\n",
       "lai_diff                      2.426394\n",
       "gvf_max                       0.722676\n",
       "gvf_diff                      0.321593\n",
       "carbonate_rocks_frac          0.121334\n",
       "geol_permeability           -13.899063\n",
       "soil_depth_pelletier          11.01097\n",
       "soil_depth_statsgo            1.300293\n",
       "soil_porosity                 0.442605\n",
       "soil_conductivity             1.758692\n",
       "max_water_content             0.529093\n",
       "sand_frac                    36.455026\n",
       "silt_frac                    33.711467\n",
       "clay_frac                    19.750944\n",
       "Qobs                    1511247.621429\n",
       "dtype: object"
      ]
     },
     "execution_count": 13,
     "metadata": {},
     "output_type": "execute_result"
    }
   ],
   "source": [
    "mean[2:]"
   ]
  },
  {
   "cell_type": "code",
   "execution_count": 14,
   "metadata": {},
   "outputs": [],
   "source": [
    "def create_seq(x,y,seq_length):\n",
    "        num_samples, num_features = x.shape\n",
    "\n",
    "        x_new = np.zeros((num_samples - seq_length + 1, seq_length, num_features))\n",
    "        y_new = np.zeros((num_samples - seq_length + 1, 1))\n",
    "\n",
    "        for i in range(0, x_new.shape[0]):\n",
    "            x_new[i, :, :num_features] = x[i:i + seq_length, :]\n",
    "            y_new[i, :] = y[i + seq_length - 1, 0]\n",
    "            \n",
    "        return x_new.astype('float16'), y_new.astype('float16')"
   ]
  },
  {
   "cell_type": "code",
   "execution_count": 15,
   "metadata": {
    "scrolled": true
   },
   "outputs": [
    {
     "name": "stdout",
     "output_type": "stream",
     "text": [
      "1013500\n",
      "1022500\n",
      "1030500\n",
      "1031500\n",
      "1047000\n",
      "1052500\n",
      "1054200\n",
      "1055000\n",
      "1057000\n",
      "1073000\n",
      "1118300\n",
      "1123000\n",
      "1137500\n",
      "1139000\n",
      "1139800\n",
      "1142500\n",
      "1144000\n",
      "1162500\n",
      "1169000\n",
      "1170100\n",
      "1181000\n",
      "1187300\n",
      "1195100\n",
      "1333000\n",
      "1350000\n",
      "1350080\n",
      "1350140\n",
      "1365000\n",
      "1411300\n",
      "1413500\n",
      "1415000\n",
      "1434025\n",
      "1435000\n",
      "1439500\n",
      "1440000\n",
      "1440400\n",
      "1451800\n",
      "1484100\n",
      "1485500\n",
      "1486000\n",
      "1487000\n",
      "1491000\n",
      "1510000\n",
      "1516500\n",
      "1518862\n",
      "1532000\n",
      "1539000\n",
      "1543000\n",
      "1543500\n",
      "1544500\n",
      "1545600\n",
      "1547700\n",
      "1548500\n",
      "1549500\n",
      "1550000\n",
      "1552000\n",
      "1557500\n",
      "1567500\n",
      "1568000\n",
      "1580000\n",
      "1583500\n",
      "1586610\n",
      "1591400\n",
      "1594950\n",
      "1596500\n",
      "1605500\n",
      "1620500\n",
      "1632000\n",
      "1632900\n",
      "1638480\n",
      "1644000\n",
      "1658500\n",
      "1664000\n",
      "1666500\n",
      "1667500\n",
      "1669000\n",
      "1669520\n",
      "2011400\n",
      "2011460\n",
      "2013000\n",
      "2014000\n",
      "2015700\n",
      "2016000\n",
      "2017500\n",
      "2018000\n",
      "2027000\n",
      "2027500\n",
      "2028500\n",
      "2038850\n",
      "2046000\n",
      "2051000\n",
      "2051500\n",
      "2053200\n",
      "2053800\n",
      "2055100\n",
      "2056900\n",
      "2059500\n",
      "2064000\n",
      "2065500\n",
      "2069700\n",
      "2070000\n",
      "2074500\n",
      "2077200\n",
      "2081500\n",
      "2082950\n",
      "2092500\n",
      "2096846\n",
      "2108000\n",
      "2111180\n",
      "2111500\n",
      "2112120\n",
      "2112360\n",
      "2118500\n",
      "2125000\n",
      "2137727\n",
      "2140991\n",
      "2143040\n",
      "2152100\n",
      "2177000\n",
      "2178400\n",
      "2193340\n",
      "2196000\n",
      "2198100\n",
      "2202600\n",
      "2212600\n",
      "2215100\n",
      "2216180\n",
      "2221525\n",
      "2231000\n",
      "2231342\n",
      "2235200\n",
      "2245500\n",
      "2246000\n",
      "2296500\n",
      "2297155\n",
      "2297310\n",
      "2298123\n",
      "2298608\n",
      "2299950\n",
      "2300700\n",
      "2310947\n",
      "2312200\n",
      "2315500\n",
      "2324400\n",
      "2327100\n",
      "2349900\n",
      "2350900\n",
      "2361000\n",
      "2369800\n",
      "2371500\n",
      "2372250\n",
      "2374500\n",
      "2381600\n",
      "2384540\n",
      "2395120\n",
      "2408540\n",
      "2415000\n",
      "2422500\n",
      "2427250\n",
      "2430085\n",
      "2430615\n",
      "2450250\n",
      "2464000\n",
      "2464146\n",
      "2464360\n",
      "2465493\n",
      "2469800\n",
      "2472000\n",
      "2479155\n",
      "2479300\n",
      "2479560\n",
      "2481000\n",
      "3010655\n",
      "3011800\n",
      "3015500\n",
      "3021350\n",
      "3026500\n",
      "3049000\n",
      "3049800\n",
      "3050000\n",
      "3066000\n",
      "3069500\n",
      "3070500\n",
      "3078000\n",
      "3140000\n",
      "3144000\n",
      "3159540\n",
      "3161000\n",
      "3164000\n",
      "3165000\n",
      "3170000\n",
      "3173000\n",
      "3180500\n",
      "3182500\n",
      "3186500\n",
      "3213700\n",
      "3237280\n",
      "3237500\n",
      "3238500\n",
      "3241500\n",
      "3280700\n",
      "3281100\n",
      "3291780\n",
      "3300400\n",
      "3340800\n",
      "3346000\n",
      "3357350\n",
      "3364500\n",
      "3366500\n",
      "3368000\n",
      "3439000\n",
      "3450000\n",
      "3455500\n",
      "3460000\n",
      "3463300\n",
      "3473000\n",
      "3479000\n",
      "3488000\n",
      "3500000\n",
      "3504000\n",
      "3592718\n",
      "3604000\n",
      "4024430\n",
      "4027000\n",
      "4040500\n",
      "4043050\n",
      "4045500\n",
      "4056500\n",
      "4057510\n",
      "4057800\n",
      "4059500\n",
      "4063700\n",
      "4074950\n",
      "4105700\n",
      "4115265\n",
      "4122200\n",
      "4122500\n",
      "4124000\n",
      "4127918\n",
      "4127997\n",
      "4161580\n",
      "4185000\n",
      "4196800\n",
      "4197100\n",
      "4197170\n",
      "4213000\n",
      "4213075\n",
      "4221000\n",
      "4224775\n",
      "4233000\n",
      "4296000\n",
      "5056000\n",
      "5057000\n",
      "5057200\n",
      "5062500\n",
      "5087500\n",
      "5123400\n",
      "5129115\n",
      "5362000\n",
      "5393500\n",
      "5399500\n",
      "5408000\n",
      "5412500\n",
      "5413500\n",
      "5414000\n",
      "5444000\n",
      "5454000\n",
      "5458000\n",
      "5466500\n",
      "5487980\n",
      "5488200\n",
      "5489000\n",
      "5495000\n",
      "5501000\n",
      "5503800\n",
      "5507600\n",
      "5508805\n",
      "5514500\n",
      "5525500\n",
      "5556500\n",
      "5584500\n",
      "5585000\n",
      "5591550\n",
      "5592050\n",
      "5592575\n",
      "5593575\n",
      "5593900\n",
      "5595730\n",
      "6037500\n",
      "6043500\n",
      "6154410\n",
      "6188000\n",
      "6191500\n",
      "6224000\n",
      "6278300\n",
      "6280300\n",
      "6289000\n",
      "6291500\n",
      "6311000\n",
      "6339100\n",
      "6339500\n",
      "6344600\n",
      "6350000\n",
      "6352000\n",
      "6353000\n",
      "6354000\n",
      "6360500\n",
      "6404000\n",
      "6406000\n",
      "6408700\n",
      "6409000\n",
      "6431500\n",
      "6440200\n",
      "6441500\n",
      "6447000\n",
      "6447500\n",
      "6450500\n",
      "6452000\n",
      "6464500\n",
      "6468170\n",
      "6468250\n",
      "6470800\n",
      "6477500\n",
      "6479215\n",
      "6479438\n",
      "6601000\n",
      "6614800\n",
      "6622700\n",
      "6623800\n",
      "6632400\n",
      "6746095\n",
      "6784000\n",
      "6803510\n",
      "6803530\n",
      "6814000\n",
      "6847900\n",
      "6853800\n",
      "6876700\n",
      "6878000\n",
      "6879650\n",
      "6885500\n",
      "6888500\n",
      "6889500\n",
      "6892000\n",
      "6903400\n",
      "6906800\n",
      "6910800\n",
      "6911900\n",
      "6917000\n",
      "6918460\n",
      "6919500\n",
      "6921070\n",
      "6921200\n",
      "6934000\n",
      "7014500\n",
      "7056000\n",
      "7057500\n",
      "7067000\n",
      "7068000\n",
      "7071500\n",
      "7083000\n",
      "7142300\n",
      "7145700\n",
      "7148400\n",
      "7151500\n",
      "7180500\n",
      "7184000\n",
      "7195800\n",
      "7196900\n",
      "7197000\n",
      "7208500\n",
      "7226500\n",
      "7261000\n",
      "7263295\n",
      "7290650\n",
      "7291000\n",
      "7299670\n",
      "7301410\n",
      "7315200\n",
      "7315700\n",
      "7335700\n",
      "7340300\n",
      "7346045\n",
      "7359610\n",
      "7362100\n",
      "7362587\n",
      "7373000\n",
      "7375000\n",
      "7376000\n",
      "8014500\n",
      "8023080\n",
      "8025500\n",
      "8029500\n",
      "8050800\n",
      "8066200\n",
      "8066300\n",
      "8070000\n",
      "8070200\n",
      "8079600\n",
      "8082700\n",
      "8086212\n",
      "8086290\n",
      "8101000\n",
      "8103900\n",
      "8104900\n",
      "8109700\n",
      "8150800\n",
      "8155200\n",
      "8158700\n",
      "8164000\n",
      "8164600\n",
      "8165300\n",
      "8175000\n",
      "8176900\n",
      "8178880\n",
      "8189500\n",
      "8190000\n",
      "8190500\n",
      "8194200\n",
      "8195000\n",
      "8196000\n",
      "8198500\n",
      "8200000\n",
      "8202700\n",
      "8269000\n",
      "8271000\n",
      "8324000\n",
      "8377900\n",
      "8378500\n",
      "8380500\n",
      "9034900\n",
      "9035800\n",
      "9035900\n",
      "9047700\n",
      "9065500\n",
      "9066000\n",
      "9066200\n",
      "9066300\n",
      "9081600\n",
      "9107000\n",
      "9210500\n",
      "9223000\n",
      "9306242\n",
      "9312600\n",
      "9352900\n",
      "9378170\n",
      "9378630\n",
      "9386900\n",
      "9404450\n",
      "9447800\n",
      "9484000\n",
      "9484600\n",
      "9492400\n",
      "9494000\n",
      "9497800\n",
      "9497980\n",
      "9505200\n",
      "9505350\n",
      "9505800\n",
      "9510200\n",
      "9512280\n",
      "10023000\n",
      "10166430\n",
      "10172700\n",
      "10172800\n",
      "10173450\n",
      "10205030\n",
      "10234500\n",
      "10242000\n",
      "10244950\n",
      "10249300\n",
      "10258000\n",
      "10258500\n",
      "10259000\n",
      "10263500\n",
      "10310500\n",
      "10316500\n",
      "10329500\n",
      "10336660\n",
      "10336740\n",
      "10343500\n",
      "10348850\n",
      "10396000\n",
      "11098000\n",
      "11124500\n",
      "11141280\n",
      "11143000\n",
      "11148900\n",
      "11151300\n",
      "11162500\n",
      "11176400\n",
      "11224500\n",
      "11230500\n",
      "11237500\n",
      "11253310\n",
      "11264500\n",
      "11266500\n",
      "11274500\n",
      "11274630\n",
      "11299600\n",
      "11381500\n",
      "11383500\n",
      "11451100\n",
      "11468500\n",
      "11473900\n",
      "11475560\n",
      "11476600\n",
      "11478500\n",
      "11480390\n",
      "11481200\n",
      "11482500\n",
      "11522500\n",
      "11523200\n",
      "11528700\n",
      "11532500\n",
      "12010000\n",
      "12013500\n",
      "12020000\n",
      "12025000\n",
      "12025700\n",
      "12035000\n",
      "12040500\n",
      "12041200\n",
      "12043000\n",
      "12048000\n",
      "12054000\n",
      "12056500\n",
      "12073500\n",
      "12082500\n",
      "12092000\n",
      "12095000\n",
      "12114500\n",
      "12115000\n",
      "12115500\n",
      "12117000\n",
      "12141300\n",
      "12143600\n",
      "12144000\n",
      "12145500\n",
      "12147500\n",
      "12147600\n",
      "12167000\n",
      "12175500\n",
      "12178100\n",
      "12186000\n",
      "12189500\n",
      "12358500\n",
      "12374250\n",
      "12375900\n",
      "12381400\n",
      "12383500\n",
      "12388400\n",
      "12390700\n",
      "12411000\n",
      "12414500\n",
      "12447390\n",
      "12451000\n",
      "12488500\n",
      "13011500\n",
      "13011900\n",
      "13018300\n",
      "13023000\n",
      "13235000\n",
      "13240000\n",
      "13310700\n",
      "13313000\n",
      "13331500\n",
      "13337000\n",
      "13338500\n",
      "13340000\n",
      "13340600\n",
      "14020000\n",
      "14092750\n",
      "14096850\n",
      "14138800\n",
      "14138870\n",
      "14138900\n",
      "14139800\n",
      "14141500\n",
      "14154500\n",
      "14158500\n",
      "14158790\n",
      "14166500\n",
      "14182500\n",
      "14185000\n",
      "14185900\n",
      "14187000\n",
      "14216500\n",
      "14222500\n",
      "14236200\n",
      "14301000\n",
      "14303200\n",
      "14306340\n",
      "14306500\n",
      "14308990\n",
      "14309500\n",
      "14316700\n",
      "14325000\n",
      "14362250\n",
      "14400000\n",
      "1013500\n",
      "1022500\n",
      "1030500\n",
      "1031500\n",
      "1047000\n",
      "1052500\n",
      "1054200\n",
      "1055000\n",
      "1057000\n",
      "1073000\n",
      "1118300\n",
      "1123000\n",
      "1137500\n",
      "1139000\n",
      "1139800\n",
      "1142500\n",
      "1144000\n",
      "1162500\n",
      "1169000\n",
      "1170100\n",
      "1181000\n",
      "1187300\n",
      "1195100\n",
      "1333000\n",
      "1350000\n",
      "1350080\n",
      "1350140\n",
      "1365000\n",
      "1411300\n",
      "1413500\n",
      "1415000\n",
      "1434025\n",
      "1435000\n",
      "1439500\n",
      "1440000\n",
      "1440400\n",
      "1451800\n",
      "1484100\n",
      "1485500\n",
      "1486000\n",
      "1487000\n",
      "1491000\n",
      "1510000\n",
      "1516500\n",
      "1518862\n",
      "1532000\n",
      "1539000\n",
      "1543000\n",
      "1543500\n",
      "1544500\n",
      "1545600\n",
      "1547700\n",
      "1548500\n",
      "1549500\n",
      "1550000\n",
      "1552000\n",
      "1557500\n",
      "1567500\n",
      "1568000\n",
      "1580000\n",
      "1583500\n",
      "1586610\n",
      "1591400\n",
      "1594950\n",
      "1596500\n",
      "1605500\n",
      "1620500\n",
      "1632000\n",
      "1632900\n",
      "1638480\n",
      "1644000\n",
      "1658500\n",
      "1664000\n",
      "1666500\n",
      "1667500\n",
      "1669000\n",
      "1669520\n",
      "2011400\n",
      "2011460\n",
      "2013000\n",
      "2014000\n",
      "2015700\n",
      "2016000\n",
      "2017500\n",
      "2018000\n",
      "2027000\n",
      "2027500\n",
      "2028500\n",
      "2038850\n",
      "2046000\n",
      "2051000\n",
      "2051500\n",
      "2053200\n",
      "2053800\n",
      "2055100\n",
      "2056900\n",
      "2059500\n",
      "2064000\n",
      "2065500\n",
      "2069700\n",
      "2070000\n",
      "2074500\n",
      "2077200\n",
      "2081500\n",
      "2082950\n",
      "2092500\n",
      "2096846\n",
      "2108000\n",
      "2111180\n",
      "2111500\n",
      "2112120\n",
      "2112360\n",
      "2118500\n",
      "2125000\n",
      "2137727\n",
      "2140991\n",
      "2143040\n",
      "2152100\n",
      "2177000\n",
      "2178400\n",
      "2193340\n",
      "2196000\n",
      "2198100\n",
      "2202600\n",
      "2212600\n",
      "2215100\n",
      "2216180\n",
      "2221525\n",
      "2231000\n",
      "2231342\n",
      "2235200\n",
      "2245500\n",
      "2246000\n",
      "2296500\n",
      "2297155\n",
      "2297310\n",
      "2298123\n",
      "2298608\n",
      "2299950\n",
      "2300700\n",
      "2310947\n",
      "2312200\n",
      "2315500\n",
      "2324400\n",
      "2327100\n",
      "2349900\n",
      "2350900\n",
      "2361000\n",
      "2369800\n",
      "2371500\n",
      "2372250\n",
      "2374500\n",
      "2381600\n",
      "2384540\n",
      "2395120\n",
      "2408540\n",
      "2415000\n",
      "2422500\n",
      "2427250\n",
      "2430085\n",
      "2430615\n",
      "2450250\n",
      "2464000\n",
      "2464146\n",
      "2464360\n",
      "2465493\n",
      "2469800\n",
      "2472000\n",
      "2479155\n",
      "2479300\n",
      "2479560\n",
      "2481000\n",
      "3010655\n",
      "3011800\n",
      "3015500\n",
      "3021350\n",
      "3026500\n",
      "3049000\n",
      "3049800\n",
      "3050000\n",
      "3066000\n",
      "3069500\n",
      "3070500\n",
      "3078000\n",
      "3140000\n",
      "3144000\n",
      "3159540\n",
      "3161000\n",
      "3164000\n",
      "3165000\n",
      "3170000\n",
      "3173000\n",
      "3180500\n",
      "3182500\n",
      "3186500\n",
      "3213700\n",
      "3237280\n",
      "3237500\n",
      "3238500\n",
      "3241500\n",
      "3280700\n",
      "3281100\n",
      "3291780\n",
      "3300400\n",
      "3340800\n",
      "3346000\n",
      "3357350\n",
      "3364500\n",
      "3366500\n",
      "3368000\n",
      "3439000\n",
      "3450000\n",
      "3455500\n",
      "3460000\n",
      "3463300\n",
      "3473000\n",
      "3479000\n",
      "3488000\n",
      "3500000\n",
      "3504000\n",
      "3592718\n",
      "3604000\n",
      "4024430\n",
      "4027000\n",
      "4040500\n",
      "4043050\n",
      "4045500\n",
      "4056500\n",
      "4057510\n",
      "4057800\n",
      "4059500\n",
      "4063700\n",
      "4074950\n",
      "4105700\n",
      "4115265\n",
      "4122200\n",
      "4122500\n",
      "4124000\n",
      "4127918\n",
      "4127997\n",
      "4161580\n",
      "4185000\n",
      "4196800\n",
      "4197100\n",
      "4197170\n",
      "4213000\n",
      "4213075\n",
      "4221000\n",
      "4224775\n",
      "4233000\n",
      "4296000\n",
      "5056000\n",
      "5057000\n",
      "5057200\n",
      "5062500\n",
      "5087500\n",
      "5123400\n",
      "5129115\n",
      "5362000\n",
      "5393500\n",
      "5399500\n",
      "5408000\n",
      "5412500\n",
      "5413500\n",
      "5414000\n",
      "5444000\n",
      "5454000\n",
      "5458000\n",
      "5466500\n",
      "5487980\n",
      "5488200\n",
      "5489000\n",
      "5495000\n",
      "5501000\n",
      "5503800\n",
      "5507600\n",
      "5508805\n",
      "5514500\n",
      "5525500\n",
      "5556500\n",
      "5584500\n",
      "5585000\n",
      "5591550\n",
      "5592050\n",
      "5592575\n",
      "5593575\n",
      "5593900\n",
      "5595730\n",
      "6037500\n",
      "6043500\n",
      "6154410\n",
      "6188000\n",
      "6191500\n",
      "6224000\n",
      "6278300\n",
      "6280300\n",
      "6289000\n",
      "6291500\n",
      "6311000\n",
      "6339100\n",
      "6339500\n",
      "6344600\n",
      "6350000\n",
      "6352000\n",
      "6353000\n",
      "6354000\n",
      "6360500\n",
      "6404000\n",
      "6406000\n",
      "6408700\n",
      "6409000\n",
      "6431500\n",
      "6440200\n",
      "6441500\n",
      "6447000\n",
      "6447500\n",
      "6450500\n",
      "6452000\n",
      "6464500\n",
      "6468170\n",
      "6468250\n",
      "6470800\n",
      "6477500\n",
      "6479215\n",
      "6479438\n",
      "6601000\n",
      "6614800\n",
      "6622700\n",
      "6623800\n",
      "6632400\n",
      "6746095\n",
      "6784000\n",
      "6803510\n",
      "6803530\n",
      "6814000\n",
      "6847900\n",
      "6853800\n",
      "6876700\n",
      "6878000\n",
      "6879650\n",
      "6885500\n",
      "6888500\n",
      "6889500\n",
      "6892000\n",
      "6903400\n",
      "6906800\n",
      "6910800\n",
      "6911900\n",
      "6917000\n",
      "6918460\n",
      "6919500\n",
      "6921070\n",
      "6921200\n",
      "6934000\n",
      "7014500\n",
      "7056000\n",
      "7057500\n",
      "7067000\n",
      "7068000\n",
      "7071500\n",
      "7083000\n",
      "7142300\n",
      "7145700\n",
      "7148400\n",
      "7151500\n",
      "7180500\n",
      "7184000\n",
      "7195800\n",
      "7196900\n",
      "7197000\n",
      "7208500\n",
      "7226500\n",
      "7261000\n",
      "7263295\n",
      "7290650\n",
      "7291000\n",
      "7299670\n",
      "7301410\n",
      "7315200\n",
      "7315700\n",
      "7335700\n",
      "7340300\n",
      "7346045\n",
      "7359610\n",
      "7362100\n",
      "7362587\n",
      "7373000\n",
      "7375000\n",
      "7376000\n",
      "8014500\n",
      "8023080\n",
      "8025500\n",
      "8029500\n",
      "8050800\n",
      "8066200\n",
      "8066300\n",
      "8070000\n",
      "8070200\n",
      "8079600\n",
      "8082700\n",
      "8086212\n",
      "8086290\n",
      "8101000\n",
      "8103900\n",
      "8104900\n",
      "8109700\n",
      "8150800\n",
      "8155200\n",
      "8158700\n",
      "8164000\n",
      "8164600\n",
      "8165300\n",
      "8175000\n",
      "8176900\n",
      "8178880\n",
      "8189500\n",
      "8190000\n",
      "8190500\n",
      "8194200\n",
      "8195000\n",
      "8196000\n",
      "8198500\n",
      "8200000\n",
      "8202700\n",
      "8269000\n",
      "8271000\n",
      "8324000\n",
      "8377900\n",
      "8378500\n",
      "8380500\n",
      "9034900\n",
      "9035800\n",
      "9035900\n",
      "9047700\n",
      "9065500\n",
      "9066000\n",
      "9066200\n",
      "9066300\n",
      "9081600\n",
      "9107000\n",
      "9210500\n",
      "9223000\n",
      "9306242\n",
      "9312600\n",
      "9352900\n",
      "9378170\n",
      "9378630\n",
      "9386900\n",
      "9404450\n",
      "9447800\n",
      "9484000\n",
      "9484600\n",
      "9492400\n",
      "9494000\n",
      "9497800\n",
      "9497980\n",
      "9505200\n",
      "9505350\n",
      "9505800\n",
      "9510200\n",
      "9512280\n",
      "10023000\n",
      "10166430\n",
      "10172700\n",
      "10172800\n",
      "10173450\n",
      "10205030\n",
      "10234500\n",
      "10242000\n",
      "10244950\n",
      "10249300\n",
      "10258000\n",
      "10258500\n",
      "10259000\n",
      "10263500\n",
      "10310500\n",
      "10316500\n",
      "10329500\n",
      "10336660\n",
      "10336740\n",
      "10343500\n",
      "10348850\n",
      "10396000\n",
      "11098000\n",
      "11124500\n",
      "11141280\n",
      "11143000\n",
      "11148900\n",
      "11151300\n",
      "11162500\n",
      "11176400\n",
      "11224500\n",
      "11230500\n",
      "11237500\n",
      "11253310\n",
      "11264500\n",
      "11266500\n",
      "11274500\n",
      "11274630\n",
      "11299600\n",
      "11381500\n",
      "11383500\n",
      "11451100\n",
      "11468500\n",
      "11473900\n",
      "11475560\n",
      "11476600\n",
      "11478500\n",
      "11480390\n",
      "11481200\n",
      "11482500\n",
      "11522500\n",
      "11523200\n",
      "11528700\n",
      "11532500\n",
      "12010000\n",
      "12013500\n",
      "12020000\n",
      "12025000\n",
      "12025700\n",
      "12035000\n",
      "12040500\n",
      "12041200\n",
      "12043000\n",
      "12048000\n",
      "12054000\n",
      "12056500\n",
      "12073500\n",
      "12082500\n",
      "12092000\n",
      "12095000\n",
      "12114500\n",
      "12115000\n",
      "12115500\n",
      "12117000\n",
      "12141300\n",
      "12143600\n",
      "12144000\n",
      "12145500\n",
      "12147500\n",
      "12147600\n",
      "12167000\n",
      "12175500\n",
      "12178100\n",
      "12186000\n",
      "12189500\n",
      "12358500\n",
      "12374250\n",
      "12375900\n",
      "12381400\n",
      "12383500\n",
      "12388400\n",
      "12390700\n",
      "12411000\n",
      "12414500\n",
      "12447390\n",
      "12451000\n",
      "12488500\n",
      "13011500\n",
      "13011900\n",
      "13018300\n",
      "13023000\n",
      "13235000\n",
      "13240000\n",
      "13310700\n",
      "13313000\n",
      "13331500\n",
      "13337000\n",
      "13338500\n",
      "13340000\n",
      "13340600\n",
      "14020000\n",
      "14092750\n",
      "14096850\n",
      "14138800\n",
      "14138870\n",
      "14138900\n",
      "14139800\n",
      "14141500\n",
      "14154500\n",
      "14158500\n",
      "14158790\n",
      "14166500\n",
      "14182500\n",
      "14185000\n",
      "14185900\n",
      "14187000\n",
      "14216500\n",
      "14222500\n",
      "14236200\n",
      "14301000\n",
      "14303200\n",
      "14306340\n",
      "14306500\n",
      "14308990\n",
      "14309500\n",
      "14316700\n",
      "14325000\n",
      "14362250\n",
      "14400000\n"
     ]
    }
   ],
   "source": [
    "X_train = []\n",
    "y_train = []\n",
    "for idx,df in train_df.groupby('gauge_id'):\n",
    "    print(idx)\n",
    "    df = df.drop(columns=['Date','gauge_id'])\n",
    "    df = (df - mean[2:])/std[2:]\n",
    "    X = df.iloc[:,:-1].to_numpy('float32')\n",
    "    y = df.iloc[:,-1].to_numpy('float32').reshape(-1,1)\n",
    "    X,y = create_seq(X,y,270)\n",
    "    X_train.append(X)\n",
    "    y_train.append(y)\n",
    "\n",
    "X_valid = []\n",
    "y_valid = []\n",
    "for idx,df in valid_df.groupby('gauge_id'):\n",
    "    print(idx)\n",
    "    df = df.drop(columns=['Date','gauge_id'])\n",
    "    df = (df - mean[2:])/std[2:]\n",
    "    X = df.iloc[:,:-1].to_numpy('float32')\n",
    "    y = df.iloc[:,-1].to_numpy('float32').reshape(-1,1)\n",
    "    X,y = create_seq(X,y,270)\n",
    "    X_valid.append(X)\n",
    "    y_valid.append(y)"
   ]
  },
  {
   "cell_type": "code",
   "execution_count": 16,
   "metadata": {
    "scrolled": true
   },
   "outputs": [],
   "source": [
    "test_df = camels_df[camels_df.gauge_id.isin(test_basins)]"
   ]
  },
  {
   "cell_type": "code",
   "execution_count": 17,
   "metadata": {
    "scrolled": true
   },
   "outputs": [
    {
     "name": "stdout",
     "output_type": "stream",
     "text": [
      "1078000\n",
      "1121000\n",
      "1134500\n",
      "1414500\n",
      "1423000\n",
      "1466500\n",
      "1542810\n",
      "1552500\n",
      "1606500\n",
      "1613050\n",
      "1634500\n",
      "1639500\n",
      "2102908\n",
      "2128000\n",
      "2143000\n",
      "2149000\n",
      "2314500\n",
      "2342933\n",
      "2363000\n",
      "2472500\n",
      "2481510\n",
      "3028000\n",
      "3076600\n",
      "3187500\n",
      "3281500\n",
      "3285000\n",
      "3338780\n",
      "3384450\n",
      "3456500\n",
      "3471500\n",
      "3498500\n",
      "3500240\n",
      "3574500\n",
      "4015330\n",
      "4216418\n",
      "4256000\n",
      "5120500\n",
      "5131500\n",
      "5291000\n",
      "5495500\n",
      "6221400\n",
      "6332515\n",
      "6453600\n",
      "6889200\n",
      "7060710\n",
      "7066000\n",
      "7149000\n",
      "7167500\n",
      "7292500\n",
      "7295000\n",
      "7301500\n",
      "8013000\n",
      "8158810\n",
      "8164300\n",
      "8171300\n",
      "8267500\n",
      "9430500\n",
      "9430600\n",
      "9480000\n",
      "9508300\n",
      "9513780\n",
      "10259200\n",
      "10336645\n",
      "11180500\n",
      "11180960\n",
      "11284400\n",
      "12377150\n",
      "13083000\n",
      "13161500\n",
      "14137000\n",
      "14305500\n"
     ]
    }
   ],
   "source": [
    "X_test = []\n",
    "y_test = []\n",
    "for idx,df in test_df.groupby('gauge_id'):\n",
    "    print(idx)\n",
    "    df = df.drop(columns=['Date','gauge_id'])\n",
    "    df = (df - mean[2:])/std[2:]\n",
    "    X = df.iloc[:,:-1].to_numpy('float32')\n",
    "    y = df.iloc[:,-1].to_numpy('float32').reshape(-1,1)\n",
    "    X,y = create_seq(X,y,270)\n",
    "    X_test.append(X)\n",
    "    y_test.append(y)"
   ]
  },
  {
   "cell_type": "code",
   "execution_count": 18,
   "metadata": {
    "scrolled": true
   },
   "outputs": [],
   "source": [
    "X_train = np.concatenate(X_train)\n",
    "y_train = np.concatenate(y_train)\n",
    "X_valid = np.concatenate(X_valid)\n",
    "y_valid = np.concatenate(y_valid)"
   ]
  },
  {
   "cell_type": "code",
   "execution_count": 19,
   "metadata": {},
   "outputs": [],
   "source": [
    "X_test = np.concatenate(X_test)\n",
    "y_test = np.concatenate(y_test)"
   ]
  },
  {
   "cell_type": "code",
   "execution_count": 30,
   "metadata": {},
   "outputs": [
    {
     "data": {
      "text/plain": [
       "(6046988, 270, 32)"
      ]
     },
     "execution_count": 30,
     "metadata": {},
     "output_type": "execute_result"
    }
   ],
   "source": [
    "X_train.shape"
   ]
  },
  {
   "cell_type": "code",
   "execution_count": 209,
   "metadata": {},
   "outputs": [],
   "source": []
  },
  {
   "cell_type": "code",
   "execution_count": 20,
   "metadata": {},
   "outputs": [],
   "source": [
    "class CAMELS(Dataset):\n",
    "    def __init__(self,X,y=None):\n",
    "        self.X = torch.from_numpy(X.copy()).float()\n",
    "        self.y = torch.from_numpy(y.copy()).float()\n",
    "\n",
    "    def __len__(self):\n",
    "        return len(self.X)\n",
    "\n",
    "    def __getitem__(self,idx:int):\n",
    "        return self.X[idx],self.y[idx]"
   ]
  },
  {
   "cell_type": "code",
   "execution_count": 21,
   "metadata": {},
   "outputs": [],
   "source": [
    "train_data = CAMELS(X_train,y_train)\n",
    "valid_data = CAMELS(X_valid,y_valid)\n",
    "train_loader = DataLoader(train_data, batch_size=120, shuffle=True)\n",
    "valid_loader = DataLoader(valid_data, batch_size=120, shuffle=False)"
   ]
  },
  {
   "cell_type": "code",
   "execution_count": 22,
   "metadata": {},
   "outputs": [],
   "source": [
    "test_data = CAMELS(X_test,y_test)\n",
    "test_loader = DataLoader(test_data,batch_size=2000,shuffle=False)"
   ]
  },
  {
   "cell_type": "code",
   "execution_count": 79,
   "metadata": {},
   "outputs": [
    {
     "data": {
      "text/plain": [
       "64"
      ]
     },
     "execution_count": 79,
     "metadata": {},
     "output_type": "execute_result"
    }
   ],
   "source": []
  },
  {
   "cell_type": "markdown",
   "metadata": {
    "id": "c727MVFoQ5Qe"
   },
   "source": [
    "# Model\n",
    "To do:\n",
    "1) LSTM model\n",
    "2) Train and val loop\n",
    "3) Test loop"
   ]
  },
  {
   "cell_type": "code",
   "execution_count": 23,
   "metadata": {},
   "outputs": [],
   "source": [
    "class Model(nn.Module):\n",
    "    \"\"\"Implementation of a single layer LSTM network\"\"\"\n",
    "    \n",
    "    def __init__(self, hidden_size: int, dropout_rate: float=0.0):\n",
    "        \"\"\"Initialize model\n",
    "        \n",
    "        :param hidden_size: Number of hidden units/LSTM cells\n",
    "        :param dropout_rate: Dropout rate of the last fully connected\n",
    "            layer. Default 0.0\n",
    "        \"\"\"\n",
    "        super(Model, self).__init__()\n",
    "        self.hidden_size = hidden_size\n",
    "        self.dropout_rate = dropout_rate\n",
    "        \n",
    "        # create required layer\n",
    "        self.lstm = nn.LSTM(input_size=32, hidden_size=self.hidden_size, \n",
    "                            num_layers=1, bias=True, batch_first=True)\n",
    "        self.dropout = nn.Dropout(p=self.dropout_rate)\n",
    "        self.fc = nn.Linear(in_features=self.hidden_size, out_features=1)\n",
    "        \n",
    "    def forward(self, x: torch.Tensor) -> torch.Tensor:\n",
    "        \"\"\"Forward pass through the Network.\n",
    "        \n",
    "        :param x: Tensor of shape [batch size, seq length, num features]\n",
    "            containing the input data for the LSTM network.\n",
    "        \n",
    "        :return: Tensor containing the network predictions\n",
    "        \"\"\"\n",
    "        output, (h_n, c_n) = self.lstm(x)\n",
    "        \n",
    "        # perform prediction only at the end of the input sequence\n",
    "        pred = self.fc(self.dropout(h_n[-1,:,:]))\n",
    "        return pred"
   ]
  },
  {
   "cell_type": "code",
   "execution_count": 24,
   "metadata": {},
   "outputs": [],
   "source": [
    "def NSELoss(y_pred,y_true):\n",
    "    squared_error = (y_pred - y_true)**2\n",
    "    weights = 1 / (std.iloc[-1]+0.1)**2\n",
    "    scaled_loss = weights * squared_error\n",
    "    return torch.mean(scaled_loss)"
   ]
  },
  {
   "cell_type": "code",
   "execution_count": 25,
   "metadata": {},
   "outputs": [],
   "source": [
    "def train_epoch(model, optimizer, loader, loss_func, epoch):\n",
    "    \"\"\"Train model for a single epoch.\n",
    "\n",
    "    :param model: A torch.nn.Module implementing the LSTM model\n",
    "    :param optimizer: One of PyTorchs optimizer classes.\n",
    "    :param loader: A PyTorch DataLoader, providing the trainings\n",
    "        data in mini batches.\n",
    "    :param loss_func: The loss function to minimize.\n",
    "    :param epoch: The current epoch (int) used for the progress bar\n",
    "    \"\"\"\n",
    "    # set model to train mode (important for dropout)\n",
    "    model.to(DEVICE)\n",
    "    model.train()\n",
    "    pbar = tqdm.tqdm_notebook(loader)\n",
    "    pbar.set_description(f\"Epoch {epoch}\")\n",
    "    # request mini-batch of data from the loader\n",
    "    for xs, ys in pbar:\n",
    "        # delete previously stored gradients from the model\n",
    "        optimizer.zero_grad()\n",
    "        # push data to GPU (if available)\n",
    "        xs, ys = xs.to(DEVICE), ys.to(DEVICE)\n",
    "        # get model predictions\n",
    "        y_hat = model(xs)\n",
    "        # calculate loss\n",
    "        loss = loss_func(y_hat, ys)\n",
    "            \n",
    "        # calculate gradients\n",
    "        loss.backward()\n",
    "        # update the weights\n",
    "        optimizer.step()\n",
    "        # write current loss in the progress bar\n",
    "        pbar.set_postfix_str(f\"Loss: {loss.item():.4f}\")\n",
    "\n",
    "        \n",
    "def eval_model(model, loader):\n",
    "    \"\"\"Evaluate the model.\n",
    "\n",
    "    :param model: A torch.nn.Module implementing the LSTM model\n",
    "    :param loader: A PyTorch DataLoader, providing the data.\n",
    "    \n",
    "    :return: Two torch Tensors, containing the observations and \n",
    "        model predictions\n",
    "    \"\"\"\n",
    "    # set model to eval mode (important for dropout)\n",
    "    model.to(DEVICE)\n",
    "    model.eval()\n",
    "    obs = []\n",
    "    preds = []\n",
    "    # in inference mode, we don't need to store intermediate steps for\n",
    "    # backprob\n",
    "    with torch.no_grad():\n",
    "        # request mini-batch of data from the loader\n",
    "        for xs, ys in loader:\n",
    "            # push data to GPU (if available)\n",
    "            xs = xs.to(DEVICE)\n",
    "            # get model predictions\n",
    "            y_hat = model(xs)\n",
    "            obs.append(ys)\n",
    "            preds.append(y_hat)\n",
    "            \n",
    "    return torch.cat(obs), torch.cat(preds)"
   ]
  },
  {
   "cell_type": "code",
   "execution_count": 26,
   "metadata": {},
   "outputs": [
    {
     "data": {
      "text/plain": [
       "device(type='cuda', index=0)"
      ]
     },
     "execution_count": 26,
     "metadata": {},
     "output_type": "execute_result"
    }
   ],
   "source": [
    "DEVICE = torch.device(\"cuda:0\" if torch.cuda.is_available() else \"cpu\") # This line checks if GPU is available\n",
    "DEVICE"
   ]
  },
  {
   "cell_type": "code",
   "execution_count": 27,
   "metadata": {},
   "outputs": [],
   "source": [
    "model = Model(hidden_size = 128, dropout_rate= 0.4)\n",
    "optimizer = torch.optim.Adam(model.parameters(),lr=0.001)\n",
    "criterion = nn.MSELoss()"
   ]
  },
  {
   "cell_type": "code",
   "execution_count": 28,
   "metadata": {},
   "outputs": [
    {
     "name": "stderr",
     "output_type": "stream",
     "text": [
      "/state/partition1/5226480/ipykernel_81708/1064952264.py:14: TqdmDeprecationWarning: This function will be removed in tqdm==5.0.0\n",
      "Please use `tqdm.notebook.tqdm` instead of `tqdm.tqdm_notebook`\n",
      "  pbar = tqdm.tqdm_notebook(loader)\n"
     ]
    },
    {
     "data": {
      "application/vnd.jupyter.widget-view+json": {
       "model_id": "cca1903bac3e428a8244827a7f7ac702",
       "version_major": 2,
       "version_minor": 0
      },
      "text/plain": [
       "  0%|          | 0/50339 [00:00<?, ?it/s]"
      ]
     },
     "metadata": {},
     "output_type": "display_data"
    },
    {
     "data": {
      "application/vnd.jupyter.widget-view+json": {
       "model_id": "fd5fd8f49d9441c1a931b077398f3516",
       "version_major": 2,
       "version_minor": 0
      },
      "text/plain": [
       "  0%|          | 0/50339 [00:00<?, ?it/s]"
      ]
     },
     "metadata": {},
     "output_type": "display_data"
    },
    {
     "data": {
      "application/vnd.jupyter.widget-view+json": {
       "model_id": "f7abdb45bf3a4549af1c6d40cf207cf7",
       "version_major": 2,
       "version_minor": 0
      },
      "text/plain": [
       "  0%|          | 0/50339 [00:00<?, ?it/s]"
      ]
     },
     "metadata": {},
     "output_type": "display_data"
    },
    {
     "data": {
      "application/vnd.jupyter.widget-view+json": {
       "model_id": "2fb6ca1a73f04d0dbeec2cf3e0abb7e8",
       "version_major": 2,
       "version_minor": 0
      },
      "text/plain": [
       "  0%|          | 0/50339 [00:00<?, ?it/s]"
      ]
     },
     "metadata": {},
     "output_type": "display_data"
    },
    {
     "data": {
      "application/vnd.jupyter.widget-view+json": {
       "model_id": "dfe7882f2ad941b188b524bafebdb394",
       "version_major": 2,
       "version_minor": 0
      },
      "text/plain": [
       "  0%|          | 0/50339 [00:00<?, ?it/s]"
      ]
     },
     "metadata": {},
     "output_type": "display_data"
    },
    {
     "data": {
      "application/vnd.jupyter.widget-view+json": {
       "model_id": "0db631fd4d0e46f38f4c555ca97cfc79",
       "version_major": 2,
       "version_minor": 0
      },
      "text/plain": [
       "  0%|          | 0/50339 [00:00<?, ?it/s]"
      ]
     },
     "metadata": {},
     "output_type": "display_data"
    },
    {
     "data": {
      "application/vnd.jupyter.widget-view+json": {
       "model_id": "842f7bc455304b14abe635d80c389985",
       "version_major": 2,
       "version_minor": 0
      },
      "text/plain": [
       "  0%|          | 0/50339 [00:00<?, ?it/s]"
      ]
     },
     "metadata": {},
     "output_type": "display_data"
    },
    {
     "data": {
      "application/vnd.jupyter.widget-view+json": {
       "model_id": "70aecf8a7b7c4e49904be864b7ad8b4d",
       "version_major": 2,
       "version_minor": 0
      },
      "text/plain": [
       "  0%|          | 0/50339 [00:00<?, ?it/s]"
      ]
     },
     "metadata": {},
     "output_type": "display_data"
    },
    {
     "data": {
      "application/vnd.jupyter.widget-view+json": {
       "model_id": "c8304f3d42cc46f28545941fc73af2c7",
       "version_major": 2,
       "version_minor": 0
      },
      "text/plain": [
       "  0%|          | 0/50339 [00:00<?, ?it/s]"
      ]
     },
     "metadata": {},
     "output_type": "display_data"
    },
    {
     "data": {
      "application/vnd.jupyter.widget-view+json": {
       "model_id": "b29a68900ea747f29ab89a278bb3986e",
       "version_major": 2,
       "version_minor": 0
      },
      "text/plain": [
       "  0%|          | 0/50339 [00:00<?, ?it/s]"
      ]
     },
     "metadata": {},
     "output_type": "display_data"
    },
    {
     "data": {
      "application/vnd.jupyter.widget-view+json": {
       "model_id": "5ee645a13fdf4a408c5af140d6eedeab",
       "version_major": 2,
       "version_minor": 0
      },
      "text/plain": [
       "  0%|          | 0/50339 [00:00<?, ?it/s]"
      ]
     },
     "metadata": {},
     "output_type": "display_data"
    },
    {
     "data": {
      "application/vnd.jupyter.widget-view+json": {
       "model_id": "afc6f09238d84e27a5d5cfa912f7207b",
       "version_major": 2,
       "version_minor": 0
      },
      "text/plain": [
       "  0%|          | 0/50339 [00:00<?, ?it/s]"
      ]
     },
     "metadata": {},
     "output_type": "display_data"
    },
    {
     "data": {
      "application/vnd.jupyter.widget-view+json": {
       "model_id": "a1d98c4ea7a448fb82be1c3f2185bcc5",
       "version_major": 2,
       "version_minor": 0
      },
      "text/plain": [
       "  0%|          | 0/50339 [00:00<?, ?it/s]"
      ]
     },
     "metadata": {},
     "output_type": "display_data"
    },
    {
     "data": {
      "application/vnd.jupyter.widget-view+json": {
       "model_id": "44dffa081813497ab00ce7e7f157f312",
       "version_major": 2,
       "version_minor": 0
      },
      "text/plain": [
       "  0%|          | 0/50339 [00:00<?, ?it/s]"
      ]
     },
     "metadata": {},
     "output_type": "display_data"
    },
    {
     "data": {
      "application/vnd.jupyter.widget-view+json": {
       "model_id": "569ffcc54bb94b0fbc99de00d48e7d08",
       "version_major": 2,
       "version_minor": 0
      },
      "text/plain": [
       "  0%|          | 0/50339 [00:00<?, ?it/s]"
      ]
     },
     "metadata": {},
     "output_type": "display_data"
    },
    {
     "data": {
      "application/vnd.jupyter.widget-view+json": {
       "model_id": "1d4d0c7a6b9f4d099867fd763f5215fa",
       "version_major": 2,
       "version_minor": 0
      },
      "text/plain": [
       "  0%|          | 0/50339 [00:00<?, ?it/s]"
      ]
     },
     "metadata": {},
     "output_type": "display_data"
    },
    {
     "data": {
      "application/vnd.jupyter.widget-view+json": {
       "model_id": "5c5fda4ac03446e198d3089a3d8a7895",
       "version_major": 2,
       "version_minor": 0
      },
      "text/plain": [
       "  0%|          | 0/50339 [00:00<?, ?it/s]"
      ]
     },
     "metadata": {},
     "output_type": "display_data"
    },
    {
     "data": {
      "application/vnd.jupyter.widget-view+json": {
       "model_id": "60ba7b6cb95548788fdf08755be53617",
       "version_major": 2,
       "version_minor": 0
      },
      "text/plain": [
       "  0%|          | 0/50339 [00:00<?, ?it/s]"
      ]
     },
     "metadata": {},
     "output_type": "display_data"
    },
    {
     "data": {
      "application/vnd.jupyter.widget-view+json": {
       "model_id": "d334315f34994712b71a8b69064ca2c0",
       "version_major": 2,
       "version_minor": 0
      },
      "text/plain": [
       "  0%|          | 0/50339 [00:00<?, ?it/s]"
      ]
     },
     "metadata": {},
     "output_type": "display_data"
    },
    {
     "data": {
      "application/vnd.jupyter.widget-view+json": {
       "model_id": "f8b41e084a3c4e448522f8363afeda5a",
       "version_major": 2,
       "version_minor": 0
      },
      "text/plain": [
       "  0%|          | 0/50339 [00:00<?, ?it/s]"
      ]
     },
     "metadata": {},
     "output_type": "display_data"
    },
    {
     "data": {
      "application/vnd.jupyter.widget-view+json": {
       "model_id": "75cbdcf2e2454596a9c16f3732433ff0",
       "version_major": 2,
       "version_minor": 0
      },
      "text/plain": [
       "  0%|          | 0/50339 [00:00<?, ?it/s]"
      ]
     },
     "metadata": {},
     "output_type": "display_data"
    },
    {
     "data": {
      "application/vnd.jupyter.widget-view+json": {
       "model_id": "01c7456acff64abca020ed2a277a18a7",
       "version_major": 2,
       "version_minor": 0
      },
      "text/plain": [
       "  0%|          | 0/50339 [00:00<?, ?it/s]"
      ]
     },
     "metadata": {},
     "output_type": "display_data"
    },
    {
     "data": {
      "application/vnd.jupyter.widget-view+json": {
       "model_id": "2f1d60b0219240baa38a9789b9aede50",
       "version_major": 2,
       "version_minor": 0
      },
      "text/plain": [
       "  0%|          | 0/50339 [00:00<?, ?it/s]"
      ]
     },
     "metadata": {},
     "output_type": "display_data"
    },
    {
     "data": {
      "application/vnd.jupyter.widget-view+json": {
       "model_id": "a99185d43ac44e09aee32de2f4cc2dc6",
       "version_major": 2,
       "version_minor": 0
      },
      "text/plain": [
       "  0%|          | 0/50339 [00:00<?, ?it/s]"
      ]
     },
     "metadata": {},
     "output_type": "display_data"
    },
    {
     "data": {
      "application/vnd.jupyter.widget-view+json": {
       "model_id": "044f4fd2dd324d0f8bec5cef43fe1709",
       "version_major": 2,
       "version_minor": 0
      },
      "text/plain": [
       "  0%|          | 0/50339 [00:00<?, ?it/s]"
      ]
     },
     "metadata": {},
     "output_type": "display_data"
    },
    {
     "data": {
      "application/vnd.jupyter.widget-view+json": {
       "model_id": "bbbdc93694f142bbb36ca61276897e84",
       "version_major": 2,
       "version_minor": 0
      },
      "text/plain": [
       "  0%|          | 0/50339 [00:00<?, ?it/s]"
      ]
     },
     "metadata": {},
     "output_type": "display_data"
    },
    {
     "data": {
      "application/vnd.jupyter.widget-view+json": {
       "model_id": "7da15c59ce324a32bad8a0e1c8851713",
       "version_major": 2,
       "version_minor": 0
      },
      "text/plain": [
       "  0%|          | 0/50339 [00:00<?, ?it/s]"
      ]
     },
     "metadata": {},
     "output_type": "display_data"
    },
    {
     "data": {
      "application/vnd.jupyter.widget-view+json": {
       "model_id": "cb742ec69fb54942852cd3d2f2e9dc20",
       "version_major": 2,
       "version_minor": 0
      },
      "text/plain": [
       "  0%|          | 0/50339 [00:00<?, ?it/s]"
      ]
     },
     "metadata": {},
     "output_type": "display_data"
    },
    {
     "data": {
      "application/vnd.jupyter.widget-view+json": {
       "model_id": "0a88d329fc0240bba2043f67a9efbfa3",
       "version_major": 2,
       "version_minor": 0
      },
      "text/plain": [
       "  0%|          | 0/50339 [00:00<?, ?it/s]"
      ]
     },
     "metadata": {},
     "output_type": "display_data"
    },
    {
     "data": {
      "application/vnd.jupyter.widget-view+json": {
       "model_id": "a6fc2e6cde88486195f47a94da446eed",
       "version_major": 2,
       "version_minor": 0
      },
      "text/plain": [
       "  0%|          | 0/50339 [00:00<?, ?it/s]"
      ]
     },
     "metadata": {},
     "output_type": "display_data"
    },
    {
     "data": {
      "application/vnd.jupyter.widget-view+json": {
       "model_id": "cc35e2382d8746869734182c249e2079",
       "version_major": 2,
       "version_minor": 0
      },
      "text/plain": [
       "  0%|          | 0/50339 [00:00<?, ?it/s]"
      ]
     },
     "metadata": {},
     "output_type": "display_data"
    },
    {
     "data": {
      "application/vnd.jupyter.widget-view+json": {
       "model_id": "c649a6e2780545379836014fcf55424e",
       "version_major": 2,
       "version_minor": 0
      },
      "text/plain": [
       "  0%|          | 0/50339 [00:00<?, ?it/s]"
      ]
     },
     "metadata": {},
     "output_type": "display_data"
    },
    {
     "data": {
      "application/vnd.jupyter.widget-view+json": {
       "model_id": "b5d86f10402f4d499531ed0f55be4363",
       "version_major": 2,
       "version_minor": 0
      },
      "text/plain": [
       "  0%|          | 0/50339 [00:00<?, ?it/s]"
      ]
     },
     "metadata": {},
     "output_type": "display_data"
    },
    {
     "data": {
      "application/vnd.jupyter.widget-view+json": {
       "model_id": "50f8470cf16244e3b6d8b5ac2b0bea1e",
       "version_major": 2,
       "version_minor": 0
      },
      "text/plain": [
       "  0%|          | 0/50339 [00:00<?, ?it/s]"
      ]
     },
     "metadata": {},
     "output_type": "display_data"
    },
    {
     "data": {
      "application/vnd.jupyter.widget-view+json": {
       "model_id": "f187687cf54346f39d64142b73e19f7b",
       "version_major": 2,
       "version_minor": 0
      },
      "text/plain": [
       "  0%|          | 0/50339 [00:00<?, ?it/s]"
      ]
     },
     "metadata": {},
     "output_type": "display_data"
    },
    {
     "data": {
      "application/vnd.jupyter.widget-view+json": {
       "model_id": "6e52e69a179549fabc9de206cef58c96",
       "version_major": 2,
       "version_minor": 0
      },
      "text/plain": [
       "  0%|          | 0/50339 [00:00<?, ?it/s]"
      ]
     },
     "metadata": {},
     "output_type": "display_data"
    },
    {
     "data": {
      "application/vnd.jupyter.widget-view+json": {
       "model_id": "2c759fa53b3346b1be9f4ae8395e9c4d",
       "version_major": 2,
       "version_minor": 0
      },
      "text/plain": [
       "  0%|          | 0/50339 [00:00<?, ?it/s]"
      ]
     },
     "metadata": {},
     "output_type": "display_data"
    },
    {
     "data": {
      "application/vnd.jupyter.widget-view+json": {
       "model_id": "c6e4e4963fe1454c8ad03cbf58d3eeea",
       "version_major": 2,
       "version_minor": 0
      },
      "text/plain": [
       "  0%|          | 0/50339 [00:00<?, ?it/s]"
      ]
     },
     "metadata": {},
     "output_type": "display_data"
    },
    {
     "data": {
      "application/vnd.jupyter.widget-view+json": {
       "model_id": "8eb8656a781a4fdfb269847fbb1253d2",
       "version_major": 2,
       "version_minor": 0
      },
      "text/plain": [
       "  0%|          | 0/50339 [00:00<?, ?it/s]"
      ]
     },
     "metadata": {},
     "output_type": "display_data"
    },
    {
     "data": {
      "application/vnd.jupyter.widget-view+json": {
       "model_id": "f4be80c6e0e2429c9ca1766349f0507b",
       "version_major": 2,
       "version_minor": 0
      },
      "text/plain": [
       "  0%|          | 0/50339 [00:00<?, ?it/s]"
      ]
     },
     "metadata": {},
     "output_type": "display_data"
    },
    {
     "data": {
      "application/vnd.jupyter.widget-view+json": {
       "model_id": "4b16e5eb1a9a49bb95588d8fae783784",
       "version_major": 2,
       "version_minor": 0
      },
      "text/plain": [
       "  0%|          | 0/50339 [00:00<?, ?it/s]"
      ]
     },
     "metadata": {},
     "output_type": "display_data"
    },
    {
     "data": {
      "application/vnd.jupyter.widget-view+json": {
       "model_id": "d83c00106bea4fed8d6b8049d5e09db6",
       "version_major": 2,
       "version_minor": 0
      },
      "text/plain": [
       "  0%|          | 0/50339 [00:00<?, ?it/s]"
      ]
     },
     "metadata": {},
     "output_type": "display_data"
    },
    {
     "data": {
      "application/vnd.jupyter.widget-view+json": {
       "model_id": "3d722a055782476cad2078cea7b4081c",
       "version_major": 2,
       "version_minor": 0
      },
      "text/plain": [
       "  0%|          | 0/50339 [00:00<?, ?it/s]"
      ]
     },
     "metadata": {},
     "output_type": "display_data"
    },
    {
     "data": {
      "application/vnd.jupyter.widget-view+json": {
       "model_id": "2f1463c6aa944a1095ff1ca25120d1ac",
       "version_major": 2,
       "version_minor": 0
      },
      "text/plain": [
       "  0%|          | 0/50339 [00:00<?, ?it/s]"
      ]
     },
     "metadata": {},
     "output_type": "display_data"
    },
    {
     "data": {
      "application/vnd.jupyter.widget-view+json": {
       "model_id": "a88ba5f607494e97bb88d81e5ffa5ba2",
       "version_major": 2,
       "version_minor": 0
      },
      "text/plain": [
       "  0%|          | 0/50339 [00:00<?, ?it/s]"
      ]
     },
     "metadata": {},
     "output_type": "display_data"
    },
    {
     "data": {
      "application/vnd.jupyter.widget-view+json": {
       "model_id": "2f122f7903594930b11e732edb8499b6",
       "version_major": 2,
       "version_minor": 0
      },
      "text/plain": [
       "  0%|          | 0/50339 [00:00<?, ?it/s]"
      ]
     },
     "metadata": {},
     "output_type": "display_data"
    },
    {
     "data": {
      "application/vnd.jupyter.widget-view+json": {
       "model_id": "cd5643c56e144191af7d43d185c23214",
       "version_major": 2,
       "version_minor": 0
      },
      "text/plain": [
       "  0%|          | 0/50339 [00:00<?, ?it/s]"
      ]
     },
     "metadata": {},
     "output_type": "display_data"
    },
    {
     "data": {
      "application/vnd.jupyter.widget-view+json": {
       "model_id": "d625f9a30fcb460da384bad2afebfcc5",
       "version_major": 2,
       "version_minor": 0
      },
      "text/plain": [
       "  0%|          | 0/50339 [00:00<?, ?it/s]"
      ]
     },
     "metadata": {},
     "output_type": "display_data"
    },
    {
     "data": {
      "application/vnd.jupyter.widget-view+json": {
       "model_id": "6e48cbdded5f4cf7a259d588bb376b3f",
       "version_major": 2,
       "version_minor": 0
      },
      "text/plain": [
       "  0%|          | 0/50339 [00:00<?, ?it/s]"
      ]
     },
     "metadata": {},
     "output_type": "display_data"
    },
    {
     "data": {
      "application/vnd.jupyter.widget-view+json": {
       "model_id": "97f76687f4174aa28c00b88e3d345f1a",
       "version_major": 2,
       "version_minor": 0
      },
      "text/plain": [
       "  0%|          | 0/50339 [00:00<?, ?it/s]"
      ]
     },
     "metadata": {},
     "output_type": "display_data"
    },
    {
     "data": {
      "application/vnd.jupyter.widget-view+json": {
       "model_id": "faf9d393c5f445be95dff3c6030a8db1",
       "version_major": 2,
       "version_minor": 0
      },
      "text/plain": [
       "  0%|          | 0/50339 [00:00<?, ?it/s]"
      ]
     },
     "metadata": {},
     "output_type": "display_data"
    },
    {
     "data": {
      "application/vnd.jupyter.widget-view+json": {
       "model_id": "4d9cda0047c640f78d018eddfb62eb12",
       "version_major": 2,
       "version_minor": 0
      },
      "text/plain": [
       "  0%|          | 0/50339 [00:00<?, ?it/s]"
      ]
     },
     "metadata": {},
     "output_type": "display_data"
    },
    {
     "data": {
      "application/vnd.jupyter.widget-view+json": {
       "model_id": "8154467de3dc48e6a2ccb627bc227ebc",
       "version_major": 2,
       "version_minor": 0
      },
      "text/plain": [
       "  0%|          | 0/50339 [00:00<?, ?it/s]"
      ]
     },
     "metadata": {},
     "output_type": "display_data"
    },
    {
     "data": {
      "application/vnd.jupyter.widget-view+json": {
       "model_id": "4340ecbde649428b99dad824a5706b05",
       "version_major": 2,
       "version_minor": 0
      },
      "text/plain": [
       "  0%|          | 0/50339 [00:00<?, ?it/s]"
      ]
     },
     "metadata": {},
     "output_type": "display_data"
    },
    {
     "data": {
      "application/vnd.jupyter.widget-view+json": {
       "model_id": "93409030786148438f321c201d767da7",
       "version_major": 2,
       "version_minor": 0
      },
      "text/plain": [
       "  0%|          | 0/50339 [00:00<?, ?it/s]"
      ]
     },
     "metadata": {},
     "output_type": "display_data"
    },
    {
     "data": {
      "application/vnd.jupyter.widget-view+json": {
       "model_id": "4fed639431af4efcb2333db3008e89c7",
       "version_major": 2,
       "version_minor": 0
      },
      "text/plain": [
       "  0%|          | 0/50339 [00:00<?, ?it/s]"
      ]
     },
     "metadata": {},
     "output_type": "display_data"
    },
    {
     "data": {
      "application/vnd.jupyter.widget-view+json": {
       "model_id": "dba7da769338420c8df69688a742551d",
       "version_major": 2,
       "version_minor": 0
      },
      "text/plain": [
       "  0%|          | 0/50339 [00:00<?, ?it/s]"
      ]
     },
     "metadata": {},
     "output_type": "display_data"
    },
    {
     "data": {
      "application/vnd.jupyter.widget-view+json": {
       "model_id": "89e60574d2c2494c8e4c250cb6d5761e",
       "version_major": 2,
       "version_minor": 0
      },
      "text/plain": [
       "  0%|          | 0/50339 [00:00<?, ?it/s]"
      ]
     },
     "metadata": {},
     "output_type": "display_data"
    },
    {
     "data": {
      "application/vnd.jupyter.widget-view+json": {
       "model_id": "4556125859844950b75e46c613ed25ad",
       "version_major": 2,
       "version_minor": 0
      },
      "text/plain": [
       "  0%|          | 0/50339 [00:00<?, ?it/s]"
      ]
     },
     "metadata": {},
     "output_type": "display_data"
    },
    {
     "data": {
      "application/vnd.jupyter.widget-view+json": {
       "model_id": "bb70b4b8d76742d6a23c394c118a8281",
       "version_major": 2,
       "version_minor": 0
      },
      "text/plain": [
       "  0%|          | 0/50339 [00:00<?, ?it/s]"
      ]
     },
     "metadata": {},
     "output_type": "display_data"
    },
    {
     "data": {
      "application/vnd.jupyter.widget-view+json": {
       "model_id": "b1062601f5d5474b88a37555f182b1d2",
       "version_major": 2,
       "version_minor": 0
      },
      "text/plain": [
       "  0%|          | 0/50339 [00:00<?, ?it/s]"
      ]
     },
     "metadata": {},
     "output_type": "display_data"
    },
    {
     "data": {
      "application/vnd.jupyter.widget-view+json": {
       "model_id": "a4b36a0e35184d11bb43556a02d1910f",
       "version_major": 2,
       "version_minor": 0
      },
      "text/plain": [
       "  0%|          | 0/50339 [00:00<?, ?it/s]"
      ]
     },
     "metadata": {},
     "output_type": "display_data"
    },
    {
     "data": {
      "application/vnd.jupyter.widget-view+json": {
       "model_id": "5beb5e7bf83c419083c591e4dd99fded",
       "version_major": 2,
       "version_minor": 0
      },
      "text/plain": [
       "  0%|          | 0/50339 [00:00<?, ?it/s]"
      ]
     },
     "metadata": {},
     "output_type": "display_data"
    },
    {
     "data": {
      "application/vnd.jupyter.widget-view+json": {
       "model_id": "034948a6cffd4c499709c422aa8aab65",
       "version_major": 2,
       "version_minor": 0
      },
      "text/plain": [
       "  0%|          | 0/50339 [00:00<?, ?it/s]"
      ]
     },
     "metadata": {},
     "output_type": "display_data"
    },
    {
     "data": {
      "application/vnd.jupyter.widget-view+json": {
       "model_id": "2ec4948e55824034bdd5a47c167e35b1",
       "version_major": 2,
       "version_minor": 0
      },
      "text/plain": [
       "  0%|          | 0/50339 [00:00<?, ?it/s]"
      ]
     },
     "metadata": {},
     "output_type": "display_data"
    },
    {
     "data": {
      "application/vnd.jupyter.widget-view+json": {
       "model_id": "ccd1ec1d529f4f3b8e1363069217ac12",
       "version_major": 2,
       "version_minor": 0
      },
      "text/plain": [
       "  0%|          | 0/50339 [00:00<?, ?it/s]"
      ]
     },
     "metadata": {},
     "output_type": "display_data"
    },
    {
     "data": {
      "application/vnd.jupyter.widget-view+json": {
       "model_id": "de4561886ed34899a8dfb29fc3938e71",
       "version_major": 2,
       "version_minor": 0
      },
      "text/plain": [
       "  0%|          | 0/50339 [00:00<?, ?it/s]"
      ]
     },
     "metadata": {},
     "output_type": "display_data"
    },
    {
     "data": {
      "application/vnd.jupyter.widget-view+json": {
       "model_id": "1eda2d03483b451c9b7262cccf6085b8",
       "version_major": 2,
       "version_minor": 0
      },
      "text/plain": [
       "  0%|          | 0/50339 [00:00<?, ?it/s]"
      ]
     },
     "metadata": {},
     "output_type": "display_data"
    },
    {
     "data": {
      "application/vnd.jupyter.widget-view+json": {
       "model_id": "06bb2dd028be466e8e39108738b6d4c5",
       "version_major": 2,
       "version_minor": 0
      },
      "text/plain": [
       "  0%|          | 0/50339 [00:00<?, ?it/s]"
      ]
     },
     "metadata": {},
     "output_type": "display_data"
    },
    {
     "data": {
      "application/vnd.jupyter.widget-view+json": {
       "model_id": "d9e76eded1074bd2a6f66ce615fe97eb",
       "version_major": 2,
       "version_minor": 0
      },
      "text/plain": [
       "  0%|          | 0/50339 [00:00<?, ?it/s]"
      ]
     },
     "metadata": {},
     "output_type": "display_data"
    },
    {
     "data": {
      "application/vnd.jupyter.widget-view+json": {
       "model_id": "c3433d87dc3544aa93b4386d7c7d75b7",
       "version_major": 2,
       "version_minor": 0
      },
      "text/plain": [
       "  0%|          | 0/50339 [00:00<?, ?it/s]"
      ]
     },
     "metadata": {},
     "output_type": "display_data"
    },
    {
     "data": {
      "application/vnd.jupyter.widget-view+json": {
       "model_id": "510d46263b564e9cbca49cefe2238540",
       "version_major": 2,
       "version_minor": 0
      },
      "text/plain": [
       "  0%|          | 0/50339 [00:00<?, ?it/s]"
      ]
     },
     "metadata": {},
     "output_type": "display_data"
    },
    {
     "data": {
      "application/vnd.jupyter.widget-view+json": {
       "model_id": "66ff3ecff5cf44c587bf208dd5b24731",
       "version_major": 2,
       "version_minor": 0
      },
      "text/plain": [
       "  0%|          | 0/50339 [00:00<?, ?it/s]"
      ]
     },
     "metadata": {},
     "output_type": "display_data"
    },
    {
     "data": {
      "application/vnd.jupyter.widget-view+json": {
       "model_id": "a59c2d74d2c44c76a19b9fec976294e9",
       "version_major": 2,
       "version_minor": 0
      },
      "text/plain": [
       "  0%|          | 0/50339 [00:00<?, ?it/s]"
      ]
     },
     "metadata": {},
     "output_type": "display_data"
    },
    {
     "data": {
      "application/vnd.jupyter.widget-view+json": {
       "model_id": "4ca7dccc03404860a60a1f16549da1ac",
       "version_major": 2,
       "version_minor": 0
      },
      "text/plain": [
       "  0%|          | 0/50339 [00:00<?, ?it/s]"
      ]
     },
     "metadata": {},
     "output_type": "display_data"
    },
    {
     "data": {
      "application/vnd.jupyter.widget-view+json": {
       "model_id": "c45c46aca8a64a098fd3de3f54ccfa87",
       "version_major": 2,
       "version_minor": 0
      },
      "text/plain": [
       "  0%|          | 0/50339 [00:00<?, ?it/s]"
      ]
     },
     "metadata": {},
     "output_type": "display_data"
    },
    {
     "data": {
      "application/vnd.jupyter.widget-view+json": {
       "model_id": "41815ca0a8af40c58aa7d73bcab62f3b",
       "version_major": 2,
       "version_minor": 0
      },
      "text/plain": [
       "  0%|          | 0/50339 [00:00<?, ?it/s]"
      ]
     },
     "metadata": {},
     "output_type": "display_data"
    },
    {
     "data": {
      "application/vnd.jupyter.widget-view+json": {
       "model_id": "df7d11abb1c94e89b42c351d854c213d",
       "version_major": 2,
       "version_minor": 0
      },
      "text/plain": [
       "  0%|          | 0/50339 [00:00<?, ?it/s]"
      ]
     },
     "metadata": {},
     "output_type": "display_data"
    },
    {
     "data": {
      "application/vnd.jupyter.widget-view+json": {
       "model_id": "71d3798c9e9b4defb084fc5fab6f261e",
       "version_major": 2,
       "version_minor": 0
      },
      "text/plain": [
       "  0%|          | 0/50339 [00:00<?, ?it/s]"
      ]
     },
     "metadata": {},
     "output_type": "display_data"
    },
    {
     "data": {
      "application/vnd.jupyter.widget-view+json": {
       "model_id": "6dd1752e8d0142acb90a752bc9b1c421",
       "version_major": 2,
       "version_minor": 0
      },
      "text/plain": [
       "  0%|          | 0/50339 [00:00<?, ?it/s]"
      ]
     },
     "metadata": {},
     "output_type": "display_data"
    },
    {
     "data": {
      "application/vnd.jupyter.widget-view+json": {
       "model_id": "713b894e73594daab6bff408f70027ae",
       "version_major": 2,
       "version_minor": 0
      },
      "text/plain": [
       "  0%|          | 0/50339 [00:00<?, ?it/s]"
      ]
     },
     "metadata": {},
     "output_type": "display_data"
    },
    {
     "data": {
      "application/vnd.jupyter.widget-view+json": {
       "model_id": "c7b34e609f3343d6ab344325214bfd51",
       "version_major": 2,
       "version_minor": 0
      },
      "text/plain": [
       "  0%|          | 0/50339 [00:00<?, ?it/s]"
      ]
     },
     "metadata": {},
     "output_type": "display_data"
    },
    {
     "data": {
      "application/vnd.jupyter.widget-view+json": {
       "model_id": "4931772e489643df98a72e10555e0030",
       "version_major": 2,
       "version_minor": 0
      },
      "text/plain": [
       "  0%|          | 0/50339 [00:00<?, ?it/s]"
      ]
     },
     "metadata": {},
     "output_type": "display_data"
    },
    {
     "data": {
      "application/vnd.jupyter.widget-view+json": {
       "model_id": "d4f57e61ae984bdc8fbede6a4d027175",
       "version_major": 2,
       "version_minor": 0
      },
      "text/plain": [
       "  0%|          | 0/50339 [00:00<?, ?it/s]"
      ]
     },
     "metadata": {},
     "output_type": "display_data"
    },
    {
     "data": {
      "application/vnd.jupyter.widget-view+json": {
       "model_id": "c49c163b29c3493386ca453e6ac3ded1",
       "version_major": 2,
       "version_minor": 0
      },
      "text/plain": [
       "  0%|          | 0/50339 [00:00<?, ?it/s]"
      ]
     },
     "metadata": {},
     "output_type": "display_data"
    },
    {
     "data": {
      "application/vnd.jupyter.widget-view+json": {
       "model_id": "8ea7ea6bb1a745b5a52bbfc4c3fc94fd",
       "version_major": 2,
       "version_minor": 0
      },
      "text/plain": [
       "  0%|          | 0/50339 [00:00<?, ?it/s]"
      ]
     },
     "metadata": {},
     "output_type": "display_data"
    },
    {
     "data": {
      "application/vnd.jupyter.widget-view+json": {
       "model_id": "6526b79e69cf47ae8479a617ac2115cd",
       "version_major": 2,
       "version_minor": 0
      },
      "text/plain": [
       "  0%|          | 0/50339 [00:00<?, ?it/s]"
      ]
     },
     "metadata": {},
     "output_type": "display_data"
    },
    {
     "data": {
      "application/vnd.jupyter.widget-view+json": {
       "model_id": "2a4f62e408b349bbb8d418dba340550b",
       "version_major": 2,
       "version_minor": 0
      },
      "text/plain": [
       "  0%|          | 0/50339 [00:00<?, ?it/s]"
      ]
     },
     "metadata": {},
     "output_type": "display_data"
    },
    {
     "data": {
      "application/vnd.jupyter.widget-view+json": {
       "model_id": "adc04ed9719041cbba9b76839877da39",
       "version_major": 2,
       "version_minor": 0
      },
      "text/plain": [
       "  0%|          | 0/50339 [00:00<?, ?it/s]"
      ]
     },
     "metadata": {},
     "output_type": "display_data"
    },
    {
     "data": {
      "application/vnd.jupyter.widget-view+json": {
       "model_id": "1943c3ece04b49b3aaa849cb3062ed92",
       "version_major": 2,
       "version_minor": 0
      },
      "text/plain": [
       "  0%|          | 0/50339 [00:00<?, ?it/s]"
      ]
     },
     "metadata": {},
     "output_type": "display_data"
    },
    {
     "data": {
      "application/vnd.jupyter.widget-view+json": {
       "model_id": "e7447fd2c4b74a2ca717fe74a4def617",
       "version_major": 2,
       "version_minor": 0
      },
      "text/plain": [
       "  0%|          | 0/50339 [00:00<?, ?it/s]"
      ]
     },
     "metadata": {},
     "output_type": "display_data"
    },
    {
     "data": {
      "application/vnd.jupyter.widget-view+json": {
       "model_id": "79b878630a4d44dba7aa50aeb6a5e8e1",
       "version_major": 2,
       "version_minor": 0
      },
      "text/plain": [
       "  0%|          | 0/50339 [00:00<?, ?it/s]"
      ]
     },
     "metadata": {},
     "output_type": "display_data"
    },
    {
     "data": {
      "application/vnd.jupyter.widget-view+json": {
       "model_id": "7c527bde661b4bde94499a26a6677552",
       "version_major": 2,
       "version_minor": 0
      },
      "text/plain": [
       "  0%|          | 0/50339 [00:00<?, ?it/s]"
      ]
     },
     "metadata": {},
     "output_type": "display_data"
    },
    {
     "data": {
      "application/vnd.jupyter.widget-view+json": {
       "model_id": "9b18a1c616c64a4c8869d1a1f4339200",
       "version_major": 2,
       "version_minor": 0
      },
      "text/plain": [
       "  0%|          | 0/50339 [00:00<?, ?it/s]"
      ]
     },
     "metadata": {},
     "output_type": "display_data"
    },
    {
     "data": {
      "application/vnd.jupyter.widget-view+json": {
       "model_id": "b3f44d047b3844b39267c55edc4bef46",
       "version_major": 2,
       "version_minor": 0
      },
      "text/plain": [
       "  0%|          | 0/50339 [00:00<?, ?it/s]"
      ]
     },
     "metadata": {},
     "output_type": "display_data"
    },
    {
     "data": {
      "application/vnd.jupyter.widget-view+json": {
       "model_id": "d90a05586c51457e9ebde6a39eee35a5",
       "version_major": 2,
       "version_minor": 0
      },
      "text/plain": [
       "  0%|          | 0/50339 [00:00<?, ?it/s]"
      ]
     },
     "metadata": {},
     "output_type": "display_data"
    },
    {
     "data": {
      "application/vnd.jupyter.widget-view+json": {
       "model_id": "61b8add93f8944d9a095bf70dbc2f488",
       "version_major": 2,
       "version_minor": 0
      },
      "text/plain": [
       "  0%|          | 0/50339 [00:00<?, ?it/s]"
      ]
     },
     "metadata": {},
     "output_type": "display_data"
    },
    {
     "data": {
      "application/vnd.jupyter.widget-view+json": {
       "model_id": "88baa815d8454eb2bfb626888761e0c0",
       "version_major": 2,
       "version_minor": 0
      },
      "text/plain": [
       "  0%|          | 0/50339 [00:00<?, ?it/s]"
      ]
     },
     "metadata": {},
     "output_type": "display_data"
    },
    {
     "data": {
      "application/vnd.jupyter.widget-view+json": {
       "model_id": "65b0fb6ddd314e9babab739d88e91c42",
       "version_major": 2,
       "version_minor": 0
      },
      "text/plain": [
       "  0%|          | 0/50339 [00:00<?, ?it/s]"
      ]
     },
     "metadata": {},
     "output_type": "display_data"
    },
    {
     "data": {
      "application/vnd.jupyter.widget-view+json": {
       "model_id": "cfd00b7ef0bd49d48ba71cbacaa0abb9",
       "version_major": 2,
       "version_minor": 0
      },
      "text/plain": [
       "  0%|          | 0/50339 [00:00<?, ?it/s]"
      ]
     },
     "metadata": {},
     "output_type": "display_data"
    }
   ],
   "source": [
    "n_epochs = 100 # Number of training epochs\n",
    "\n",
    "for i in range(n_epochs):\n",
    "    train_epoch(model, optimizer, train_loader, criterion, i+1)"
   ]
  },
  {
   "cell_type": "code",
   "execution_count": 29,
   "metadata": {},
   "outputs": [],
   "source": [
    "obs, preds = eval_model(model, valid_loader)\n",
    "obs = obs.detach().to('cpu').numpy()\n",
    "preds = preds.detach().to('cpu').numpy()"
   ]
  },
  {
   "cell_type": "code",
   "execution_count": 30,
   "metadata": {},
   "outputs": [],
   "source": [
    "obs = (obs*std.iloc[-1])+mean.iloc[-1]\n",
    "preds = (preds*std.iloc[-1])+mean.iloc[-1]"
   ]
  },
  {
   "cell_type": "code",
   "execution_count": 31,
   "metadata": {},
   "outputs": [],
   "source": [
    "pred_df = valid_df.groupby('gauge_id').tail(-269)\n",
    "pred_df = pred_df[['Date','gauge_id']]\n",
    "pred_df['Qobs'] = obs.flatten()\n",
    "pred_df['Qsim'] = preds.flatten()"
   ]
  },
  {
   "cell_type": "code",
   "execution_count": null,
   "metadata": {},
   "outputs": [],
   "source": [
    "pred_df"
   ]
  },
  {
   "cell_type": "code",
   "execution_count": 32,
   "metadata": {},
   "outputs": [],
   "source": [
    "pred_df.to_csv('/bighome/nkarki/lstm_preds_all_100.csv')"
   ]
  },
  {
   "cell_type": "code",
   "execution_count": 40,
   "metadata": {},
   "outputs": [],
   "source": [
    "pred_df = pd.read_csv('/bighome/nkarki/lstm_preds_all_100.csv')"
   ]
  },
  {
   "cell_type": "code",
   "execution_count": 41,
   "metadata": {},
   "outputs": [],
   "source": [
    "def calc_nse(obs, sim):\n",
    "    denominator = np.sum((obs - np.mean(obs)) ** 2)\n",
    "    numerator = np.sum((sim - obs) ** 2)\n",
    "    nse_val = 1 - numerator / denominator\n",
    "\n",
    "    return nse_val"
   ]
  },
  {
   "cell_type": "code",
   "execution_count": 42,
   "metadata": {
    "scrolled": true
   },
   "outputs": [
    {
     "name": "stdout",
     "output_type": "stream",
     "text": [
      "1013500 0.7130600568990177\n",
      "1022500 0.7520838333623767\n",
      "1030500 0.7070525113639305\n",
      "1031500 0.776310980217531\n",
      "1047000 0.7585205031979714\n",
      "1052500 0.7978367795355309\n",
      "1054200 0.6829113315373356\n",
      "1055000 0.6802042506101187\n",
      "1057000 0.7360100314955308\n",
      "1073000 0.7730042310940364\n",
      "1118300 0.7266643569581717\n",
      "1123000 0.7518308271998501\n",
      "1137500 0.7359242844995246\n",
      "1139000 0.6973914625906992\n",
      "1139800 0.6441284307477451\n",
      "1142500 0.6712183473547098\n",
      "1144000 0.730280023180949\n",
      "1162500 0.7228195548020135\n",
      "1169000 0.7466143291490525\n",
      "1170100 0.7717372341753397\n",
      "1181000 0.7410244722641295\n",
      "1187300 0.7774289041184068\n",
      "1195100 0.7152146394295182\n",
      "1333000 0.7540865995020075\n",
      "1350000 0.7641044741581697\n",
      "1350080 0.6805181227144483\n",
      "1350140 0.6651063555126897\n",
      "1365000 0.8039752688082502\n",
      "1411300 0.584531693584401\n",
      "1413500 0.7844888146370416\n",
      "1415000 0.7702879612478277\n",
      "1434025 0.7836894798628444\n",
      "1435000 0.8006714516432373\n",
      "1439500 0.7066803408059914\n",
      "1440000 0.7431251823324003\n",
      "1440400 0.7756965237509315\n",
      "1451800 0.5701088035220692\n",
      "1484100 0.4994159978816779\n",
      "1485500 0.5555113458560168\n",
      "1486000 0.6322815692190149\n",
      "1487000 0.5387544801376845\n",
      "1491000 0.5128482417064333\n",
      "1510000 0.7672710090289331\n",
      "1516500 0.6934472661867912\n",
      "1518862 0.7300235704449924\n",
      "1532000 0.7784818600388974\n",
      "1539000 0.8037161807785927\n",
      "1543000 0.7635597253172925\n",
      "1543500 0.7611160278419233\n",
      "1544500 0.7410224453873462\n",
      "1545600 0.7151205415401142\n",
      "1547700 0.7369011599946962\n",
      "1548500 0.8001957027132127\n",
      "1549500 0.7815847780849481\n",
      "1550000 0.8192024717452563\n",
      "1552000 0.7962545348223552\n",
      "1557500 0.7492275835997457\n",
      "1567500 0.5116940598198778\n",
      "1568000 0.690226224866068\n",
      "1580000 0.49023883144978364\n",
      "1583500 0.5089880121696237\n",
      "1586610 0.44358764196833556\n",
      "1591400 0.34046240188784505\n",
      "1594950 0.6641299442313242\n",
      "1596500 0.7511475052723809\n",
      "1605500 0.6819873166683903\n",
      "1620500 0.5769140933292083\n",
      "1632000 0.6831138556950456\n",
      "1632900 0.4324319024691877\n",
      "1638480 0.5514133158411424\n",
      "1644000 0.6270607973590019\n",
      "1658500 0.5411480361268636\n",
      "1664000 0.7199310391542454\n",
      "1666500 0.6951237050656702\n",
      "1667500 0.6764625525451335\n",
      "1669000 0.44226411957824163\n",
      "1669520 0.3655208968690197\n",
      "2011400 0.796330472614112\n",
      "2011460 0.7648209080136338\n",
      "2013000 0.724734629030555\n",
      "2014000 0.7748643287408958\n",
      "2015700 0.7466088427724543\n",
      "2016000 0.7719390974549915\n",
      "2017500 0.780729825464054\n",
      "2018000 0.7551023849928661\n",
      "2027000 0.7547259976140714\n",
      "2027500 0.6812423003410135\n",
      "2028500 0.7270394657564663\n",
      "2038850 0.6495475982010406\n",
      "2046000 0.6813627735242941\n",
      "2051000 0.5258406755911953\n",
      "2051500 0.7119697799339273\n",
      "2053200 0.5470516710062883\n",
      "2053800 0.6838744373695629\n",
      "2055100 0.3767422472344367\n",
      "2056900 0.6842447965870333\n",
      "2059500 0.5054318753946394\n",
      "2064000 0.6249284795768157\n",
      "2065500 0.5211912301766319\n",
      "2069700 0.6004480151240732\n",
      "2070000 0.6148310870339645\n",
      "2074500 0.620843096392078\n",
      "2077200 0.5434208088652634\n",
      "2081500 0.5690072779026059\n",
      "2082950 0.6180404383284599\n",
      "2092500 0.5772409819158036\n",
      "2096846 0.5849160997967591\n",
      "2108000 0.6325146197724694\n",
      "2111180 0.7512235457575253\n",
      "2111500 0.6602748526201246\n",
      "2112120 0.6951739349184827\n",
      "2112360 0.5443981029827683\n",
      "2118500 0.6512971332726443\n",
      "2125000 0.6621494719828637\n",
      "2137727 0.7743024324726833\n",
      "2140991 0.789121551209385\n",
      "2143040 0.7312086009198048\n",
      "2152100 0.62942636009366\n",
      "2177000 0.7459882785536001\n",
      "2178400 0.7982776221124193\n",
      "2193340 0.6559568726362496\n",
      "2196000 0.7503112077691613\n",
      "2198100 0.5349506578755708\n",
      "2202600 0.61152753688577\n",
      "2212600 0.712899017719907\n",
      "2215100 0.6189883920833315\n",
      "2216180 0.6715427737503761\n",
      "2221525 0.71268244226856\n",
      "2231000 0.7178968276593715\n",
      "2231342 0.4888123961422124\n",
      "2235200 0.03988464110172951\n",
      "2245500 0.5423394843256089\n",
      "2246000 0.6628317317020662\n",
      "2296500 0.6022978927915633\n",
      "2297155 0.5272811051795625\n",
      "2297310 0.6190468240313545\n",
      "2298123 0.43718738156813897\n",
      "2298608 0.609597631716243\n",
      "2299950 0.5155753942227383\n",
      "2300700 0.44210705773579095\n",
      "2310947 0.5266895732647229\n",
      "2312200 0.25762788750423615\n",
      "2315500 0.5252062471491141\n",
      "2324400 0.19031356899582863\n",
      "2327100 0.48145934666177503\n",
      "2349900 0.4051167208399552\n",
      "2350900 0.6975787230824478\n",
      "2361000 0.7149665692608721\n",
      "2369800 0.5400860457372811\n",
      "2371500 0.7151139566769935\n",
      "2372250 0.6830285655467234\n",
      "2374500 0.7137025024694148\n",
      "2381600 0.5907092424038892\n",
      "2384540 0.7788514194015206\n",
      "2395120 0.6472555842185037\n",
      "2408540 0.7354261597733973\n",
      "2415000 0.7553977887210876\n",
      "2422500 0.7372043492445359\n",
      "2427250 0.725580294857413\n",
      "2430085 0.7884149164432782\n",
      "2430615 0.6919364801292882\n",
      "2450250 0.7729485866869071\n",
      "2464000 0.7787403959568371\n",
      "2464146 0.6677111898339938\n",
      "2464360 0.6981033292512404\n",
      "2465493 0.6110538459440094\n",
      "2469800 0.7816445476254301\n",
      "2472000 0.7547043062376217\n",
      "2479155 0.6440033052466104\n",
      "2479300 0.7153779685344681\n",
      "2479560 0.7081308515166826\n",
      "2481000 0.6611708630739277\n",
      "3010655 0.6908747430540196\n",
      "3011800 0.7259924779841016\n",
      "3015500 0.7273927724374483\n",
      "3021350 0.6799127895808773\n",
      "3026500 0.6817105026710164\n",
      "3049000 0.5960812623344596\n",
      "3049800 0.47327877686890696\n",
      "3050000 0.6937303202307918\n",
      "3066000 0.706439069929012\n",
      "3069500 0.741439609616686\n",
      "3070500 0.7325643902090573\n",
      "3078000 0.7118219793006468\n",
      "3140000 0.45395351756207125\n",
      "3144000 0.4875297787731705\n",
      "3159540 0.6237430224474135\n",
      "3161000 0.781549870214116\n",
      "3164000 0.7952535005406388\n",
      "3165000 0.6788019339382584\n",
      "3170000 0.7006356198303456\n",
      "3173000 0.6812663535266699\n",
      "3180500 0.7443659400643188\n",
      "3182500 0.7682722313193627\n",
      "3186500 0.715824617033034\n",
      "3213700 0.6770216697780446\n",
      "3237280 0.43479285335936024\n",
      "3237500 0.6507566989283676\n",
      "3238500 0.5177392918154727\n",
      "3241500 0.35700388313095766\n",
      "3280700 0.7057971268920478\n",
      "3281100 0.7135145188134603\n",
      "3291780 0.588888897186389\n",
      "3300400 0.7426644448669973\n",
      "3340800 0.43692535604064286\n",
      "3346000 0.05199722081741176\n",
      "3357350 0.5800220841032868\n",
      "3364500 0.4977987382523027\n",
      "3366500 0.5317306484180024\n",
      "3368000 0.5000155048825483\n",
      "3439000 0.696479873433352\n",
      "3450000 0.7317555200688122\n",
      "3455500 0.6751480240802115\n",
      "3460000 0.7987194442365324\n",
      "3463300 0.6593699827363595\n",
      "3473000 0.7276373676913754\n",
      "3479000 0.714296489825099\n",
      "3488000 0.6695368115250138\n",
      "3500000 0.7740271453779876\n",
      "3504000 0.6922248638763936\n",
      "3592718 0.6398300084776358\n",
      "3604000 0.6853593589820857\n",
      "4024430 0.5790265919060834\n",
      "4027000 0.7198495909443693\n",
      "4040500 0.7127316428436414\n",
      "4043050 0.597960346401933\n",
      "4045500 0.4174993578951045\n",
      "4056500 0.5859811388854606\n",
      "4057510 0.5815310509389625\n",
      "4057800 0.7445809078750183\n",
      "4059500 0.704094219406233\n",
      "4063700 0.5453756200678312\n",
      "4074950 0.6418273349648992\n",
      "4105700 0.4930128458559947\n",
      "4115265 0.4013420368349849\n",
      "4122200 0.5638325328216063\n",
      "4122500 0.48475554363957774\n",
      "4124000 0.02940123783320192\n",
      "4127918 0.5983147855465776\n",
      "4127997 -0.25477450539815494\n",
      "4161580 -0.08653773158164624\n",
      "4185000 0.4527629480693085\n",
      "4196800 0.06675429298772395\n",
      "4197100 0.24144241371240094\n",
      "4197170 0.40858746304890725\n",
      "4213000 0.4220815158962452\n",
      "4213075 0.2882857364707926\n",
      "4221000 0.7209707138826236\n",
      "4224775 0.6185907544228475\n",
      "4233000 0.6102490064408845\n",
      "4296000 0.6528096031429169\n",
      "5056000 -0.9974335827357419\n",
      "5057000 -0.8874346588526365\n",
      "5057200 -1.5659828785667913\n",
      "5062500 0.3774762184303748\n",
      "5087500 0.3877222961248372\n",
      "5123400 -1.1205494756368335\n",
      "5129115 0.4841066507290205\n",
      "5362000 0.7464113470219373\n",
      "5393500 0.6252705637377198\n",
      "5399500 0.3456820115008933\n",
      "5408000 -0.17697385158167123\n",
      "5412500 0.22432339872206186\n",
      "5413500 -0.2804638959917294\n",
      "5414000 0.053066396608703936\n",
      "5444000 -0.5270743288991269\n",
      "5454000 0.32762395697266533\n",
      "5458000 0.09600172299064602\n",
      "5466500 -0.15058640584698657\n",
      "5487980 0.49930814093529274\n",
      "5488200 0.5371231008646844\n",
      "5489000 0.555717918286946\n",
      "5495000 0.4152735027867068\n",
      "5501000 0.505616299700361\n",
      "5503800 0.48445538946845423\n",
      "5507600 -0.06053742651210525\n",
      "5508805 0.479009707233918\n",
      "5514500 0.5525391195662804\n",
      "5525500 0.22797696393862432\n",
      "5556500 0.010736051690678261\n",
      "5584500 0.06235309915557785\n",
      "5585000 -0.11829824627182295\n",
      "5591550 0.33259889231984097\n",
      "5592050 0.34943834881014213\n",
      "5592575 0.4896720887360202\n",
      "5593575 0.4033514258958626\n",
      "5593900 0.39807591461881064\n",
      "5595730 0.5297873659176038\n",
      "6037500 -0.40012503721471804\n",
      "6043500 0.77792170004268\n",
      "6154410 -0.2950013920352119\n",
      "6188000 0.6647891323283648\n",
      "6191500 0.7210677561477306\n",
      "6224000 0.7431424391596151\n",
      "6278300 0.8139537902642665\n",
      "6280300 0.7076686419745413\n",
      "6289000 0.7539096494287442\n",
      "6291500 0.41495345940652073\n",
      "6311000 0.7111324112194257\n",
      "6339100 -1.3307138632027433\n",
      "6339500 -0.5773301382468519\n",
      "6344600 -1.0641590319439977\n",
      "6350000 -0.7329581691763882\n",
      "6352000 -0.6378476533894857\n",
      "6353000 -0.20068341233201914\n",
      "6354000 -0.12925104206652116\n",
      "6360500 -0.42111047897262477\n",
      "6404000 0.5037294874134104\n",
      "6406000 -0.08653941724210168\n",
      "6408700 -2.5795970232810226\n",
      "6409000 -4.262133064719036\n",
      "6431500 0.3663158929144873\n",
      "6440200 0.10221797662035892\n",
      "6441500 -0.5689129742692334\n",
      "6447000 -2.2250643151540914\n",
      "6447500 -1.573320684188598\n",
      "6450500 -0.7458173884397217\n",
      "6452000 -3.6706317030287865\n",
      "6464500 -0.6962080061101608\n",
      "6468170 -0.3049392369767727\n",
      "6468250 -0.1934767136688067\n",
      "6470800 -4.484213498736443\n",
      "6477500 -0.03437751461376881\n",
      "6479215 0.11538591566230616\n",
      "6479438 -0.02715150837705438\n",
      "6601000 -1.5966989467270087\n",
      "6614800 0.8070928163964581\n",
      "6622700 0.8260664010817753\n",
      "6623800 0.76222976652439\n",
      "6632400 0.8658554050058601\n",
      "6746095 0.760982006686661\n",
      "6784000 -4.576804960451589\n",
      "6803510 0.24728838885833115\n",
      "6803530 0.12596457778264414\n",
      "6814000 0.3909791778665873\n",
      "6847900 -88.08610732319141\n",
      "6853800 -1.770645965796136\n",
      "6876700 0.17300252595335153\n",
      "6878000 0.47974595204083637\n",
      "6879650 0.207668620190539\n",
      "6885500 0.37756623555954516\n",
      "6888500 0.4896198229307873\n",
      "6889500 0.4279739532467749\n",
      "6892000 0.3495967997674361\n",
      "6903400 0.3782964887912845\n",
      "6906800 0.6345793857751292\n",
      "6910800 0.4837114751685052\n",
      "6911900 0.47502749577197545\n",
      "6917000 0.6651665891528685\n",
      "6918460 0.20343113671749657\n",
      "6919500 0.7009629207654797\n",
      "6921070 0.6093437699074518\n",
      "6921200 0.5906942940428692\n",
      "6934000 -0.11528669457216156\n",
      "7014500 0.7042686114263047\n",
      "7056000 0.7731072409569302\n",
      "7057500 0.4757409350496542\n",
      "7067000 0.6291675421191242\n",
      "7068000 0.6922330568311972\n",
      "7071500 -0.5605690959407468\n",
      "7083000 0.6806887045281813\n",
      "7142300 -50.59168032790696\n",
      "7145700 0.49223771770413394\n",
      "7148400 0.01710470272619702\n",
      "7151500 0.49770227911710563\n",
      "7180500 0.5093147653631114\n",
      "7184000 0.6075583775011353\n",
      "7195800 0.16488194415807933\n",
      "7196900 0.7116709464929043\n",
      "7197000 0.5159195680192037\n",
      "7208500 0.1627777539601999\n",
      "7226500 -5.190375358451235\n",
      "7261000 0.708900749389433\n",
      "7263295 0.7618536741440589\n",
      "7290650 0.6627634346040645\n",
      "7291000 0.6509020330017696\n",
      "7299670 0.3587915833992603\n",
      "7301410 -9.224881203084973\n",
      "7315200 0.4767109883632069\n",
      "7315700 0.648834741412518\n",
      "7335700 0.6662311100098639\n",
      "7340300 0.7492544223820663\n",
      "7346045 0.6152143565474337\n",
      "7359610 0.7095735038253064\n",
      "7362100 0.5992081661991517\n",
      "7362587 0.6383026257499608\n",
      "7373000 0.5765663485990362\n",
      "7375000 0.5394372809522041\n",
      "7376000 0.5841648212490771\n",
      "8014500 0.7076079682595215\n",
      "8023080 0.6877434540628261\n",
      "8025500 0.7100494156241828\n",
      "8029500 0.4669959987004463\n",
      "8050800 0.45790421576920026\n",
      "8066200 0.4937331112254837\n",
      "8066300 0.5234846991961708\n",
      "8070000 0.5380432454643744\n",
      "8070200 0.5098065656158592\n",
      "8079600 -0.05949930935327097\n",
      "8082700 0.12042304544658478\n",
      "8086212 0.2837549270937738\n",
      "8086290 0.2884479394271591\n",
      "8101000 0.5014574467864445\n",
      "8103900 0.42241734194268465\n",
      "8104900 0.40121294178178746\n",
      "8109700 0.513596063892582\n",
      "8150800 0.2990247184104956\n",
      "8155200 0.5686245565065462\n",
      "8158700 0.5112637102110139\n",
      "8164000 0.436591811617419\n",
      "8164600 0.45930589702861113\n",
      "8165300 0.20389023400887352\n",
      "8175000 0.24503530009801167\n",
      "8176900 0.36982915609708467\n",
      "8178880 0.5742338126718217\n",
      "8189500 0.04228835216065219\n",
      "8190000 0.32575035281489906\n",
      "8190500 0.2062241083488775\n",
      "8194200 -0.4568979224222889\n",
      "8195000 0.3483716089349591\n",
      "8196000 0.19461932135614624\n",
      "8198500 0.6471218716172723\n",
      "8200000 0.5243810951019839\n",
      "8202700 0.19510687046815556\n",
      "8269000 -1.115116359461155\n",
      "8271000 0.13915745976052563\n",
      "8324000 -0.41394511147911417\n",
      "8377900 0.6047848757667715\n",
      "8378500 0.6758323897525431\n",
      "8380500 0.36313626527073184\n",
      "9034900 0.855700151220224\n",
      "9035800 0.14890913184084142\n",
      "9035900 0.44380009892945926\n",
      "9047700 -0.8801294050986976\n",
      "9065500 0.792766426423265\n",
      "9066000 0.7569907115808691\n",
      "9066200 0.8064258230220771\n",
      "9066300 0.009985092362119863\n",
      "9081600 0.8337406559058698\n",
      "9107000 0.5683849532681056\n",
      "9210500 0.6508034057207631\n",
      "9223000 0.8342852407947011\n",
      "9306242 -3.908628980361673\n",
      "9312600 0.5826724321182898\n",
      "9352900 0.6268286597359596\n",
      "9378170 0.566903952052858\n",
      "9378630 0.5083186968699882\n",
      "9386900 -0.47142497133975536\n",
      "9404450 0.3728293196505419\n",
      "9447800 -0.7391218415069838\n",
      "9484000 0.5295027935127843\n",
      "9484600 -4.487060075378305\n",
      "9492400 0.5449729449765419\n",
      "9494000 0.16795533308464416\n",
      "9497800 -1.5776703992013243\n",
      "9497980 0.5956687015688452\n",
      "9505200 0.43896328904961857\n",
      "9505350 0.41090670858352485\n",
      "9505800 0.2294266052993592\n",
      "9510200 0.6868575089810918\n",
      "9512280 0.45718438957923724\n",
      "10023000 -0.8835290210970839\n",
      "10166430 -2.220962966566296\n",
      "10172700 -1.5725266417765535\n",
      "10172800 0.5638203398420221\n",
      "10173450 0.6035148769276069\n",
      "10205030 0.20048318808592236\n",
      "10234500 0.6225889107441004\n",
      "10242000 0.16380833198730527\n",
      "10244950 0.4239012872507173\n",
      "10249300 -0.25405815926549735\n",
      "10258000 -0.20377439621253535\n",
      "10258500 -13.573264295162097\n",
      "10259000 -0.8601848092563686\n",
      "10263500 0.6210964391761165\n",
      "10310500 -11.598230168353261\n",
      "10316500 0.6501142535447154\n",
      "10329500 0.27902655939246\n",
      "10336660 0.6986524099174034\n",
      "10336740 -1.376299716590648\n",
      "10343500 0.6625182421912691\n",
      "10348850 0.2841363247314811\n",
      "10396000 0.46708653855187443\n",
      "11098000 0.7388029140948293\n",
      "11124500 0.4126279569450091\n",
      "11141280 0.5774228425612644\n",
      "11143000 0.813463682597553\n",
      "11148900 0.7428208806688144\n",
      "11151300 0.35127608442963754\n",
      "11162500 0.7604967388456213\n",
      "11176400 0.6230105532194584\n",
      "11224500 0.5558409396374132\n",
      "11230500 0.6929970403769177\n",
      "11237500 0.7763214578253061\n",
      "11253310 0.1360799259450608\n",
      "11264500 0.7508507177273649\n",
      "11266500 0.7967209322972612\n",
      "11274500 0.6340022233594004\n",
      "11274630 0.32358576086052004\n",
      "11299600 0.7270037541413237\n",
      "11381500 0.6887134357410236\n",
      "11383500 0.7437407052414032\n",
      "11451100 0.8199885980689381\n",
      "11468500 0.8678322610518696\n",
      "11473900 0.8079562302467073\n",
      "11475560 0.8373402247746857\n",
      "11476600 0.8643588832736644\n",
      "11478500 0.8751982036431423\n",
      "11480390 0.8538927870612427\n",
      "11481200 0.8188298934446424\n",
      "11482500 0.8867243875492161\n",
      "11522500 0.8349366955358053\n",
      "11523200 0.7630871459504435\n",
      "11528700 0.8085703474090505\n",
      "11532500 0.8699658452578845\n",
      "12010000 0.8612320867157355\n",
      "12013500 0.8682481814620473\n",
      "12020000 0.6712288940022737\n",
      "12025000 0.8546001485260856\n",
      "12025700 0.8087053409024548\n",
      "12035000 0.879082720928129\n",
      "12040500 0.846009129012878\n",
      "12041200 0.8081295033837622\n",
      "12043000 0.8174473895970465\n",
      "12048000 -0.036973648409313054\n",
      "12054000 0.745574797519778\n",
      "12056500 0.7636445491990622\n",
      "12073500 0.7201148248061516\n",
      "12082500 0.7478776405151939\n",
      "12092000 0.6063727724521317\n",
      "12095000 0.8172633236387508\n",
      "12114500 0.7808728057638432\n",
      "12115000 0.7848873421863993\n",
      "12115500 0.7915140710505354\n",
      "12117000 0.8206832623659547\n",
      "12141300 0.7824161305141855\n",
      "12143600 0.7588929285583121\n",
      "12144000 0.7979931354777418\n",
      "12145500 0.8133350815357419\n",
      "12147500 0.8116078779173519\n",
      "12147600 0.7000716420496534\n",
      "12167000 0.8228812332799846\n",
      "12175500 0.7348249911303829\n",
      "12178100 0.6790750476659684\n",
      "12186000 0.6963615206190017\n",
      "12189500 0.6230435469920013\n",
      "12358500 0.6380730054050718\n",
      "12374250 0.43168677436880143\n",
      "12375900 0.671816815943381\n",
      "12381400 0.8466750310337495\n",
      "12383500 0.6014278348664484\n",
      "12388400 0.6214449553736565\n",
      "12390700 0.7770235163896193\n",
      "12411000 0.7165990914998467\n",
      "12414500 0.7423928369125792\n",
      "12447390 0.6624760234206297\n",
      "12451000 0.7992365570141096\n",
      "12488500 0.6233959645824457\n",
      "13011500 0.6685281752109248\n",
      "13011900 0.7579493780517086\n",
      "13018300 0.5583921178377294\n",
      "13023000 0.8091256449175098\n",
      "13235000 0.7792325529288128\n",
      "13240000 0.6234339091691815\n",
      "13310700 0.7010756923441295\n",
      "13313000 0.7665637647727698\n",
      "13331500 0.8235468589069621\n",
      "13337000 0.7503838455893957\n",
      "13338500 0.8157708691622385\n",
      "13340000 0.3932203988275197\n",
      "13340600 0.7847550036885815\n",
      "14020000 0.7996152009890681\n",
      "14092750 0.6264480453143055\n",
      "14096850 0.31324295442882466\n",
      "14138800 0.7315922982455985\n",
      "14138870 0.7725679396734245\n",
      "14138900 0.767127863485624\n",
      "14139800 0.7731152026028847\n",
      "14141500 0.8179894737704989\n",
      "14154500 0.844886866658225\n",
      "14158500 0.377700022619772\n",
      "14158790 0.7844674325863135\n",
      "14166500 0.8490023691867422\n",
      "14182500 0.7896032416659218\n",
      "14185000 0.8032706244448748\n",
      "14185900 0.8262801299056544\n",
      "14187000 0.8234068197075997\n",
      "14216500 0.7662226553897206\n",
      "14222500 0.7696053441141444\n",
      "14236200 0.8503626492131211\n",
      "14301000 0.884002917069001\n",
      "14303200 0.8046020921649724\n",
      "14306340 0.7978566960713377\n",
      "14306500 0.8876000608984749\n",
      "14308990 0.6595061513444712\n",
      "14309500 0.8118408795897515\n",
      "14316700 0.759118767962922\n",
      "14325000 0.8189137066128778\n",
      "14362250 0.011429551211890931\n",
      "14400000 0.8847791520011459\n"
     ]
    }
   ],
   "source": [
    "ids = []\n",
    "NSE = []\n",
    "for idx,df in pred_df.groupby('gauge_id'):\n",
    "    ids.append(idx)\n",
    "    nse = calc_nse(df.Qobs,df.Qsim)\n",
    "    NSE.append(nse)\n",
    "    print(idx,nse)"
   ]
  },
  {
   "cell_type": "code",
   "execution_count": 45,
   "metadata": {},
   "outputs": [
    {
     "data": {
      "text/plain": [
       "14306500"
      ]
     },
     "execution_count": 45,
     "metadata": {},
     "output_type": "execute_result"
    }
   ],
   "source": [
    "ids[np.argmax(NSE)]"
   ]
  },
  {
   "cell_type": "code",
   "execution_count": 43,
   "metadata": {},
   "outputs": [
    {
     "data": {
      "text/plain": [
       "(0.0, 1.0)"
      ]
     },
     "execution_count": 43,
     "metadata": {},
     "output_type": "execute_result"
    },
    {
     "data": {
      "image/png": "[encoded data removed]",
      "text/plain": [
       "<Figure size 640x480 with 1 Axes>"
      ]
     },
     "metadata": {},
     "output_type": "display_data"
    }
   ],
   "source": [
    "plt.boxplot(NSE)\n",
    "plt.ylim(0, 1)"
   ]
  },
  {
   "cell_type": "code",
   "execution_count": 47,
   "metadata": {},
   "outputs": [
    {
     "data": {
      "text/plain": [
       "[<matplotlib.lines.Line2D at 0x2b56ef50dd20>]"
      ]
     },
     "execution_count": 47,
     "metadata": {},
     "output_type": "execute_result"
    },
    {
     "data": {
      "image/png": "[encoded data removed]",
      "text/plain": [
       "<Figure size 1500x500 with 1 Axes>"
      ]
     },
     "metadata": {},
     "output_type": "display_data"
    }
   ],
   "source": [
    "plot_df = pred_df[pred_df.gauge_id == 14306500]\n",
    "plt.figure(figsize=(15, 5))  # Set the figure size\n",
    "\n",
    "# Plot line plot for column1\n",
    "plt.plot(plot_df.Date, plot_df.Qsim, label='Qsim',color='blue')\n",
    "#plt.scatter(plot_df.Date, plot_df.Qsim, label='Qsim', color='blue',marker='o',facecolors='none', s=20)\n",
    "# Plot line plot for column2\n",
    "plt.plot(plot_df.Date, plot_df.Qobs, label='Qobs', color='green',alpha=0.5)"
   ]
  },
  {
   "cell_type": "markdown",
   "metadata": {},
   "source": [
    "## PUB predictions"
   ]
  },
  {
   "cell_type": "code",
   "execution_count": 33,
   "metadata": {},
   "outputs": [],
   "source": [
    "obs, preds = eval_model(model, test_loader)\n",
    "obs = obs.detach().to('cpu').numpy()\n",
    "pub_preds = preds.detach().to('cpu').numpy()"
   ]
  },
  {
   "cell_type": "code",
   "execution_count": 34,
   "metadata": {},
   "outputs": [],
   "source": [
    "obs = (obs*std.iloc[-1])+mean.iloc[-1]\n",
    "pub_preds = (pub_preds*std.iloc[-1])+mean.iloc[-1]"
   ]
  },
  {
   "cell_type": "code",
   "execution_count": 535,
   "metadata": {},
   "outputs": [
    {
     "data": {
      "text/plain": [
       "Timestamp('1980-09-26 00:00:00')"
      ]
     },
     "execution_count": 535,
     "metadata": {},
     "output_type": "execute_result"
    }
   ],
   "source": [
    "pd.to_datetime('1980-01-01') + pd.Timedelta(days=269)"
   ]
  },
  {
   "cell_type": "code",
   "execution_count": 35,
   "metadata": {},
   "outputs": [],
   "source": [
    "pred_df = test_df.groupby('gauge_id').tail(-269)\n",
    "pred_df = pred_df[['Date','gauge_id']]\n",
    "pred_df['Qobs'] = obs.flatten()\n",
    "pred_df['Qsim'] = pub_preds.flatten()"
   ]
  },
  {
   "cell_type": "code",
   "execution_count": 36,
   "metadata": {},
   "outputs": [],
   "source": [
    "pred_df.to_csv('/bighome/nkarki/pub_eval_100.csv')"
   ]
  },
  {
   "cell_type": "code",
   "execution_count": 55,
   "metadata": {},
   "outputs": [],
   "source": [
    "pred_df=pd.read_csv('/bighome/nkarki/pub_eval_100.csv')"
   ]
  },
  {
   "cell_type": "code",
   "execution_count": 49,
   "metadata": {
    "scrolled": true
   },
   "outputs": [
    {
     "name": "stdout",
     "output_type": "stream",
     "text": [
      "1078000 0.7220457358383786\n",
      "1121000 0.7255776329708491\n",
      "1134500 0.6453081799719286\n",
      "1414500 0.7587747679662192\n",
      "1423000 0.7814221996473449\n",
      "1466500 -0.720169403847704\n",
      "1542810 0.692369455934727\n",
      "1552500 0.7517455587626233\n",
      "1606500 0.6744887026525876\n",
      "1613050 0.676842842745709\n",
      "1634500 0.6709483558470625\n",
      "1639500 -0.15760037494404244\n",
      "2102908 0.28432394580178666\n",
      "2128000 0.5018322216421087\n",
      "2143000 0.6952343807433585\n",
      "2149000 0.5675533367299744\n",
      "2314500 0.45913314240676706\n",
      "2342933 0.5370548783668708\n",
      "2363000 0.5778791854630196\n",
      "2472500 0.5825241143860309\n",
      "2481510 0.613163158355386\n",
      "3028000 0.7112737253111128\n",
      "3076600 0.633100151668874\n",
      "3187500 0.6867098961974457\n",
      "3281500 0.7238474314509259\n",
      "3285000 0.6596948346977772\n",
      "3338780 0.38827693653331874\n",
      "3384450 0.6666863639955527\n",
      "3456500 0.7436842584694319\n",
      "3471500 0.5376641781312703\n",
      "3498500 0.8309297809372514\n",
      "3500240 0.725087494547432\n",
      "3574500 0.49727075302542656\n",
      "4015330 0.3459479190497312\n",
      "4216418 0.6042394715049383\n",
      "4256000 0.6552463228878589\n",
      "5120500 -2.8466928402014204\n",
      "5131500 0.348702743138234\n",
      "5291000 0.17831127966033522\n",
      "5495500 0.43114391252357975\n",
      "6221400 0.8016193866674302\n",
      "6332515 -4.798946440797612\n",
      "6453600 0.027762282669412275\n",
      "6889200 0.35894317910447193\n",
      "7060710 0.4701417029512116\n",
      "7066000 0.5686602141981785\n",
      "7149000 0.05546659280060062\n",
      "7167500 0.5694670008384393\n",
      "7292500 0.3061407194645215\n",
      "7295000 0.6471502691280744\n",
      "7301500 -1.2820810897228987\n",
      "8013000 0.560394702113493\n",
      "8158810 0.3302659583358547\n",
      "8164300 0.14500381341258373\n",
      "8171300 0.42372773746876125\n",
      "8267500 0.21269950739596089\n",
      "9430500 -0.1333660653371913\n",
      "9430600 0.13278451909480582\n",
      "9480000 -0.2047685502663903\n",
      "9508300 0.4287754510412972\n",
      "9513780 0.4124207114373908\n",
      "10259200 -129.3635407084503\n",
      "10336645 0.6924852042958864\n",
      "11180500 0.2602126362655449\n",
      "11180960 0.4774324143304055\n",
      "11284400 0.06798091848336063\n",
      "12377150 0.7010602083077613\n",
      "13083000 -0.35791960206038764\n",
      "13161500 0.17293930656775103\n",
      "14137000 0.6460016743373554\n",
      "14305500 0.8249605166462094\n"
     ]
    }
   ],
   "source": [
    "ids = []\n",
    "NSE = []\n",
    "for idx,df in pred_df.groupby('gauge_id'):\n",
    "    ids.append(idx)\n",
    "    nse = calc_nse(df.Qobs,df.Qsim)\n",
    "    NSE.append(nse)\n",
    "    print(idx,nse)"
   ]
  },
  {
   "cell_type": "code",
   "execution_count": 50,
   "metadata": {},
   "outputs": [
    {
     "data": {
      "text/plain": [
       "(0.0, 1.0)"
      ]
     },
     "execution_count": 50,
     "metadata": {},
     "output_type": "execute_result"
    },
    {
     "data": {
      "image/png": "[encoded data removed]",
      "text/plain": [
       "<Figure size 640x480 with 1 Axes>"
      ]
     },
     "metadata": {},
     "output_type": "display_data"
    }
   ],
   "source": [
    "plt.boxplot(NSE)\n",
    "plt.ylim(0, 1)"
   ]
  },
  {
   "cell_type": "code",
   "execution_count": 56,
   "metadata": {},
   "outputs": [
    {
     "data": {
      "text/plain": [
       "[<matplotlib.lines.Line2D at 0x2b585d71fc40>]"
      ]
     },
     "execution_count": 56,
     "metadata": {},
     "output_type": "execute_result"
    },
    {
     "data": {
      "image/png": "[encoded data removed]",
      "text/plain": [
       "<Figure size 1500x500 with 1 Axes>"
      ]
     },
     "metadata": {},
     "output_type": "display_data"
    }
   ],
   "source": [
    "plot_df = pred_df[pred_df.gauge_id == 14305500]\n",
    "\n",
    "plt.figure(figsize=(15, 5))  # Set the figure size\n",
    "# Plot line plot for column1\n",
    "plt.plot(plot_df.Date, plot_df.Qsim, label='Qsim',color='blue')\n",
    "#plt.scatter(plot_df.Date, plot_df.Qsim, label='Qsim', color='blue',marker='o',facecolors='none', s=20)\n",
    "# Plot line plot for column2\n",
    "plt.plot(plot_df.Date, plot_df.Qobs, label='Qobs', color='green',alpha=0.5)"
   ]
  },
  {
   "cell_type": "code",
   "execution_count": null,
   "metadata": {},
   "outputs": [],
   "source": []
  }
 ],
 "metadata": {
  "colab": {
   "provenance": []
  },
  "kernelspec": {
   "display_name": "Python 3 (ipykernel)",
   "language": "python",
   "name": "python3"
  },
  "language_info": {
   "codemirror_mode": {
    "name": "ipython",
    "version": 3
   },
   "file_extension": ".py",
   "mimetype": "text/x-python",
   "name": "python",
   "nbconvert_exporter": "python",
   "pygments_lexer": "ipython3",
   "version": "3.10.14"
  }
 },
 "nbformat": 4,
 "nbformat_minor": 4
}
