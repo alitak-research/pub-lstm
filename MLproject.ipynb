{
 "cells": [
  {
   "cell_type": "markdown",
   "metadata": {
    "jp-MarkdownHeadingCollapsed": true
   },
   "source": [
    "#  **PH 551-001-Machine Learning: Final Group Project**\n",
    "\n",
    "## **Streamflow prediction using Long Short-Term Memory (LSTM) Network**\n",
    "\n",
    "#### *Group 20: Ali Takallou, Habtamu Tamiru, Nischal Karki*\n"
   ]
  },
  {
   "cell_type": "markdown",
   "metadata": {
    "id": "kKXSQxcP_BvP"
   },
   "source": [
    "# **Import Libraries**"
   ]
  },
  {
   "cell_type": "markdown",
   "metadata": {},
   "source": [
    "# 1) Data Download, Explore and Prepare\n",
    "Start by downloading CAMELS data, loading into notebook and exploring attributes in this format:\n",
    "\n",
    "| Basin_ID | Date | Precip | Climate | Vegetation | Topography | Soil | Geology | Streamflow |\n",
    "|----------|----------|----------|----------|----------|----------|----------|----------|----------|"
   ]
  },
  {
   "cell_type": "code",
   "execution_count": 36,
   "metadata": {
    "id": "nZpWTV94rl7H"
   },
   "outputs": [],
   "source": [
    "import os\n",
    "import pandas as pd\n",
    "import glob\n",
    "import shutil\n",
    "import numpy as np\n",
    "import geopandas as gpd\n",
    "import matplotlib.pyplot as plt\n",
    "from pathlib import Path\n",
    "import random\n",
    "import warnings\n",
    "import joblib\n",
    "from typing import TYPE_CHECKING, Any, Union\n",
    "import geopandas as gpd\n",
    "from pathlib import Path"
   ]
  },
  {
   "cell_type": "code",
   "execution_count": 37,
   "metadata": {
    "id": "WrAZkcNCsSk-"
   },
   "outputs": [],
   "source": [
    "os.chdir('/mh1/Atakallou/MLproject')"
   ]
  },
  {
   "cell_type": "code",
   "execution_count": 38,
   "metadata": {
    "colab": {
     "base_uri": "https://localhost:8080/",
     "height": 461
    },
    "id": "2qwZMDCPsod6",
    "outputId": "6c2146d1-d9d3-4a8f-9e4c-a7a32b3ac0c4"
   },
   "outputs": [
    {
     "name": "stdout",
     "output_type": "stream",
     "text": [
      "Found files: ['/mh1/Atakallou/MLproject/camels_clim.txt', '/mh1/Atakallou/MLproject/camels_geol.txt', '/mh1/Atakallou/MLproject/camels_hydro.txt', '/mh1/Atakallou/MLproject/camels_name.txt', '/mh1/Atakallou/MLproject/camels_soil.txt', '/mh1/Atakallou/MLproject/camels_topo.txt', '/mh1/Atakallou/MLproject/camels_vege.txt']\n"
     ]
    },
    {
     "data": {
      "text/html": [
       "<div>\n",
       "<style scoped>\n",
       "    .dataframe tbody tr th:only-of-type {\n",
       "        vertical-align: middle;\n",
       "    }\n",
       "\n",
       "    .dataframe tbody tr th {\n",
       "        vertical-align: top;\n",
       "    }\n",
       "\n",
       "    .dataframe thead th {\n",
       "        text-align: right;\n",
       "    }\n",
       "</style>\n",
       "<table border=\"1\" class=\"dataframe\">\n",
       "  <thead>\n",
       "    <tr style=\"text-align: right;\">\n",
       "      <th></th>\n",
       "      <th>gauge_id</th>\n",
       "      <th>p_mean</th>\n",
       "      <th>pet_mean</th>\n",
       "      <th>p_seasonality</th>\n",
       "      <th>frac_snow</th>\n",
       "      <th>aridity</th>\n",
       "      <th>high_prec_freq</th>\n",
       "      <th>high_prec_dur</th>\n",
       "      <th>high_prec_timing</th>\n",
       "      <th>low_prec_freq</th>\n",
       "      <th>...</th>\n",
       "      <th>area_geospa_fabric</th>\n",
       "      <th>frac_forest</th>\n",
       "      <th>lai_max</th>\n",
       "      <th>lai_diff</th>\n",
       "      <th>gvf_max</th>\n",
       "      <th>gvf_diff</th>\n",
       "      <th>dom_land_cover_frac</th>\n",
       "      <th>dom_land_cover</th>\n",
       "      <th>root_depth_50</th>\n",
       "      <th>root_depth_99</th>\n",
       "    </tr>\n",
       "  </thead>\n",
       "  <tbody>\n",
       "    <tr>\n",
       "      <th>0</th>\n",
       "      <td>1013500</td>\n",
       "      <td>3.126679</td>\n",
       "      <td>1.971555</td>\n",
       "      <td>0.187940</td>\n",
       "      <td>0.313440</td>\n",
       "      <td>0.630559</td>\n",
       "      <td>12.95</td>\n",
       "      <td>1.348958</td>\n",
       "      <td>son</td>\n",
       "      <td>202.20</td>\n",
       "      <td>...</td>\n",
       "      <td>2303.95</td>\n",
       "      <td>0.9063</td>\n",
       "      <td>4.167304</td>\n",
       "      <td>3.340732</td>\n",
       "      <td>0.804567</td>\n",
       "      <td>0.371648</td>\n",
       "      <td>0.883452</td>\n",
       "      <td>Mixed Forests</td>\n",
       "      <td>NaN</td>\n",
       "      <td>NaN</td>\n",
       "    </tr>\n",
       "    <tr>\n",
       "      <th>1</th>\n",
       "      <td>1022500</td>\n",
       "      <td>3.608126</td>\n",
       "      <td>2.119256</td>\n",
       "      <td>-0.114530</td>\n",
       "      <td>0.245259</td>\n",
       "      <td>0.587356</td>\n",
       "      <td>20.55</td>\n",
       "      <td>1.205279</td>\n",
       "      <td>son</td>\n",
       "      <td>233.65</td>\n",
       "      <td>...</td>\n",
       "      <td>620.38</td>\n",
       "      <td>0.9232</td>\n",
       "      <td>4.871392</td>\n",
       "      <td>3.746692</td>\n",
       "      <td>0.863936</td>\n",
       "      <td>0.337712</td>\n",
       "      <td>0.820493</td>\n",
       "      <td>Mixed Forests</td>\n",
       "      <td>0.237435</td>\n",
       "      <td>2.238444</td>\n",
       "    </tr>\n",
       "    <tr>\n",
       "      <th>2</th>\n",
       "      <td>1030500</td>\n",
       "      <td>3.274405</td>\n",
       "      <td>2.043594</td>\n",
       "      <td>0.047358</td>\n",
       "      <td>0.277018</td>\n",
       "      <td>0.624111</td>\n",
       "      <td>17.15</td>\n",
       "      <td>1.207746</td>\n",
       "      <td>son</td>\n",
       "      <td>215.60</td>\n",
       "      <td>...</td>\n",
       "      <td>3676.09</td>\n",
       "      <td>0.8782</td>\n",
       "      <td>4.685200</td>\n",
       "      <td>3.665543</td>\n",
       "      <td>0.858502</td>\n",
       "      <td>0.351393</td>\n",
       "      <td>0.975258</td>\n",
       "      <td>Mixed Forests</td>\n",
       "      <td>NaN</td>\n",
       "      <td>NaN</td>\n",
       "    </tr>\n",
       "    <tr>\n",
       "      <th>3</th>\n",
       "      <td>1031500</td>\n",
       "      <td>3.522957</td>\n",
       "      <td>2.071324</td>\n",
       "      <td>0.104091</td>\n",
       "      <td>0.291836</td>\n",
       "      <td>0.587950</td>\n",
       "      <td>18.90</td>\n",
       "      <td>1.148936</td>\n",
       "      <td>son</td>\n",
       "      <td>227.35</td>\n",
       "      <td>...</td>\n",
       "      <td>766.53</td>\n",
       "      <td>0.9548</td>\n",
       "      <td>4.903259</td>\n",
       "      <td>3.990843</td>\n",
       "      <td>0.870668</td>\n",
       "      <td>0.398619</td>\n",
       "      <td>1.000000</td>\n",
       "      <td>Mixed Forests</td>\n",
       "      <td>0.250000</td>\n",
       "      <td>2.400000</td>\n",
       "    </tr>\n",
       "  </tbody>\n",
       "</table>\n",
       "<p>4 rows × 60 columns</p>\n",
       "</div>"
      ],
      "text/plain": [
       "   gauge_id    p_mean  pet_mean  p_seasonality  frac_snow   aridity  \\\n",
       "0   1013500  3.126679  1.971555       0.187940   0.313440  0.630559   \n",
       "1   1022500  3.608126  2.119256      -0.114530   0.245259  0.587356   \n",
       "2   1030500  3.274405  2.043594       0.047358   0.277018  0.624111   \n",
       "3   1031500  3.522957  2.071324       0.104091   0.291836  0.587950   \n",
       "\n",
       "   high_prec_freq  high_prec_dur high_prec_timing  low_prec_freq  ...  \\\n",
       "0           12.95       1.348958              son         202.20  ...   \n",
       "1           20.55       1.205279              son         233.65  ...   \n",
       "2           17.15       1.207746              son         215.60  ...   \n",
       "3           18.90       1.148936              son         227.35  ...   \n",
       "\n",
       "   area_geospa_fabric frac_forest   lai_max  lai_diff   gvf_max  gvf_diff  \\\n",
       "0             2303.95      0.9063  4.167304  3.340732  0.804567  0.371648   \n",
       "1              620.38      0.9232  4.871392  3.746692  0.863936  0.337712   \n",
       "2             3676.09      0.8782  4.685200  3.665543  0.858502  0.351393   \n",
       "3              766.53      0.9548  4.903259  3.990843  0.870668  0.398619   \n",
       "\n",
       "   dom_land_cover_frac     dom_land_cover  root_depth_50  root_depth_99  \n",
       "0             0.883452      Mixed Forests            NaN            NaN  \n",
       "1             0.820493      Mixed Forests       0.237435       2.238444  \n",
       "2             0.975258      Mixed Forests            NaN            NaN  \n",
       "3             1.000000      Mixed Forests       0.250000       2.400000  \n",
       "\n",
       "[4 rows x 60 columns]"
      ]
     },
     "execution_count": 38,
     "metadata": {},
     "output_type": "execute_result"
    }
   ],
   "source": [
    "def import_attributes(folder, attr_subset=None, return_list=False):\n",
    "    attr_files = glob.glob(os.path.join(folder, 'camels_*.txt'))\n",
    "    print(f\"Found files: {attr_files}\")\n",
    "\n",
    "    if not attr_files:\n",
    "        print(\"No files found. Check the folder path or file pattern.\")\n",
    "        return [] if return_list else pd.DataFrame()\n",
    "\n",
    "    if attr_subset is not None:\n",
    "        new_list = []\n",
    "        for file in attr_files:\n",
    "            attr = os.path.basename(file).split('_')[1]\n",
    "            if attr in attr_subset:\n",
    "                new_list.append(file)\n",
    "        if not new_list:\n",
    "            raise ValueError('attrSubset contained no valid attribute names')\n",
    "        attr_files = new_list\n",
    "\n",
    "    basin_attr = None\n",
    "    basin_list = []\n",
    "    for afile in attr_files:\n",
    "        rfile = pd.read_csv(afile, sep=';')\n",
    "        if 'gauge_id' not in rfile.columns:\n",
    "            print(f\"'gauge_id' column not found in {afile}.\")\n",
    "        else:\n",
    "            rfile.set_index('gauge_id', inplace=True)\n",
    "\n",
    "\n",
    "        if basin_attr is None:\n",
    "            basin_attr = rfile\n",
    "        else:\n",
    "            try:\n",
    "                basin_attr = basin_attr.merge(rfile, left_index=True, right_index=True)\n",
    "            except Exception as e:\n",
    "                print(f\"Unable to merge {afile} based on 'gauge_id'. Error: {e}\")\n",
    "\n",
    "        if return_list:\n",
    "            basin_list.append(rfile)\n",
    "\n",
    "    if return_list:\n",
    "        return basin_list\n",
    "    else:\n",
    "        return basin_attr\n",
    "\n",
    "camels_dir = '/mh1/Atakallou/MLproject'\n",
    "CAMELS_LongTerm_All = import_attributes(camels_dir)\n",
    "CAMELS_LongTerm_All = pd.DataFrame(CAMELS_LongTerm_All)\n",
    "CAMELS_LongTerm_All = CAMELS_LongTerm_All.reset_index()\n",
    "CAMELS_LongTerm_All.head(4)"
   ]
  },
  {
   "cell_type": "markdown",
   "metadata": {},
   "source": [
    "### ***Explore***:"
   ]
  },
  {
   "cell_type": "code",
   "execution_count": 39,
   "metadata": {
    "colab": {
     "base_uri": "https://localhost:8080/"
    },
    "id": "tMNEzXPn6sJ3",
    "outputId": "07e49e37-c952-463d-a9c4-e22430fb9e39"
   },
   "outputs": [
    {
     "data": {
      "text/plain": [
       "Index(['gauge_id', 'p_mean', 'pet_mean', 'p_seasonality', 'frac_snow',\n",
       "       'aridity', 'high_prec_freq', 'high_prec_dur', 'high_prec_timing',\n",
       "       'low_prec_freq', 'low_prec_dur', 'low_prec_timing', 'geol_1st_class',\n",
       "       'glim_1st_class_frac', 'geol_2nd_class', 'glim_2nd_class_frac',\n",
       "       'carbonate_rocks_frac', 'geol_porostiy', 'geol_permeability', 'q_mean',\n",
       "       'runoff_ratio', 'slope_fdc', 'baseflow_index', 'stream_elas', 'q5',\n",
       "       'q95', 'high_q_freq', 'high_q_dur', 'low_q_freq', 'low_q_dur',\n",
       "       'zero_q_freq', 'hfd_mean', 'huc_02', 'gauge_name',\n",
       "       'soil_depth_pelletier', 'soil_depth_statsgo', 'soil_porosity',\n",
       "       'soil_conductivity', 'max_water_content', 'sand_frac', 'silt_frac',\n",
       "       'clay_frac', 'water_frac', 'organic_frac', 'other_frac', 'gauge_lat',\n",
       "       'gauge_lon', 'elev_mean', 'slope_mean', 'area_gages2',\n",
       "       'area_geospa_fabric', 'frac_forest', 'lai_max', 'lai_diff', 'gvf_max',\n",
       "       'gvf_diff', 'dom_land_cover_frac', 'dom_land_cover', 'root_depth_50',\n",
       "       'root_depth_99'],\n",
       "      dtype='object')"
      ]
     },
     "execution_count": 39,
     "metadata": {},
     "output_type": "execute_result"
    }
   ],
   "source": [
    "CAMELS_LongTerm_All.columns"
   ]
  },
  {
   "cell_type": "code",
   "execution_count": 40,
   "metadata": {},
   "outputs": [
    {
     "data": {
      "text/html": [
       "<div>\n",
       "<style scoped>\n",
       "    .dataframe tbody tr th:only-of-type {\n",
       "        vertical-align: middle;\n",
       "    }\n",
       "\n",
       "    .dataframe tbody tr th {\n",
       "        vertical-align: top;\n",
       "    }\n",
       "\n",
       "    .dataframe thead th {\n",
       "        text-align: right;\n",
       "    }\n",
       "</style>\n",
       "<table border=\"1\" class=\"dataframe\">\n",
       "  <thead>\n",
       "    <tr style=\"text-align: right;\">\n",
       "      <th></th>\n",
       "      <th>gauge_id</th>\n",
       "      <th>p_mean</th>\n",
       "      <th>pet_mean</th>\n",
       "      <th>p_seasonality</th>\n",
       "      <th>frac_snow</th>\n",
       "      <th>aridity</th>\n",
       "      <th>high_prec_freq</th>\n",
       "      <th>high_prec_dur</th>\n",
       "      <th>low_prec_freq</th>\n",
       "      <th>low_prec_dur</th>\n",
       "      <th>...</th>\n",
       "      <th>area_gages2</th>\n",
       "      <th>area_geospa_fabric</th>\n",
       "      <th>frac_forest</th>\n",
       "      <th>lai_max</th>\n",
       "      <th>lai_diff</th>\n",
       "      <th>gvf_max</th>\n",
       "      <th>gvf_diff</th>\n",
       "      <th>dom_land_cover_frac</th>\n",
       "      <th>root_depth_50</th>\n",
       "      <th>root_depth_99</th>\n",
       "    </tr>\n",
       "  </thead>\n",
       "  <tbody>\n",
       "    <tr>\n",
       "      <th>count</th>\n",
       "      <td>6.710000e+02</td>\n",
       "      <td>671.000000</td>\n",
       "      <td>671.000000</td>\n",
       "      <td>671.000000</td>\n",
       "      <td>671.000000</td>\n",
       "      <td>671.000000</td>\n",
       "      <td>671.000000</td>\n",
       "      <td>671.000000</td>\n",
       "      <td>671.000000</td>\n",
       "      <td>671.000000</td>\n",
       "      <td>...</td>\n",
       "      <td>671.000000</td>\n",
       "      <td>671.000000</td>\n",
       "      <td>671.000000</td>\n",
       "      <td>671.000000</td>\n",
       "      <td>671.000000</td>\n",
       "      <td>671.000000</td>\n",
       "      <td>671.000000</td>\n",
       "      <td>671.000000</td>\n",
       "      <td>647.000000</td>\n",
       "      <td>647.000000</td>\n",
       "    </tr>\n",
       "    <tr>\n",
       "      <th>mean</th>\n",
       "      <td>6.265831e+06</td>\n",
       "      <td>3.257722</td>\n",
       "      <td>2.787365</td>\n",
       "      <td>-0.041279</td>\n",
       "      <td>0.177604</td>\n",
       "      <td>1.056516</td>\n",
       "      <td>20.930999</td>\n",
       "      <td>1.349837</td>\n",
       "      <td>254.647317</td>\n",
       "      <td>5.953787</td>\n",
       "      <td>...</td>\n",
       "      <td>792.618063</td>\n",
       "      <td>808.077720</td>\n",
       "      <td>0.639539</td>\n",
       "      <td>3.215970</td>\n",
       "      <td>2.448588</td>\n",
       "      <td>0.722104</td>\n",
       "      <td>0.322749</td>\n",
       "      <td>0.809969</td>\n",
       "      <td>0.178814</td>\n",
       "      <td>1.829661</td>\n",
       "    </tr>\n",
       "    <tr>\n",
       "      <th>std</th>\n",
       "      <td>3.976868e+06</td>\n",
       "      <td>1.410441</td>\n",
       "      <td>0.554972</td>\n",
       "      <td>0.527430</td>\n",
       "      <td>0.203287</td>\n",
       "      <td>0.615449</td>\n",
       "      <td>4.545221</td>\n",
       "      <td>0.191226</td>\n",
       "      <td>35.115377</td>\n",
       "      <td>3.199436</td>\n",
       "      <td>...</td>\n",
       "      <td>1701.950373</td>\n",
       "      <td>1709.853038</td>\n",
       "      <td>0.372634</td>\n",
       "      <td>1.520134</td>\n",
       "      <td>1.333811</td>\n",
       "      <td>0.168319</td>\n",
       "      <td>0.148565</td>\n",
       "      <td>0.183947</td>\n",
       "      <td>0.030927</td>\n",
       "      <td>0.302313</td>\n",
       "    </tr>\n",
       "    <tr>\n",
       "      <th>min</th>\n",
       "      <td>1.013500e+06</td>\n",
       "      <td>0.644565</td>\n",
       "      <td>1.899096</td>\n",
       "      <td>-1.435461</td>\n",
       "      <td>0.000000</td>\n",
       "      <td>0.220284</td>\n",
       "      <td>7.900000</td>\n",
       "      <td>1.075235</td>\n",
       "      <td>169.900000</td>\n",
       "      <td>2.789197</td>\n",
       "      <td>...</td>\n",
       "      <td>4.030000</td>\n",
       "      <td>4.100000</td>\n",
       "      <td>0.000000</td>\n",
       "      <td>0.367125</td>\n",
       "      <td>0.154410</td>\n",
       "      <td>0.184262</td>\n",
       "      <td>0.028998</td>\n",
       "      <td>0.314498</td>\n",
       "      <td>0.120000</td>\n",
       "      <td>1.500000</td>\n",
       "    </tr>\n",
       "    <tr>\n",
       "      <th>25%</th>\n",
       "      <td>2.370650e+06</td>\n",
       "      <td>2.373133</td>\n",
       "      <td>2.335206</td>\n",
       "      <td>-0.263524</td>\n",
       "      <td>0.035141</td>\n",
       "      <td>0.695674</td>\n",
       "      <td>18.500000</td>\n",
       "      <td>1.208927</td>\n",
       "      <td>232.700000</td>\n",
       "      <td>4.240878</td>\n",
       "      <td>...</td>\n",
       "      <td>122.280000</td>\n",
       "      <td>127.975000</td>\n",
       "      <td>0.277050</td>\n",
       "      <td>1.814276</td>\n",
       "      <td>1.196827</td>\n",
       "      <td>0.608617</td>\n",
       "      <td>0.188310</td>\n",
       "      <td>0.651085</td>\n",
       "      <td>0.165368</td>\n",
       "      <td>1.521816</td>\n",
       "    </tr>\n",
       "    <tr>\n",
       "      <th>50%</th>\n",
       "      <td>6.278300e+06</td>\n",
       "      <td>3.229487</td>\n",
       "      <td>2.688156</td>\n",
       "      <td>0.080925</td>\n",
       "      <td>0.097926</td>\n",
       "      <td>0.855150</td>\n",
       "      <td>22.000000</td>\n",
       "      <td>1.281646</td>\n",
       "      <td>255.850000</td>\n",
       "      <td>4.949627</td>\n",
       "      <td>...</td>\n",
       "      <td>329.680000</td>\n",
       "      <td>340.700000</td>\n",
       "      <td>0.813700</td>\n",
       "      <td>3.371345</td>\n",
       "      <td>2.336477</td>\n",
       "      <td>0.780328</td>\n",
       "      <td>0.315979</td>\n",
       "      <td>0.858219</td>\n",
       "      <td>0.180000</td>\n",
       "      <td>1.800000</td>\n",
       "    </tr>\n",
       "    <tr>\n",
       "      <th>75%</th>\n",
       "      <td>9.382765e+06</td>\n",
       "      <td>3.783515</td>\n",
       "      <td>3.146021</td>\n",
       "      <td>0.223987</td>\n",
       "      <td>0.223063</td>\n",
       "      <td>1.267340</td>\n",
       "      <td>24.225000</td>\n",
       "      <td>1.440387</td>\n",
       "      <td>278.925000</td>\n",
       "      <td>6.701866</td>\n",
       "      <td>...</td>\n",
       "      <td>794.295000</td>\n",
       "      <td>804.495000</td>\n",
       "      <td>0.972400</td>\n",
       "      <td>4.696291</td>\n",
       "      <td>3.757439</td>\n",
       "      <td>0.864908</td>\n",
       "      <td>0.462706</td>\n",
       "      <td>0.996715</td>\n",
       "      <td>0.190000</td>\n",
       "      <td>2.000000</td>\n",
       "    </tr>\n",
       "    <tr>\n",
       "      <th>max</th>\n",
       "      <td>1.440000e+07</td>\n",
       "      <td>8.936886</td>\n",
       "      <td>4.743906</td>\n",
       "      <td>0.922019</td>\n",
       "      <td>0.906327</td>\n",
       "      <td>5.207913</td>\n",
       "      <td>32.700000</td>\n",
       "      <td>2.090909</td>\n",
       "      <td>348.700000</td>\n",
       "      <td>36.513089</td>\n",
       "      <td>...</td>\n",
       "      <td>25791.040000</td>\n",
       "      <td>25817.780000</td>\n",
       "      <td>1.000000</td>\n",
       "      <td>5.582121</td>\n",
       "      <td>4.831465</td>\n",
       "      <td>0.915707</td>\n",
       "      <td>0.652197</td>\n",
       "      <td>1.000000</td>\n",
       "      <td>0.250000</td>\n",
       "      <td>3.100000</td>\n",
       "    </tr>\n",
       "  </tbody>\n",
       "</table>\n",
       "<p>8 rows × 54 columns</p>\n",
       "</div>"
      ],
      "text/plain": [
       "           gauge_id      p_mean    pet_mean  p_seasonality   frac_snow  \\\n",
       "count  6.710000e+02  671.000000  671.000000     671.000000  671.000000   \n",
       "mean   6.265831e+06    3.257722    2.787365      -0.041279    0.177604   \n",
       "std    3.976868e+06    1.410441    0.554972       0.527430    0.203287   \n",
       "min    1.013500e+06    0.644565    1.899096      -1.435461    0.000000   \n",
       "25%    2.370650e+06    2.373133    2.335206      -0.263524    0.035141   \n",
       "50%    6.278300e+06    3.229487    2.688156       0.080925    0.097926   \n",
       "75%    9.382765e+06    3.783515    3.146021       0.223987    0.223063   \n",
       "max    1.440000e+07    8.936886    4.743906       0.922019    0.906327   \n",
       "\n",
       "          aridity  high_prec_freq  high_prec_dur  low_prec_freq  low_prec_dur  \\\n",
       "count  671.000000      671.000000     671.000000     671.000000    671.000000   \n",
       "mean     1.056516       20.930999       1.349837     254.647317      5.953787   \n",
       "std      0.615449        4.545221       0.191226      35.115377      3.199436   \n",
       "min      0.220284        7.900000       1.075235     169.900000      2.789197   \n",
       "25%      0.695674       18.500000       1.208927     232.700000      4.240878   \n",
       "50%      0.855150       22.000000       1.281646     255.850000      4.949627   \n",
       "75%      1.267340       24.225000       1.440387     278.925000      6.701866   \n",
       "max      5.207913       32.700000       2.090909     348.700000     36.513089   \n",
       "\n",
       "       ...   area_gages2  area_geospa_fabric  frac_forest     lai_max  \\\n",
       "count  ...    671.000000          671.000000   671.000000  671.000000   \n",
       "mean   ...    792.618063          808.077720     0.639539    3.215970   \n",
       "std    ...   1701.950373         1709.853038     0.372634    1.520134   \n",
       "min    ...      4.030000            4.100000     0.000000    0.367125   \n",
       "25%    ...    122.280000          127.975000     0.277050    1.814276   \n",
       "50%    ...    329.680000          340.700000     0.813700    3.371345   \n",
       "75%    ...    794.295000          804.495000     0.972400    4.696291   \n",
       "max    ...  25791.040000        25817.780000     1.000000    5.582121   \n",
       "\n",
       "         lai_diff     gvf_max    gvf_diff  dom_land_cover_frac  root_depth_50  \\\n",
       "count  671.000000  671.000000  671.000000           671.000000     647.000000   \n",
       "mean     2.448588    0.722104    0.322749             0.809969       0.178814   \n",
       "std      1.333811    0.168319    0.148565             0.183947       0.030927   \n",
       "min      0.154410    0.184262    0.028998             0.314498       0.120000   \n",
       "25%      1.196827    0.608617    0.188310             0.651085       0.165368   \n",
       "50%      2.336477    0.780328    0.315979             0.858219       0.180000   \n",
       "75%      3.757439    0.864908    0.462706             0.996715       0.190000   \n",
       "max      4.831465    0.915707    0.652197             1.000000       0.250000   \n",
       "\n",
       "       root_depth_99  \n",
       "count     647.000000  \n",
       "mean        1.829661  \n",
       "std         0.302313  \n",
       "min         1.500000  \n",
       "25%         1.521816  \n",
       "50%         1.800000  \n",
       "75%         2.000000  \n",
       "max         3.100000  \n",
       "\n",
       "[8 rows x 54 columns]"
      ]
     },
     "execution_count": 40,
     "metadata": {},
     "output_type": "execute_result"
    }
   ],
   "source": [
    "CAMELS_LongTerm_All.describe()"
   ]
  },
  {
   "cell_type": "code",
   "execution_count": 41,
   "metadata": {},
   "outputs": [
    {
     "data": {
      "text/html": [
       "<div>\n",
       "<style scoped>\n",
       "    .dataframe tbody tr th:only-of-type {\n",
       "        vertical-align: middle;\n",
       "    }\n",
       "\n",
       "    .dataframe tbody tr th {\n",
       "        vertical-align: top;\n",
       "    }\n",
       "\n",
       "    .dataframe thead th {\n",
       "        text-align: right;\n",
       "    }\n",
       "</style>\n",
       "<table border=\"1\" class=\"dataframe\">\n",
       "  <thead>\n",
       "    <tr style=\"text-align: right;\">\n",
       "      <th></th>\n",
       "      <th>Date</th>\n",
       "      <th>gauge_id</th>\n",
       "      <th>prcp(mm/day)</th>\n",
       "      <th>srad(W/m2)</th>\n",
       "      <th>swe(mm)</th>\n",
       "      <th>tmax(C)</th>\n",
       "      <th>tmin(C)</th>\n",
       "      <th>vp(Pa)</th>\n",
       "    </tr>\n",
       "  </thead>\n",
       "  <tbody>\n",
       "    <tr>\n",
       "      <th>0</th>\n",
       "      <td>1980-01-01</td>\n",
       "      <td>01013500</td>\n",
       "      <td>0.00</td>\n",
       "      <td>153.40</td>\n",
       "      <td>0.0</td>\n",
       "      <td>-6.54</td>\n",
       "      <td>-16.30</td>\n",
       "      <td>171.69</td>\n",
       "    </tr>\n",
       "    <tr>\n",
       "      <th>1</th>\n",
       "      <td>1980-01-02</td>\n",
       "      <td>01013500</td>\n",
       "      <td>0.00</td>\n",
       "      <td>145.27</td>\n",
       "      <td>0.0</td>\n",
       "      <td>-6.18</td>\n",
       "      <td>-15.22</td>\n",
       "      <td>185.94</td>\n",
       "    </tr>\n",
       "    <tr>\n",
       "      <th>2</th>\n",
       "      <td>1980-01-03</td>\n",
       "      <td>01013500</td>\n",
       "      <td>0.00</td>\n",
       "      <td>146.96</td>\n",
       "      <td>0.0</td>\n",
       "      <td>-9.89</td>\n",
       "      <td>-18.86</td>\n",
       "      <td>138.39</td>\n",
       "    </tr>\n",
       "    <tr>\n",
       "      <th>3</th>\n",
       "      <td>1980-01-04</td>\n",
       "      <td>01013500</td>\n",
       "      <td>0.00</td>\n",
       "      <td>146.20</td>\n",
       "      <td>0.0</td>\n",
       "      <td>-10.98</td>\n",
       "      <td>-19.76</td>\n",
       "      <td>120.06</td>\n",
       "    </tr>\n",
       "    <tr>\n",
       "      <th>4</th>\n",
       "      <td>1980-01-05</td>\n",
       "      <td>01013500</td>\n",
       "      <td>0.00</td>\n",
       "      <td>170.43</td>\n",
       "      <td>0.0</td>\n",
       "      <td>-11.29</td>\n",
       "      <td>-22.21</td>\n",
       "      <td>117.87</td>\n",
       "    </tr>\n",
       "    <tr>\n",
       "      <th>...</th>\n",
       "      <td>...</td>\n",
       "      <td>...</td>\n",
       "      <td>...</td>\n",
       "      <td>...</td>\n",
       "      <td>...</td>\n",
       "      <td>...</td>\n",
       "      <td>...</td>\n",
       "      <td>...</td>\n",
       "    </tr>\n",
       "    <tr>\n",
       "      <th>8654759</th>\n",
       "      <td>2014-12-27</td>\n",
       "      <td>11532500</td>\n",
       "      <td>0.00</td>\n",
       "      <td>198.99</td>\n",
       "      <td>0.0</td>\n",
       "      <td>8.59</td>\n",
       "      <td>1.22</td>\n",
       "      <td>667.70</td>\n",
       "    </tr>\n",
       "    <tr>\n",
       "      <th>8654760</th>\n",
       "      <td>2014-12-28</td>\n",
       "      <td>11532500</td>\n",
       "      <td>2.26</td>\n",
       "      <td>173.72</td>\n",
       "      <td>0.0</td>\n",
       "      <td>7.74</td>\n",
       "      <td>0.53</td>\n",
       "      <td>637.97</td>\n",
       "    </tr>\n",
       "    <tr>\n",
       "      <th>8654761</th>\n",
       "      <td>2014-12-29</td>\n",
       "      <td>11532500</td>\n",
       "      <td>3.70</td>\n",
       "      <td>136.40</td>\n",
       "      <td>0.0</td>\n",
       "      <td>4.58</td>\n",
       "      <td>-1.17</td>\n",
       "      <td>565.92</td>\n",
       "    </tr>\n",
       "    <tr>\n",
       "      <th>8654762</th>\n",
       "      <td>2014-12-30</td>\n",
       "      <td>11532500</td>\n",
       "      <td>3.75</td>\n",
       "      <td>168.65</td>\n",
       "      <td>0.0</td>\n",
       "      <td>4.63</td>\n",
       "      <td>-3.33</td>\n",
       "      <td>482.25</td>\n",
       "    </tr>\n",
       "    <tr>\n",
       "      <th>8654763</th>\n",
       "      <td>2014-12-31</td>\n",
       "      <td>11532500</td>\n",
       "      <td>0.00</td>\n",
       "      <td>228.39</td>\n",
       "      <td>0.0</td>\n",
       "      <td>9.34</td>\n",
       "      <td>-1.11</td>\n",
       "      <td>564.95</td>\n",
       "    </tr>\n",
       "  </tbody>\n",
       "</table>\n",
       "<p>8654764 rows × 8 columns</p>\n",
       "</div>"
      ],
      "text/plain": [
       "              Date  gauge_id  prcp(mm/day)  srad(W/m2)  swe(mm)  tmax(C)  \\\n",
       "0       1980-01-01  01013500          0.00      153.40      0.0    -6.54   \n",
       "1       1980-01-02  01013500          0.00      145.27      0.0    -6.18   \n",
       "2       1980-01-03  01013500          0.00      146.96      0.0    -9.89   \n",
       "3       1980-01-04  01013500          0.00      146.20      0.0   -10.98   \n",
       "4       1980-01-05  01013500          0.00      170.43      0.0   -11.29   \n",
       "...            ...       ...           ...         ...      ...      ...   \n",
       "8654759 2014-12-27  11532500          0.00      198.99      0.0     8.59   \n",
       "8654760 2014-12-28  11532500          2.26      173.72      0.0     7.74   \n",
       "8654761 2014-12-29  11532500          3.70      136.40      0.0     4.58   \n",
       "8654762 2014-12-30  11532500          3.75      168.65      0.0     4.63   \n",
       "8654763 2014-12-31  11532500          0.00      228.39      0.0     9.34   \n",
       "\n",
       "         tmin(C)  vp(Pa)  \n",
       "0         -16.30  171.69  \n",
       "1         -15.22  185.94  \n",
       "2         -18.86  138.39  \n",
       "3         -19.76  120.06  \n",
       "4         -22.21  117.87  \n",
       "...          ...     ...  \n",
       "8654759     1.22  667.70  \n",
       "8654760     0.53  637.97  \n",
       "8654761    -1.17  565.92  \n",
       "8654762    -3.33  482.25  \n",
       "8654763    -1.11  564.95  \n",
       "\n",
       "[8654764 rows x 8 columns]"
      ]
     },
     "execution_count": 41,
     "metadata": {},
     "output_type": "execute_result"
    }
   ],
   "source": [
    "def read_basin_forcing(file_path, expected_columns=None):\n",
    "    try:\n",
    "        df = pd.read_csv(file_path, sep='\\s+', skiprows=3)\n",
    "        if expected_columns is not None:\n",
    "            df = df.reindex(columns=expected_columns)\n",
    "        return df\n",
    "    except Exception as e:\n",
    "        print(f\"Error reading {file_path}: {e}\")\n",
    "        return None\n",
    "\n",
    "def import_daymet_forcings(base_folder):\n",
    "    daymet_folder = os.path.join(base_folder, 'daymet')\n",
    "    all_data = []\n",
    "\n",
    "    # Sort the directories to process them in order\n",
    "    sorted_dirs = sorted(next(os.walk(daymet_folder))[1])\n",
    "\n",
    "    expected_columns = None\n",
    "\n",
    "    for subdir in sorted_dirs:\n",
    "        subdir_path = os.path.join(daymet_folder, subdir)\n",
    "        for file in sorted(os.listdir(subdir_path)):\n",
    "            if file.endswith('.txt'):\n",
    "                full_path = os.path.join(subdir_path, file)\n",
    "                df = read_basin_forcing(full_path, expected_columns)\n",
    "\n",
    "                if df is not None:\n",
    "                    if expected_columns is None:\n",
    "                        expected_columns = df.columns.tolist()\n",
    "\n",
    "                    df.insert(0, 'gauge_id', os.path.basename(file).split('_')[0])\n",
    "                    all_data.append(df)\n",
    "\n",
    "    daymet_forcing_all = pd.concat(all_data, ignore_index=True)\n",
    "    return daymet_forcing_all\n",
    "\n",
    "# Import with the above function\n",
    "base_folder = '/mh1/Atakallou/MLproject/basin_dataset_public_v1p2/basin_mean_forcing/'\n",
    "daymet_forcing_all = import_daymet_forcings(base_folder)\n",
    "\n",
    "# Drop some columns\n",
    "# columns_to_drop = ['Hr', 'dayl(s)', 'vp(Pa)', 'srad(W/m2)', 'swe(mm)']\n",
    "# daymet_forcing_all.drop(columns=columns_to_drop, inplace=True)\n",
    "\n",
    "daymet_forcing_all.dropna(inplace=True)\n",
    "# combine 'Year', 'Mnth', and 'Day'\n",
    "daymet_forcing_all['Date'] = pd.to_datetime(\n",
    "    daymet_forcing_all['Year'].astype(int).astype(str) + '-' +\n",
    "    daymet_forcing_all['Mnth'].astype(int).apply(lambda x: f'{x:02d}') + '-' +\n",
    "    daymet_forcing_all['Day'].astype(int).apply(lambda x: f'{x:02d}')\n",
    ")\n",
    "\n",
    "# Drop 'Year', 'Mnth', and 'Day'\n",
    "daymet_forcing_all.drop(['Year', 'Mnth', 'Day'], axis=1, inplace=True)\n",
    "\n",
    "# Reindex the DataFrame to place 'Date' at the front\n",
    "daymet_forcing_all = daymet_forcing_all[['Date', 'gauge_id', 'prcp(mm/day)',\t'srad(W/m2)',\t'swe(mm)','tmax(C)','tmin(C)',\t'vp(Pa)']]\n",
    "daymet_forcing_all"
   ]
  },
  {
   "cell_type": "code",
   "execution_count": 42,
   "metadata": {},
   "outputs": [
    {
     "data": {
      "text/html": [
       "<div>\n",
       "<style scoped>\n",
       "    .dataframe tbody tr th:only-of-type {\n",
       "        vertical-align: middle;\n",
       "    }\n",
       "\n",
       "    .dataframe tbody tr th {\n",
       "        vertical-align: top;\n",
       "    }\n",
       "\n",
       "    .dataframe thead th {\n",
       "        text-align: right;\n",
       "    }\n",
       "</style>\n",
       "<table border=\"1\" class=\"dataframe\">\n",
       "  <thead>\n",
       "    <tr style=\"text-align: right;\">\n",
       "      <th></th>\n",
       "      <th>prcp(mm/day)</th>\n",
       "      <th>srad(W/m2)</th>\n",
       "      <th>swe(mm)</th>\n",
       "      <th>tmax(C)</th>\n",
       "      <th>tmin(C)</th>\n",
       "      <th>vp(Pa)</th>\n",
       "    </tr>\n",
       "  </thead>\n",
       "  <tbody>\n",
       "    <tr>\n",
       "      <th>count</th>\n",
       "      <td>8654764.000</td>\n",
       "      <td>8654764.000</td>\n",
       "      <td>8654764.0</td>\n",
       "      <td>8654764.000</td>\n",
       "      <td>8654764.000</td>\n",
       "      <td>8654764.000</td>\n",
       "    </tr>\n",
       "    <tr>\n",
       "      <th>mean</th>\n",
       "      <td>3.237</td>\n",
       "      <td>340.849</td>\n",
       "      <td>0.0</td>\n",
       "      <td>16.649</td>\n",
       "      <td>4.218</td>\n",
       "      <td>953.215</td>\n",
       "    </tr>\n",
       "    <tr>\n",
       "      <th>std</th>\n",
       "      <td>7.741</td>\n",
       "      <td>131.539</td>\n",
       "      <td>0.0</td>\n",
       "      <td>11.173</td>\n",
       "      <td>10.191</td>\n",
       "      <td>654.749</td>\n",
       "    </tr>\n",
       "    <tr>\n",
       "      <th>min</th>\n",
       "      <td>0.000</td>\n",
       "      <td>13.050</td>\n",
       "      <td>0.0</td>\n",
       "      <td>-38.070</td>\n",
       "      <td>-48.840</td>\n",
       "      <td>0.000</td>\n",
       "    </tr>\n",
       "    <tr>\n",
       "      <th>25%</th>\n",
       "      <td>0.000</td>\n",
       "      <td>242.500</td>\n",
       "      <td>0.0</td>\n",
       "      <td>8.260</td>\n",
       "      <td>-2.500</td>\n",
       "      <td>465.150</td>\n",
       "    </tr>\n",
       "    <tr>\n",
       "      <th>50%</th>\n",
       "      <td>0.000</td>\n",
       "      <td>342.830</td>\n",
       "      <td>0.0</td>\n",
       "      <td>17.760</td>\n",
       "      <td>4.160</td>\n",
       "      <td>743.870</td>\n",
       "    </tr>\n",
       "    <tr>\n",
       "      <th>75%</th>\n",
       "      <td>2.830</td>\n",
       "      <td>438.760</td>\n",
       "      <td>0.0</td>\n",
       "      <td>25.640</td>\n",
       "      <td>11.860</td>\n",
       "      <td>1315.160</td>\n",
       "    </tr>\n",
       "    <tr>\n",
       "      <th>max</th>\n",
       "      <td>200.000</td>\n",
       "      <td>800.000</td>\n",
       "      <td>0.0</td>\n",
       "      <td>46.280</td>\n",
       "      <td>29.890</td>\n",
       "      <td>3659.250</td>\n",
       "    </tr>\n",
       "  </tbody>\n",
       "</table>\n",
       "</div>"
      ],
      "text/plain": [
       "       prcp(mm/day)   srad(W/m2)    swe(mm)      tmax(C)      tmin(C)  \\\n",
       "count   8654764.000  8654764.000  8654764.0  8654764.000  8654764.000   \n",
       "mean          3.237      340.849        0.0       16.649        4.218   \n",
       "std           7.741      131.539        0.0       11.173       10.191   \n",
       "min           0.000       13.050        0.0      -38.070      -48.840   \n",
       "25%           0.000      242.500        0.0        8.260       -2.500   \n",
       "50%           0.000      342.830        0.0       17.760        4.160   \n",
       "75%           2.830      438.760        0.0       25.640       11.860   \n",
       "max         200.000      800.000        0.0       46.280       29.890   \n",
       "\n",
       "            vp(Pa)  \n",
       "count  8654764.000  \n",
       "mean       953.215  \n",
       "std        654.749  \n",
       "min          0.000  \n",
       "25%        465.150  \n",
       "50%        743.870  \n",
       "75%       1315.160  \n",
       "max       3659.250  "
      ]
     },
     "execution_count": 42,
     "metadata": {},
     "output_type": "execute_result"
    }
   ],
   "source": [
    "daymet_forcing_all2 = daymet_forcing_all.copy()\n",
    "daymet_forcing_all2 = daymet_forcing_all2.drop('Date',axis=1)\n",
    "daymet_forcing_all2.describe().round(3)"
   ]
  },
  {
   "cell_type": "markdown",
   "metadata": {},
   "source": [
    "###  ***Aggregate Daily to Monthly:***"
   ]
  },
  {
   "cell_type": "code",
   "execution_count": 43,
   "metadata": {},
   "outputs": [
    {
     "data": {
      "text/html": [
       "<div>\n",
       "<style scoped>\n",
       "    .dataframe tbody tr th:only-of-type {\n",
       "        vertical-align: middle;\n",
       "    }\n",
       "\n",
       "    .dataframe tbody tr th {\n",
       "        vertical-align: top;\n",
       "    }\n",
       "\n",
       "    .dataframe thead th {\n",
       "        text-align: right;\n",
       "    }\n",
       "</style>\n",
       "<table border=\"1\" class=\"dataframe\">\n",
       "  <thead>\n",
       "    <tr style=\"text-align: right;\">\n",
       "      <th></th>\n",
       "      <th>gauge_id</th>\n",
       "      <th>Date</th>\n",
       "      <th>prcp(mm/day)</th>\n",
       "      <th>srad(W/m2)</th>\n",
       "      <th>tmax(C)</th>\n",
       "      <th>tmin(C)</th>\n",
       "      <th>vp(Pa)</th>\n",
       "      <th>swe(mm)</th>\n",
       "    </tr>\n",
       "  </thead>\n",
       "  <tbody>\n",
       "    <tr>\n",
       "      <th>0</th>\n",
       "      <td>01013500</td>\n",
       "      <td>1980-01-31</td>\n",
       "      <td>1.497419</td>\n",
       "      <td>169.483548</td>\n",
       "      <td>-6.066129</td>\n",
       "      <td>-16.922581</td>\n",
       "      <td>178.982903</td>\n",
       "      <td>0.0</td>\n",
       "    </tr>\n",
       "    <tr>\n",
       "      <th>1</th>\n",
       "      <td>01013500</td>\n",
       "      <td>1980-02-29</td>\n",
       "      <td>0.823448</td>\n",
       "      <td>289.835862</td>\n",
       "      <td>-6.250345</td>\n",
       "      <td>-18.972069</td>\n",
       "      <td>149.195517</td>\n",
       "      <td>0.0</td>\n",
       "    </tr>\n",
       "    <tr>\n",
       "      <th>2</th>\n",
       "      <td>01013500</td>\n",
       "      <td>1980-03-31</td>\n",
       "      <td>3.228387</td>\n",
       "      <td>348.346774</td>\n",
       "      <td>0.368065</td>\n",
       "      <td>-11.706774</td>\n",
       "      <td>290.061935</td>\n",
       "      <td>0.0</td>\n",
       "    </tr>\n",
       "    <tr>\n",
       "      <th>3</th>\n",
       "      <td>01013500</td>\n",
       "      <td>1980-04-30</td>\n",
       "      <td>2.572667</td>\n",
       "      <td>428.151667</td>\n",
       "      <td>9.135667</td>\n",
       "      <td>-1.575333</td>\n",
       "      <td>560.668667</td>\n",
       "      <td>0.0</td>\n",
       "    </tr>\n",
       "    <tr>\n",
       "      <th>4</th>\n",
       "      <td>01013500</td>\n",
       "      <td>1980-05-31</td>\n",
       "      <td>1.767742</td>\n",
       "      <td>496.940968</td>\n",
       "      <td>16.509677</td>\n",
       "      <td>2.600645</td>\n",
       "      <td>726.139355</td>\n",
       "      <td>0.0</td>\n",
       "    </tr>\n",
       "    <tr>\n",
       "      <th>...</th>\n",
       "      <td>...</td>\n",
       "      <td>...</td>\n",
       "      <td>...</td>\n",
       "      <td>...</td>\n",
       "      <td>...</td>\n",
       "      <td>...</td>\n",
       "      <td>...</td>\n",
       "      <td>...</td>\n",
       "    </tr>\n",
       "    <tr>\n",
       "      <th>284335</th>\n",
       "      <td>14400000</td>\n",
       "      <td>2014-08-31</td>\n",
       "      <td>0.152581</td>\n",
       "      <td>423.997097</td>\n",
       "      <td>25.783548</td>\n",
       "      <td>13.252903</td>\n",
       "      <td>774.225484</td>\n",
       "      <td>0.0</td>\n",
       "    </tr>\n",
       "    <tr>\n",
       "      <th>284336</th>\n",
       "      <td>14400000</td>\n",
       "      <td>2014-09-30</td>\n",
       "      <td>3.656667</td>\n",
       "      <td>336.296667</td>\n",
       "      <td>23.551000</td>\n",
       "      <td>11.730667</td>\n",
       "      <td>869.588667</td>\n",
       "      <td>0.0</td>\n",
       "    </tr>\n",
       "    <tr>\n",
       "      <th>284337</th>\n",
       "      <td>14400000</td>\n",
       "      <td>2014-10-31</td>\n",
       "      <td>8.196452</td>\n",
       "      <td>213.353226</td>\n",
       "      <td>18.365806</td>\n",
       "      <td>9.621613</td>\n",
       "      <td>1205.485484</td>\n",
       "      <td>0.0</td>\n",
       "    </tr>\n",
       "    <tr>\n",
       "      <th>284338</th>\n",
       "      <td>14400000</td>\n",
       "      <td>2014-11-30</td>\n",
       "      <td>6.551000</td>\n",
       "      <td>174.885000</td>\n",
       "      <td>13.334333</td>\n",
       "      <td>6.223667</td>\n",
       "      <td>962.714000</td>\n",
       "      <td>0.0</td>\n",
       "    </tr>\n",
       "    <tr>\n",
       "      <th>284339</th>\n",
       "      <td>14400000</td>\n",
       "      <td>2014-12-31</td>\n",
       "      <td>13.705161</td>\n",
       "      <td>110.719355</td>\n",
       "      <td>10.114194</td>\n",
       "      <td>4.945161</td>\n",
       "      <td>894.371290</td>\n",
       "      <td>0.0</td>\n",
       "    </tr>\n",
       "  </tbody>\n",
       "</table>\n",
       "<p>284340 rows × 8 columns</p>\n",
       "</div>"
      ],
      "text/plain": [
       "        gauge_id       Date  prcp(mm/day)  srad(W/m2)    tmax(C)    tmin(C)  \\\n",
       "0       01013500 1980-01-31      1.497419  169.483548  -6.066129 -16.922581   \n",
       "1       01013500 1980-02-29      0.823448  289.835862  -6.250345 -18.972069   \n",
       "2       01013500 1980-03-31      3.228387  348.346774   0.368065 -11.706774   \n",
       "3       01013500 1980-04-30      2.572667  428.151667   9.135667  -1.575333   \n",
       "4       01013500 1980-05-31      1.767742  496.940968  16.509677   2.600645   \n",
       "...          ...        ...           ...         ...        ...        ...   \n",
       "284335  14400000 2014-08-31      0.152581  423.997097  25.783548  13.252903   \n",
       "284336  14400000 2014-09-30      3.656667  336.296667  23.551000  11.730667   \n",
       "284337  14400000 2014-10-31      8.196452  213.353226  18.365806   9.621613   \n",
       "284338  14400000 2014-11-30      6.551000  174.885000  13.334333   6.223667   \n",
       "284339  14400000 2014-12-31     13.705161  110.719355  10.114194   4.945161   \n",
       "\n",
       "             vp(Pa)  swe(mm)  \n",
       "0        178.982903      0.0  \n",
       "1        149.195517      0.0  \n",
       "2        290.061935      0.0  \n",
       "3        560.668667      0.0  \n",
       "4        726.139355      0.0  \n",
       "...             ...      ...  \n",
       "284335   774.225484      0.0  \n",
       "284336   869.588667      0.0  \n",
       "284337  1205.485484      0.0  \n",
       "284338   962.714000      0.0  \n",
       "284339   894.371290      0.0  \n",
       "\n",
       "[284340 rows x 8 columns]"
      ]
     },
     "execution_count": 43,
     "metadata": {},
     "output_type": "execute_result"
    }
   ],
   "source": [
    "daymet_forcing_all3 = daymet_forcing_all.copy()\n",
    "daymet_forcing_all3.set_index('Date', inplace=True)\n",
    "daymet_forcing_all_monthly = daymet_forcing_all3.groupby('gauge_id').resample('ME').agg({\n",
    "    'prcp(mm/day)': 'mean',\n",
    "    'srad(W/m2)': 'mean',\n",
    "    'tmax(C)': 'mean',\n",
    "    'tmin(C)': 'mean',\n",
    "    'vp(Pa)' : 'mean',\n",
    "    'swe(mm)': 'mean'\n",
    "\n",
    "}).reset_index()\n",
    "daymet_forcing_all_monthly"
   ]
  },
  {
   "cell_type": "markdown",
   "metadata": {},
   "source": [
    "### **Aggregate Daily to LongTerm**"
   ]
  },
  {
   "cell_type": "code",
   "execution_count": 44,
   "metadata": {},
   "outputs": [
    {
     "data": {
      "text/html": [
       "<div>\n",
       "<style scoped>\n",
       "    .dataframe tbody tr th:only-of-type {\n",
       "        vertical-align: middle;\n",
       "    }\n",
       "\n",
       "    .dataframe tbody tr th {\n",
       "        vertical-align: top;\n",
       "    }\n",
       "\n",
       "    .dataframe thead th {\n",
       "        text-align: right;\n",
       "    }\n",
       "</style>\n",
       "<table border=\"1\" class=\"dataframe\">\n",
       "  <thead>\n",
       "    <tr style=\"text-align: right;\">\n",
       "      <th></th>\n",
       "      <th>gauge_id</th>\n",
       "      <th>prcp(mm/day)</th>\n",
       "      <th>srad(W/m2)</th>\n",
       "      <th>tmax(C)</th>\n",
       "      <th>tmin(C)</th>\n",
       "      <th>vp(Pa)</th>\n",
       "      <th>swe(mm)</th>\n",
       "    </tr>\n",
       "  </thead>\n",
       "  <tbody>\n",
       "    <tr>\n",
       "      <th>0</th>\n",
       "      <td>01013500</td>\n",
       "      <td>3.120526</td>\n",
       "      <td>300.572006</td>\n",
       "      <td>9.220993</td>\n",
       "      <td>-2.481722</td>\n",
       "      <td>671.937525</td>\n",
       "      <td>0.0</td>\n",
       "    </tr>\n",
       "    <tr>\n",
       "      <th>1</th>\n",
       "      <td>01022500</td>\n",
       "      <td>3.620821</td>\n",
       "      <td>310.196070</td>\n",
       "      <td>12.112505</td>\n",
       "      <td>0.955238</td>\n",
       "      <td>801.352653</td>\n",
       "      <td>0.0</td>\n",
       "    </tr>\n",
       "    <tr>\n",
       "      <th>2</th>\n",
       "      <td>01030500</td>\n",
       "      <td>3.275356</td>\n",
       "      <td>307.201212</td>\n",
       "      <td>10.998673</td>\n",
       "      <td>-0.761268</td>\n",
       "      <td>738.693860</td>\n",
       "      <td>0.0</td>\n",
       "    </tr>\n",
       "    <tr>\n",
       "      <th>3</th>\n",
       "      <td>01031500</td>\n",
       "      <td>3.466394</td>\n",
       "      <td>313.644911</td>\n",
       "      <td>10.569172</td>\n",
       "      <td>-1.226809</td>\n",
       "      <td>717.508827</td>\n",
       "      <td>0.0</td>\n",
       "    </tr>\n",
       "    <tr>\n",
       "      <th>4</th>\n",
       "      <td>01047000</td>\n",
       "      <td>3.321431</td>\n",
       "      <td>313.222929</td>\n",
       "      <td>10.403497</td>\n",
       "      <td>-1.523059</td>\n",
       "      <td>705.136046</td>\n",
       "      <td>0.0</td>\n",
       "    </tr>\n",
       "    <tr>\n",
       "      <th>...</th>\n",
       "      <td>...</td>\n",
       "      <td>...</td>\n",
       "      <td>...</td>\n",
       "      <td>...</td>\n",
       "      <td>...</td>\n",
       "      <td>...</td>\n",
       "      <td>...</td>\n",
       "    </tr>\n",
       "    <tr>\n",
       "      <th>672</th>\n",
       "      <td>14309500</td>\n",
       "      <td>4.805578</td>\n",
       "      <td>297.341378</td>\n",
       "      <td>14.586868</td>\n",
       "      <td>4.431871</td>\n",
       "      <td>783.121604</td>\n",
       "      <td>0.0</td>\n",
       "    </tr>\n",
       "    <tr>\n",
       "      <th>673</th>\n",
       "      <td>14316700</td>\n",
       "      <td>4.610916</td>\n",
       "      <td>303.665879</td>\n",
       "      <td>14.561913</td>\n",
       "      <td>2.638946</td>\n",
       "      <td>730.663114</td>\n",
       "      <td>0.0</td>\n",
       "    </tr>\n",
       "    <tr>\n",
       "      <th>674</th>\n",
       "      <td>14325000</td>\n",
       "      <td>6.263748</td>\n",
       "      <td>288.531769</td>\n",
       "      <td>14.020368</td>\n",
       "      <td>4.834819</td>\n",
       "      <td>846.000200</td>\n",
       "      <td>0.0</td>\n",
       "    </tr>\n",
       "    <tr>\n",
       "      <th>675</th>\n",
       "      <td>14362250</td>\n",
       "      <td>2.853812</td>\n",
       "      <td>326.327605</td>\n",
       "      <td>16.358921</td>\n",
       "      <td>3.176675</td>\n",
       "      <td>653.355316</td>\n",
       "      <td>0.0</td>\n",
       "    </tr>\n",
       "    <tr>\n",
       "      <th>676</th>\n",
       "      <td>14400000</td>\n",
       "      <td>5.622780</td>\n",
       "      <td>298.752561</td>\n",
       "      <td>14.341036</td>\n",
       "      <td>5.090761</td>\n",
       "      <td>828.424620</td>\n",
       "      <td>0.0</td>\n",
       "    </tr>\n",
       "  </tbody>\n",
       "</table>\n",
       "<p>677 rows × 7 columns</p>\n",
       "</div>"
      ],
      "text/plain": [
       "     gauge_id  prcp(mm/day)  srad(W/m2)    tmax(C)   tmin(C)      vp(Pa)  \\\n",
       "0    01013500      3.120526  300.572006   9.220993 -2.481722  671.937525   \n",
       "1    01022500      3.620821  310.196070  12.112505  0.955238  801.352653   \n",
       "2    01030500      3.275356  307.201212  10.998673 -0.761268  738.693860   \n",
       "3    01031500      3.466394  313.644911  10.569172 -1.226809  717.508827   \n",
       "4    01047000      3.321431  313.222929  10.403497 -1.523059  705.136046   \n",
       "..        ...           ...         ...        ...       ...         ...   \n",
       "672  14309500      4.805578  297.341378  14.586868  4.431871  783.121604   \n",
       "673  14316700      4.610916  303.665879  14.561913  2.638946  730.663114   \n",
       "674  14325000      6.263748  288.531769  14.020368  4.834819  846.000200   \n",
       "675  14362250      2.853812  326.327605  16.358921  3.176675  653.355316   \n",
       "676  14400000      5.622780  298.752561  14.341036  5.090761  828.424620   \n",
       "\n",
       "     swe(mm)  \n",
       "0        0.0  \n",
       "1        0.0  \n",
       "2        0.0  \n",
       "3        0.0  \n",
       "4        0.0  \n",
       "..       ...  \n",
       "672      0.0  \n",
       "673      0.0  \n",
       "674      0.0  \n",
       "675      0.0  \n",
       "676      0.0  \n",
       "\n",
       "[677 rows x 7 columns]"
      ]
     },
     "execution_count": 44,
     "metadata": {},
     "output_type": "execute_result"
    }
   ],
   "source": [
    "daymet_forcing_all_long_term = daymet_forcing_all.groupby('gauge_id').agg({\n",
    "    'prcp(mm/day)': 'mean',\n",
    "    'srad(W/m2)': 'mean',\n",
    "    'tmax(C)': 'mean',\n",
    "    'tmin(C)': 'mean',\n",
    "    'vp(Pa)' : 'mean',\n",
    "    'swe(mm)': 'mean'\n",
    "\n",
    "}).reset_index()\n",
    "\n",
    "daymet_forcing_all_long_term"
   ]
  },
  {
   "cell_type": "code",
   "execution_count": 45,
   "metadata": {
    "scrolled": true
   },
   "outputs": [
    {
     "data": {
      "text/html": [
       "<div>\n",
       "<style scoped>\n",
       "    .dataframe tbody tr th:only-of-type {\n",
       "        vertical-align: middle;\n",
       "    }\n",
       "\n",
       "    .dataframe tbody tr th {\n",
       "        vertical-align: top;\n",
       "    }\n",
       "\n",
       "    .dataframe thead th {\n",
       "        text-align: right;\n",
       "    }\n",
       "</style>\n",
       "<table border=\"1\" class=\"dataframe\">\n",
       "  <thead>\n",
       "    <tr style=\"text-align: right;\">\n",
       "      <th></th>\n",
       "      <th>prcp(mm/day)</th>\n",
       "      <th>srad(W/m2)</th>\n",
       "      <th>tmax(C)</th>\n",
       "      <th>tmin(C)</th>\n",
       "      <th>vp(Pa)</th>\n",
       "      <th>swe(mm)</th>\n",
       "    </tr>\n",
       "  </thead>\n",
       "  <tbody>\n",
       "    <tr>\n",
       "      <th>count</th>\n",
       "      <td>677.000000</td>\n",
       "      <td>677.000000</td>\n",
       "      <td>677.000000</td>\n",
       "      <td>677.000000</td>\n",
       "      <td>677.000000</td>\n",
       "      <td>677.0</td>\n",
       "    </tr>\n",
       "    <tr>\n",
       "      <th>mean</th>\n",
       "      <td>3.237073</td>\n",
       "      <td>340.848944</td>\n",
       "      <td>16.648720</td>\n",
       "      <td>4.218250</td>\n",
       "      <td>953.214626</td>\n",
       "      <td>0.0</td>\n",
       "    </tr>\n",
       "    <tr>\n",
       "      <th>std</th>\n",
       "      <td>1.424533</td>\n",
       "      <td>41.468194</td>\n",
       "      <td>5.490677</td>\n",
       "      <td>5.136129</td>\n",
       "      <td>359.324706</td>\n",
       "      <td>0.0</td>\n",
       "    </tr>\n",
       "    <tr>\n",
       "      <th>min</th>\n",
       "      <td>0.661827</td>\n",
       "      <td>247.292815</td>\n",
       "      <td>5.449359</td>\n",
       "      <td>-8.258558</td>\n",
       "      <td>332.538860</td>\n",
       "      <td>0.0</td>\n",
       "    </tr>\n",
       "    <tr>\n",
       "      <th>25%</th>\n",
       "      <td>2.320965</td>\n",
       "      <td>318.247369</td>\n",
       "      <td>12.474740</td>\n",
       "      <td>0.572560</td>\n",
       "      <td>693.325867</td>\n",
       "      <td>0.0</td>\n",
       "    </tr>\n",
       "    <tr>\n",
       "      <th>50%</th>\n",
       "      <td>3.189837</td>\n",
       "      <td>335.253751</td>\n",
       "      <td>16.147670</td>\n",
       "      <td>4.144294</td>\n",
       "      <td>888.506957</td>\n",
       "      <td>0.0</td>\n",
       "    </tr>\n",
       "    <tr>\n",
       "      <th>75%</th>\n",
       "      <td>3.746599</td>\n",
       "      <td>353.961449</td>\n",
       "      <td>20.475038</td>\n",
       "      <td>7.254660</td>\n",
       "      <td>1167.873093</td>\n",
       "      <td>0.0</td>\n",
       "    </tr>\n",
       "    <tr>\n",
       "      <th>max</th>\n",
       "      <td>8.915157</td>\n",
       "      <td>485.914315</td>\n",
       "      <td>29.217443</td>\n",
       "      <td>17.164483</td>\n",
       "      <td>2008.928249</td>\n",
       "      <td>0.0</td>\n",
       "    </tr>\n",
       "  </tbody>\n",
       "</table>\n",
       "</div>"
      ],
      "text/plain": [
       "       prcp(mm/day)  srad(W/m2)     tmax(C)     tmin(C)       vp(Pa)  swe(mm)\n",
       "count    677.000000  677.000000  677.000000  677.000000   677.000000    677.0\n",
       "mean       3.237073  340.848944   16.648720    4.218250   953.214626      0.0\n",
       "std        1.424533   41.468194    5.490677    5.136129   359.324706      0.0\n",
       "min        0.661827  247.292815    5.449359   -8.258558   332.538860      0.0\n",
       "25%        2.320965  318.247369   12.474740    0.572560   693.325867      0.0\n",
       "50%        3.189837  335.253751   16.147670    4.144294   888.506957      0.0\n",
       "75%        3.746599  353.961449   20.475038    7.254660  1167.873093      0.0\n",
       "max        8.915157  485.914315   29.217443   17.164483  2008.928249      0.0"
      ]
     },
     "execution_count": 45,
     "metadata": {},
     "output_type": "execute_result"
    }
   ],
   "source": [
    "daymet_forcing_all_long_term.describe()"
   ]
  },
  {
   "cell_type": "markdown",
   "metadata": {},
   "source": [
    "## Merge daymet_forcing_all_long_term"
   ]
  },
  {
   "cell_type": "code",
   "execution_count": 46,
   "metadata": {
    "colab": {
     "base_uri": "https://localhost:8080/",
     "height": 688
    },
    "id": "EczSaJo7sobJ",
    "outputId": "d934263f-b41d-48fd-b78c-e90cfc2ad547",
    "scrolled": true
   },
   "outputs": [
    {
     "name": "stderr",
     "output_type": "stream",
     "text": [
      "/tmp/ipykernel_61684/507877223.py:19: UserWarning: Geometry is in a geographic CRS. Results from 'centroid' are likely incorrect. Use 'GeoSeries.to_crs()' to re-project geometries to a projected CRS before this operation.\n",
      "\n",
      "  attrs['geometry_points'] = attrs['geometry'].centroid\n"
     ]
    }
   ],
   "source": [
    "# State boundary\n",
    "states_all = gpd.read_file('/mh1/Atakallou/MLproject/States_shapefile.shp').to_crs(5070)\n",
    "states = states_all[~states_all['State_Name'].isin(['ALASKA', 'HAWAII'])]\n",
    "\n",
    "# Conus\n",
    "attrs = gpd.read_feather('/mh1/Atakallou/MLproject/camels_attributes_v2.0.feather')\n",
    "world = gpd.read_file(\"https://naturalearth.s3.amazonaws.com/110m_cultural/ne_110m_admin_0_countries.zip\")\n",
    "world = gpd.read_file(\"https://naturalearth.s3.amazonaws.com/110m_cultural/ne_110m_admin_0_countries.zip\")\n",
    "conus_geom = world[world.ISO_A3 == \"USA\"].geometry.iloc[0].geoms[0]\n",
    "conus = gpd.GeoSeries(conus_geom, crs=world.crs).to_crs(5070)\n",
    "attrs = attrs.reset_index(drop=False)\n",
    "\n",
    "# Merge longTerm CAMELEs output to attrs\n",
    "attrs =  attrs.merge(daymet_forcing_all_long_term,on='gauge_id')\n",
    "# Merge Attributes basd on the gauge_id\n",
    "attrs['gauge_id'] = attrs['gauge_id'].astype(str).apply(lambda x: '0' + x if not x.startswith('0') else x)\n",
    "\n",
    "# Create a new column to store the point geometries\n",
    "attrs['geometry_points'] = attrs['geometry'].centroid\n",
    "# Convert the 'geometry_points' column to the geometry column\n",
    "attrs = attrs.set_geometry('geometry_points')\n",
    "# Drop the temporary 'geometry_points' column\n",
    "attrs = attrs.drop(columns=['geometry'])"
   ]
  },
  {
   "cell_type": "code",
   "execution_count": 47,
   "metadata": {},
   "outputs": [
    {
     "data": {
      "text/html": [
       "<div>\n",
       "<style scoped>\n",
       "    .dataframe tbody tr th:only-of-type {\n",
       "        vertical-align: middle;\n",
       "    }\n",
       "\n",
       "    .dataframe tbody tr th {\n",
       "        vertical-align: top;\n",
       "    }\n",
       "\n",
       "    .dataframe thead th {\n",
       "        text-align: right;\n",
       "    }\n",
       "</style>\n",
       "<table border=\"1\" class=\"dataframe\">\n",
       "  <thead>\n",
       "    <tr style=\"text-align: right;\">\n",
       "      <th></th>\n",
       "      <th>gauge_id</th>\n",
       "      <th>huc_02</th>\n",
       "      <th>gauge_name</th>\n",
       "      <th>q_mean</th>\n",
       "      <th>runoff_ratio</th>\n",
       "      <th>slope_fdc</th>\n",
       "      <th>baseflow_index</th>\n",
       "      <th>stream_elas</th>\n",
       "      <th>q5</th>\n",
       "      <th>q95</th>\n",
       "      <th>...</th>\n",
       "      <th>carbonate_rocks_frac</th>\n",
       "      <th>geol_porostiy</th>\n",
       "      <th>geol_permeability</th>\n",
       "      <th>prcp(mm/day)</th>\n",
       "      <th>srad(W/m2)</th>\n",
       "      <th>tmax(C)</th>\n",
       "      <th>tmin(C)</th>\n",
       "      <th>vp(Pa)</th>\n",
       "      <th>swe(mm)</th>\n",
       "      <th>geometry_points</th>\n",
       "    </tr>\n",
       "  </thead>\n",
       "  <tbody>\n",
       "    <tr>\n",
       "      <th>0</th>\n",
       "      <td>01013500</td>\n",
       "      <td>01</td>\n",
       "      <td>Fish River Near Fort Kent, Maine</td>\n",
       "      <td>1.699155</td>\n",
       "      <td>0.543437</td>\n",
       "      <td>1.528219</td>\n",
       "      <td>0.585226</td>\n",
       "      <td>1.845324</td>\n",
       "      <td>0.241106</td>\n",
       "      <td>6.373021</td>\n",
       "      <td>...</td>\n",
       "      <td>0.00000</td>\n",
       "      <td>0.1714</td>\n",
       "      <td>-14.7019</td>\n",
       "      <td>3.120526</td>\n",
       "      <td>300.572006</td>\n",
       "      <td>9.220993</td>\n",
       "      <td>-2.481722</td>\n",
       "      <td>671.937525</td>\n",
       "      <td>0.0</td>\n",
       "      <td>POINT (-68.56551 47.01169)</td>\n",
       "    </tr>\n",
       "    <tr>\n",
       "      <th>1</th>\n",
       "      <td>01022500</td>\n",
       "      <td>01</td>\n",
       "      <td>Narraguagus River At Cherryfield, Maine</td>\n",
       "      <td>2.173062</td>\n",
       "      <td>0.602269</td>\n",
       "      <td>1.776280</td>\n",
       "      <td>0.554478</td>\n",
       "      <td>1.702782</td>\n",
       "      <td>0.204734</td>\n",
       "      <td>7.123049</td>\n",
       "      <td>...</td>\n",
       "      <td>0.00000</td>\n",
       "      <td>0.0710</td>\n",
       "      <td>-14.2138</td>\n",
       "      <td>3.620821</td>\n",
       "      <td>310.196070</td>\n",
       "      <td>12.112505</td>\n",
       "      <td>0.955238</td>\n",
       "      <td>801.352653</td>\n",
       "      <td>0.0</td>\n",
       "      <td>POINT (-68.07313 44.79692)</td>\n",
       "    </tr>\n",
       "    <tr>\n",
       "      <th>2</th>\n",
       "      <td>01030500</td>\n",
       "      <td>01</td>\n",
       "      <td>Mattawamkeag River Near Mattawamkeag, Maine</td>\n",
       "      <td>1.820108</td>\n",
       "      <td>0.555859</td>\n",
       "      <td>1.871110</td>\n",
       "      <td>0.508441</td>\n",
       "      <td>1.377505</td>\n",
       "      <td>0.107149</td>\n",
       "      <td>6.854887</td>\n",
       "      <td>...</td>\n",
       "      <td>0.05214</td>\n",
       "      <td>0.1178</td>\n",
       "      <td>-14.4918</td>\n",
       "      <td>3.275356</td>\n",
       "      <td>307.201212</td>\n",
       "      <td>10.998673</td>\n",
       "      <td>-0.761268</td>\n",
       "      <td>738.693860</td>\n",
       "      <td>0.0</td>\n",
       "      <td>POINT (-68.14985 45.80527)</td>\n",
       "    </tr>\n",
       "  </tbody>\n",
       "</table>\n",
       "<p>3 rows × 67 columns</p>\n",
       "</div>"
      ],
      "text/plain": [
       "   gauge_id huc_02                                   gauge_name    q_mean  \\\n",
       "0  01013500     01             Fish River Near Fort Kent, Maine  1.699155   \n",
       "1  01022500     01      Narraguagus River At Cherryfield, Maine  2.173062   \n",
       "2  01030500     01  Mattawamkeag River Near Mattawamkeag, Maine  1.820108   \n",
       "\n",
       "   runoff_ratio  slope_fdc  baseflow_index  stream_elas        q5       q95  \\\n",
       "0      0.543437   1.528219        0.585226     1.845324  0.241106  6.373021   \n",
       "1      0.602269   1.776280        0.554478     1.702782  0.204734  7.123049   \n",
       "2      0.555859   1.871110        0.508441     1.377505  0.107149  6.854887   \n",
       "\n",
       "   ...  carbonate_rocks_frac  geol_porostiy  geol_permeability  prcp(mm/day)  \\\n",
       "0  ...               0.00000         0.1714           -14.7019      3.120526   \n",
       "1  ...               0.00000         0.0710           -14.2138      3.620821   \n",
       "2  ...               0.05214         0.1178           -14.4918      3.275356   \n",
       "\n",
       "   srad(W/m2)    tmax(C)   tmin(C)      vp(Pa)  swe(mm)  \\\n",
       "0  300.572006   9.220993 -2.481722  671.937525      0.0   \n",
       "1  310.196070  12.112505  0.955238  801.352653      0.0   \n",
       "2  307.201212  10.998673 -0.761268  738.693860      0.0   \n",
       "\n",
       "              geometry_points  \n",
       "0  POINT (-68.56551 47.01169)  \n",
       "1  POINT (-68.07313 44.79692)  \n",
       "2  POINT (-68.14985 45.80527)  \n",
       "\n",
       "[3 rows x 67 columns]"
      ]
     },
     "execution_count": 47,
     "metadata": {},
     "output_type": "execute_result"
    }
   ],
   "source": [
    "attrs.head(3)"
   ]
  },
  {
   "cell_type": "code",
   "execution_count": 48,
   "metadata": {},
   "outputs": [
    {
     "data": {
      "text/plain": [
       "Index(['gauge_id', 'huc_02', 'gauge_name', 'q_mean', 'runoff_ratio',\n",
       "       'slope_fdc', 'baseflow_index', 'stream_elas', 'q5', 'q95',\n",
       "       'high_q_freq', 'high_q_dur', 'low_q_freq', 'low_q_dur', 'zero_q_freq',\n",
       "       'hfd_mean', 'soil_depth_pelletier', 'soil_depth_statsgo',\n",
       "       'soil_porosity', 'soil_conductivity', 'max_water_content', 'sand_frac',\n",
       "       'silt_frac', 'clay_frac', 'water_frac', 'organic_frac', 'other_frac',\n",
       "       'p_mean', 'pet_mean', 'p_seasonality', 'frac_snow', 'aridity',\n",
       "       'high_prec_freq', 'high_prec_dur', 'high_prec_timing', 'low_prec_freq',\n",
       "       'low_prec_dur', 'low_prec_timing', 'frac_forest', 'lai_max', 'lai_diff',\n",
       "       'gvf_max', 'gvf_diff', 'dom_land_cover_frac', 'dom_land_cover',\n",
       "       'root_depth_50', 'root_depth_99', 'gauge_lat', 'gauge_lon', 'elev_mean',\n",
       "       'slope_mean', 'area_gages2', 'area_geospa_fabric', 'geol_1st_class',\n",
       "       'glim_1st_class_frac', 'geol_2nd_class', 'glim_2nd_class_frac',\n",
       "       'carbonate_rocks_frac', 'geol_porostiy', 'geol_permeability',\n",
       "       'prcp(mm/day)', 'srad(W/m2)', 'tmax(C)', 'tmin(C)', 'vp(Pa)', 'swe(mm)',\n",
       "       'geometry_points'],\n",
       "      dtype='object')"
      ]
     },
     "execution_count": 48,
     "metadata": {},
     "output_type": "execute_result"
    }
   ],
   "source": [
    "attrs.columns"
   ]
  },
  {
   "cell_type": "markdown",
   "metadata": {},
   "source": [
    "## **Plot the selected Parameters**"
   ]
  },
  {
   "cell_type": "code",
   "execution_count": 49,
   "metadata": {},
   "outputs": [
    {
     "data": {
      "image/png": "[encoded data removed]",
      "text/plain": [
       "<Figure size 1600x500 with 16 Axes>"
      ]
     },
     "metadata": {},
     "output_type": "display_data"
    }
   ],
   "source": [
    "conus = gpd.GeoSeries(conus_geom, crs=world.crs).to_crs(5070)\n",
    "fig, ax = plt.subplots(nrows=2, ncols=4, figsize=(16, 5), facecolor=\"w\", sharex=True, sharey=True)\n",
    "# Plotting 'p_mean'\n",
    "conus.plot(ax=ax[0, 0], facecolor=\"none\", edgecolor=\"k\", linewidth=1.8)\n",
    "attrs.to_crs(5070).plot(ax=ax[0, 0], column=\"pet_mean\", legend=True, cmap=\"jet\", legend_kwds={'label': \"PET [mm/year]\"}, markersize=25)\n",
    "ax[0, 0].set_title('PET')\n",
    "\n",
    "# Plotting 'tmax(C)'\n",
    "conus.plot(ax=ax[0, 1], facecolor=\"none\", edgecolor=\"k\", linewidth=1.8)\n",
    "attrs.to_crs(5070).plot(ax=ax[0, 1], column=\"tmax(C)\", legend=True, cmap=\"jet\", legend_kwds={'label': \"Tmax [°C]\"}, markersize=25)\n",
    "ax[0, 1].set_title('Maximum Temp')\n",
    "\n",
    "# Plotting 'prcp(mm/day)'\n",
    "conus.plot(ax=ax[0, 2], facecolor=\"none\", edgecolor=\"k\", linewidth=1.8)\n",
    "attrs.to_crs(5070).plot(ax=ax[0, 2], column=\"prcp(mm/day)\", legend=True, cmap=\"jet\", legend_kwds={'label': \"Prcp [mm/day]\"}, markersize=25)\n",
    "ax[0, 2].set_title('Precipitation')\n",
    "\n",
    "# Plotting 'srad(W/m2)'\n",
    "conus.plot(ax=ax[0, 3], facecolor=\"none\", edgecolor=\"k\", linewidth=1.8)\n",
    "attrs.to_crs(5070).plot(ax=ax[0, 3], column=\"srad(W/m2)\", legend=True, cmap=\"jet\", legend_kwds={'label': \"Solar Radiation [W/m2]\"}, markersize=25)\n",
    "ax[0, 3].set_title('Solar Radiation')\n",
    "\n",
    "# Plotting 'tmin(C)'\n",
    "conus.plot(ax=ax[1, 0], facecolor=\"none\", edgecolor=\"k\", linewidth=1.8)\n",
    "attrs.to_crs(5070).plot(ax=ax[1, 0], column=\"tmin(C)\", legend=True, cmap=\"jet\", legend_kwds={'label': \"Tmin [°C]\"}, markersize=25)\n",
    "ax[1, 0].set_title('Minimum Temp')\n",
    "\n",
    "# Plotting 'vp(Pa)'\n",
    "conus.plot(ax=ax[1, 1], facecolor=\"none\", edgecolor=\"k\", linewidth=1.8)\n",
    "attrs.to_crs(5070).plot(ax=ax[1, 1], column=\"vp(Pa)\", legend=True, cmap=\"jet\", legend_kwds={'label': \"Vapor Pressure []Pa]\"}, markersize=25)\n",
    "ax[1, 1].set_title('Vapor Pressure')\n",
    "\n",
    "# Plotting 'q_mean'\n",
    "conus.plot(ax=ax[1, 2], facecolor=\"none\", edgecolor=\"k\", linewidth=1.8)\n",
    "attrs.to_crs(5070).plot(ax=ax[1, 2], column=\"q_mean\", legend=True, cmap=\"jet\", legend_kwds={'label': \"Q [mm/day]\"}, markersize=25)\n",
    "ax[1, 2].set_title('Stream Flow')\n",
    "\n",
    "# Plotting 'aridity'\n",
    "conus.plot(ax=ax[1, 3], facecolor=\"none\", edgecolor=\"k\", linewidth=1.8)\n",
    "attrs.to_crs(5070).plot(ax=ax[1, 3], column=\"aridity\", legend=True, cmap=\"jet\", legend_kwds={'label': \"Aridity [-]\"}, markersize=25)\n",
    "ax[1, 3].set_title('Aridity')\n",
    "\n",
    "for axes in ax.flat:\n",
    "    axes.set_axis_off()\n",
    "\n",
    "fig.tight_layout()\n",
    "fig.subplots_adjust(top=0.92)\n",
    "\n",
    "# Save the plot\n",
    "fig.savefig(Path(\"CAMELS_Daymet_longTerm_variables.png\"))"
   ]
  },
  {
   "cell_type": "markdown",
   "metadata": {
    "id": "c727MVFoQ5Qe"
   },
   "source": [
    "## 2) Running LSTM on single basin"
   ]
  },
  {
   "cell_type": "code",
   "execution_count": 50,
   "metadata": {},
   "outputs": [
    {
     "data": {
      "text/plain": [
       "True"
      ]
     },
     "execution_count": 50,
     "metadata": {},
     "output_type": "execute_result"
    }
   ],
   "source": [
    "import torch\n",
    "torch.cuda.is_available()"
   ]
  },
  {
   "cell_type": "code",
   "execution_count": 51,
   "metadata": {},
   "outputs": [],
   "source": [
    "from pathlib import Path\n",
    "from typing import Tuple, List\n",
    "\n",
    "import gcsfs\n",
    "import matplotlib.pyplot as plt\n",
    "import numpy as np\n",
    "import pandas as pd\n",
    "import torch\n",
    "import torch.nn as nn\n",
    "import torch.nn.functional as F\n",
    "from torch.utils.data import DataLoader, Dataset\n",
    "import tqdm\n",
    "\n",
    "\n",
    "FILE_SYSTEM = gcsfs.core.GCSFileSystem(requester_pays=True)\n",
    "CAMELS_ROOT = Path('/mh1/Atakallou/MLproject/basin_dataset_public_v1p2')\n",
    "DEVICE = torch.device(\"cuda:0\" if torch.cuda.is_available() else \"cpu\") "
   ]
  },
  {
   "cell_type": "code",
   "execution_count": 52,
   "metadata": {
    "id": "-Rb2pruARBDi"
   },
   "outputs": [
    {
     "data": {
      "text/plain": [
       "device(type='cuda', index=0)"
      ]
     },
     "execution_count": 52,
     "metadata": {},
     "output_type": "execute_result"
    }
   ],
   "source": [
    "DEVICE"
   ]
  },
  {
   "cell_type": "code",
   "execution_count": 53,
   "metadata": {
    "id": "kHCPejjnRDYa"
   },
   "outputs": [],
   "source": [
    "import glob\n",
    "import os\n",
    "def load_forcing(basin: str) -> Tuple[pd.DataFrame, int]:\n",
    "    \n",
    "    forcing_path ='/mh1/Atakallou/MLproject/basin_dataset_public_v1p2/basin_mean_forcing/daymet'\n",
    "    pattern = os.path.join(forcing_path, '**', f'{basin}_*.txt')\n",
    "    files = glob.glob(pattern, recursive=True)\n",
    "\n",
    "    if not files:\n",
    "        raise RuntimeError(f'No forcing file found for Basin {basin}')\n",
    "    else:\n",
    "        file_path = files[0]  # Use the first file found\n",
    "        print(f\"Using file path: {file_path}\")\n",
    "    \n",
    "    with open(file_path,'r') as fp:\n",
    "        df = pd.read_csv(fp, sep='\\s+', header=3)\n",
    "    dates = (df.Year.map(str) + \"/\" + df.Mnth.map(str) + \"/\"\n",
    "             + df.Day.map(str))\n",
    "    df.index = pd.to_datetime(dates, format=\"%Y/%m/%d\")\n",
    "\n",
    "    # load area from header\n",
    "    with open(file_path,'r') as fp:\n",
    "        content = fp.readlines()\n",
    "        area = int(content[2])\n",
    "\n",
    "    return df, area\n",
    "\n",
    "\n",
    "def load_discharge(basin: str, area: int) ->  pd.Series:\n",
    "    \n",
    "    discharge_path = '/mh1/Atakallou/MLproject/basin_dataset_public_v1p2/usgs_streamflow'\n",
    "    \n",
    "    pattern = os.path.join(discharge_path, '**', f'{basin}_*.txt')\n",
    "    files = glob.glob(pattern, recursive=True)\n",
    "\n",
    "    if not files:\n",
    "        raise RuntimeError(f'No Discharge file found for Basin {basin}')\n",
    "    else:\n",
    "        file_path = files[0]  # Use the first file found\n",
    "        print(f\"Using file path: {file_path}\")    \n",
    "    \n",
    "    col_names = ['basin', 'Year', 'Mnth', 'Day', 'QObs', 'flag']\n",
    "    with open(file_path,'r') as fp:\n",
    "        df = pd.read_csv(fp, sep='\\s+', header=None, names=col_names)\n",
    "    dates = (df.Year.map(str) + \"/\" + df.Mnth.map(str) + \"/\"\n",
    "             + df.Day.map(str))\n",
    "    df.index = pd.to_datetime(dates, format=\"%Y/%m/%d\")\n",
    "\n",
    "    # normalize discharge from cubic feed per second to mm per day\n",
    "    df.QObs = 28316846.592 * df.QObs * 86400 / (area * 10 ** 6)\n",
    "\n",
    "    return df.QObs"
   ]
  },
  {
   "cell_type": "code",
   "execution_count": 54,
   "metadata": {},
   "outputs": [],
   "source": [
    "def reshape_data(x: np.ndarray, y: np.ndarray, seq_length: int) -> Tuple[np.ndarray, np.ndarray]:\n",
    "    \n",
    "    num_samples, num_features = x.shape\n",
    "\n",
    "    x_new = np.zeros((num_samples - seq_length + 1, seq_length, num_features))\n",
    "    y_new = np.zeros((num_samples - seq_length + 1, 1))\n",
    "\n",
    "    for i in range(0, x_new.shape[0]):\n",
    "        x_new[i, :, :num_features] = x[i:i + seq_length, :]\n",
    "        y_new[i, :] = y[i + seq_length - 1, 0]\n",
    "\n",
    "    return x_new, y_new"
   ]
  },
  {
   "cell_type": "code",
   "execution_count": 55,
   "metadata": {},
   "outputs": [],
   "source": [
    "class CamelsTXT(Dataset):\n",
    "    \n",
    "    def __init__(self, basin: str, seq_length: int=365,period: str=None,\n",
    "                 dates: List=None, means: pd.Series=None, stds: pd.Series=None):\n",
    "\n",
    "        self.basin = basin\n",
    "        self.seq_length = seq_length\n",
    "        self.period = period\n",
    "        self.dates = dates\n",
    "        self.means = means\n",
    "        self.stds = stds\n",
    "\n",
    "        # load data into memory\n",
    "        self.x, self.y = self._load_data()\n",
    "\n",
    "        # store number of samples as class attribute\n",
    "        self.num_samples = self.x.shape[0]\n",
    "\n",
    "    def __len__(self):\n",
    "        return self.num_samples\n",
    "\n",
    "    def __getitem__(self, idx: int):\n",
    "        return self.x[idx], self.y[idx]\n",
    "\n",
    "    def _load_data(self):\n",
    "        \"\"\"Load input and output data from text files.\"\"\"\n",
    "        df, area = load_forcing(self.basin)\n",
    "        df['QObs(mm/d)'] = load_discharge(self.basin, area)\n",
    "        \n",
    "        if self.dates is not None:\n",
    "            # If meteorological observations exist before start date\n",
    "            # use these as well. Similiar to hydrological warmup period.\n",
    "            if self.dates[0] - pd.DateOffset(days=self.seq_length) > df.index[0]:\n",
    "                start_date = self.dates[0] - pd.DateOffset(days=self.seq_length)\n",
    "            else:\n",
    "                start_date = self.dates[0]\n",
    "            df = df[start_date:self.dates[1]]\n",
    "\n",
    "        # if training period store means and stds\n",
    "        if self.period == 'train':\n",
    "            self.means = df.mean()\n",
    "            self.stds = df.std()\n",
    "\n",
    "        # extract input and output features from DataFrame\n",
    "        x = np.array([df['prcp(mm/day)'].values,\n",
    "                      df['srad(W/m2)'].values,\n",
    "                      df['tmax(C)'].values,\n",
    "                      df['tmin(C)'].values,\n",
    "                      df['vp(Pa)'].values]).T\n",
    "        y = np.array([df['QObs(mm/d)'].values]).T\n",
    "\n",
    "        # normalize data, reshape for LSTM training and remove invalid samples\n",
    "        x = self._local_normalization(x, variable='inputs')\n",
    "        x, y = reshape_data(x, y, self.seq_length)\n",
    "\n",
    "        if self.period == \"train\":\n",
    "            # Delete all samples, where discharge is NaN\n",
    "            if np.sum(np.isnan(y)) > 0:\n",
    "                print(f\"Deleted some records because of NaNs {self.basin}\")\n",
    "                x = np.delete(x, np.argwhere(np.isnan(y)), axis=0)\n",
    "                y = np.delete(y, np.argwhere(np.isnan(y)), axis=0)\n",
    "            \n",
    "            # Deletes all records, where no discharge was measured (-999)\n",
    "            x = np.delete(x, np.argwhere(y < 0)[:, 0], axis=0)\n",
    "            y = np.delete(y, np.argwhere(y < 0)[:, 0], axis=0)\n",
    "            \n",
    "            # normalize discharge\n",
    "            y = self._local_normalization(y, variable='output')\n",
    "\n",
    "        # convert arrays to torch tensors\n",
    "        x = torch.from_numpy(x.astype(np.float32))\n",
    "        y = torch.from_numpy(y.astype(np.float32))\n",
    "\n",
    "        return x, y\n",
    "\n",
    "    def _local_normalization(self, feature: np.ndarray, variable: str) -> \\\n",
    "            np.ndarray:\n",
    "        \n",
    "        if variable == 'inputs':\n",
    "            means = np.array([self.means['prcp(mm/day)'],\n",
    "                              self.means['srad(W/m2)'],\n",
    "                              self.means['tmax(C)'],\n",
    "                              self.means['tmin(C)'],\n",
    "                              self.means['vp(Pa)']])\n",
    "            stds = np.array([self.stds['prcp(mm/day)'],\n",
    "                             self.stds['srad(W/m2)'],\n",
    "                             self.stds['tmax(C)'],\n",
    "                             self.stds['tmin(C)'],\n",
    "                             self.stds['vp(Pa)']])\n",
    "            feature = (feature - means) / stds\n",
    "        elif variable == 'output':\n",
    "            feature = ((feature - self.means[\"QObs(mm/d)\"]) /\n",
    "                       self.stds[\"QObs(mm/d)\"])\n",
    "        else:\n",
    "            raise RuntimeError(f\"Unknown variable type {variable}\")\n",
    "\n",
    "        return feature\n",
    "\n",
    "    def local_rescale(self, feature: np.ndarray, variable: str) -> \\\n",
    "            np.ndarray:\n",
    "\n",
    "        if variable == 'inputs':\n",
    "            means = np.array([self.means['prcp(mm/day)'],\n",
    "                              self.means['srad(W/m2)'],\n",
    "                              self.means['tmax(C)'],\n",
    "                              self.means['tmin(C)'],\n",
    "                              self.means['vp(Pa)']])\n",
    "            stds = np.array([self.stds['prcp(mm/day)'],\n",
    "                             self.stds['srad(W/m2)'],\n",
    "                             self.stds['tmax(C)'],\n",
    "                             self.stds['tmin(C)'],\n",
    "                             self.stds['vp(Pa)']])\n",
    "            feature = feature * stds + means\n",
    "        elif variable == 'output':\n",
    "            feature = (feature * self.stds[\"QObs(mm/d)\"] +\n",
    "                       self.means[\"QObs(mm/d)\"])\n",
    "        else:\n",
    "            raise RuntimeError(f\"Unknown variable type {variable}\")\n",
    "\n",
    "        return feature\n",
    "\n",
    "    def get_means(self):\n",
    "        return self.means\n",
    "\n",
    "    def get_stds(self):\n",
    "        return self.stds"
   ]
  },
  {
   "cell_type": "code",
   "execution_count": 56,
   "metadata": {},
   "outputs": [],
   "source": [
    "class Model(nn.Module):\n",
    "       \n",
    "    def __init__(self, hidden_size: int, dropout_rate: float=0.0):\n",
    "\n",
    "        super(Model, self).__init__()\n",
    "        self.hidden_size = hidden_size\n",
    "        self.dropout_rate = dropout_rate\n",
    "        \n",
    "        # create required layer\n",
    "        self.lstm = nn.LSTM(input_size=5, hidden_size=self.hidden_size, \n",
    "                            num_layers=1, bias=True, batch_first=True)\n",
    "        self.dropout = nn.Dropout(p=self.dropout_rate)\n",
    "        self.fc = nn.Linear(in_features=self.hidden_size, out_features=1)\n",
    "        \n",
    "    def forward(self, x: torch.Tensor) -> torch.Tensor:\n",
    "\n",
    "        output, (h_n, c_n) = self.lstm(x)\n",
    "        \n",
    "        # perform prediction only at the end of the input sequence\n",
    "        pred = self.fc(self.dropout(h_n[-1,:,:]))\n",
    "        return pred"
   ]
  },
  {
   "cell_type": "code",
   "execution_count": 57,
   "metadata": {},
   "outputs": [],
   "source": [
    "def train_epoch(model, optimizer, loader, loss_func, epoch):\n",
    "\n",
    "    model.train()\n",
    "    pbar = tqdm.tqdm_notebook(loader)\n",
    "    pbar.set_description(f\"Epoch {epoch}\")\n",
    "   \n",
    "    for xs, ys in pbar:\n",
    "        \n",
    "        optimizer.zero_grad()\n",
    "        xs, ys = xs.to(DEVICE), ys.to(DEVICE)\n",
    "\n",
    "        y_hat = model(xs)\n",
    "       \n",
    "        loss = loss_func(y_hat, ys, qstd)\n",
    "        \n",
    "        loss.backward()\n",
    "       \n",
    "        optimizer.step()\n",
    "       \n",
    "        pbar.set_postfix_str(f\"Loss: {loss.item():.4f}\")\n",
    "\n",
    "        \n",
    "def eval_model(model, loader) -> Tuple[torch.Tensor, torch.Tensor]:\n",
    "    \n",
    "    # set model to eval mode (important for dropout)\n",
    "    model.eval()\n",
    "    obs = []\n",
    "    preds = []\n",
    "    # in inference mode, we don't need to store intermediate steps for\n",
    "    # backprob\n",
    "    with torch.no_grad():\n",
    "        # request mini-batch of data from the loader\n",
    "        for xs, ys in loader:\n",
    "            # push data to GPU (if available)\n",
    "            xs = xs.to(DEVICE)\n",
    "            # get model predictions\n",
    "            y_hat = model(xs)\n",
    "            obs.append(ys)\n",
    "            preds.append(y_hat)\n",
    "            \n",
    "    return torch.cat(obs), torch.cat(preds)\n",
    "        \n",
    "def calc_nse(obs: np.array, sim: np.array) -> float:\n",
    "    \n",
    "    # only consider time steps, where observations are available\n",
    "    sim = np.delete(sim, np.argwhere(obs < 0), axis=0)\n",
    "    obs = np.delete(obs, np.argwhere(obs < 0), axis=0)\n",
    "\n",
    "    # check for NaNs in observations\n",
    "    sim = np.delete(sim, np.argwhere(np.isnan(obs)), axis=0)\n",
    "    obs = np.delete(obs, np.argwhere(np.isnan(obs)), axis=0)\n",
    "\n",
    "    denominator = np.sum((obs - np.mean(obs)) ** 2)\n",
    "    numerator = np.sum((sim - obs) ** 2)\n",
    "    nse_val = 1 - numerator / denominator\n",
    "\n",
    "    return nse_val"
   ]
  },
  {
   "cell_type": "code",
   "execution_count": 58,
   "metadata": {},
   "outputs": [],
   "source": [
    "\n",
    "def custom(predicted, observed, qstd):\n",
    "    loss = torch.sum((predicted - observed)**2) / qstd #torch.sum((observed - torch.mean(observed))**2)\n",
    "    return loss\n",
    "\n",
    "def mse_loss(observation, prediction):\n",
    "    prediction_tensor = torch.tensor(prediction, dtype=observation.dtype, device=observation.device)\n",
    "    mse = torch.mean((observation - prediction_tensor) ** 2)\n",
    "    return mse.item()\n",
    "    \n",
    "def compute_correlation(observation, prediction):\n",
    "    prediction = torch.from_numpy(prediction).to(observation.device, dtype=observation.dtype)\n",
    "    obs_mean = torch.mean(observation)\n",
    "    pred_mean = torch.mean(prediction)\n",
    "    covariance = torch.mean((observation - obs_mean) * (prediction - pred_mean))\n",
    "    obs_std = torch.sqrt(torch.mean((observation - obs_mean) ** 2))\n",
    "    pred_std = torch.sqrt(torch.mean((prediction - pred_mean) ** 2))\n",
    "    correlation_coefficient = covariance / (obs_std * pred_std)\n",
    "    return correlation_coefficient.item()\n",
    "    \n",
    "def kge(observation, prediction):\n",
    "    r = compute_correlation(observation, prediction)\n",
    "    mean_obs = observation.numpy().mean()\n",
    "    mean_pred = prediction.mean()\n",
    "    std_obs = observation.numpy().std()\n",
    "    std_pred = prediction.std()\n",
    "    std_obs=torch.tensor(std_obs)\n",
    "    mean_obs=torch.tensor(mean_obs)\n",
    "    alpha = std_pred / std_obs\n",
    "    beta = mean_pred / mean_obs\n",
    "    kge = 1 - torch.sqrt((alpha - 1)**2 + (beta - 1)**2 + (r - 1)**2)\n",
    "    return kge.item()"
   ]
  },
  {
   "cell_type": "code",
   "execution_count": 59,
   "metadata": {},
   "outputs": [
    {
     "name": "stdout",
     "output_type": "stream",
     "text": [
      "Using file path: /mh1/Atakallou/MLproject/basin_dataset_public_v1p2/basin_mean_forcing/daymet/01/01013500_lump_cida_forcing_leap.txt\n",
      "Using file path: /mh1/Atakallou/MLproject/basin_dataset_public_v1p2/usgs_streamflow/01/01013500_streamflow_qc.txt\n",
      "Using file path: /mh1/Atakallou/MLproject/basin_dataset_public_v1p2/basin_mean_forcing/daymet/01/01013500_lump_cida_forcing_leap.txt\n",
      "Using file path: /mh1/Atakallou/MLproject/basin_dataset_public_v1p2/usgs_streamflow/01/01013500_streamflow_qc.txt\n",
      "Using file path: /mh1/Atakallou/MLproject/basin_dataset_public_v1p2/basin_mean_forcing/daymet/01/01013500_lump_cida_forcing_leap.txt\n",
      "Using file path: /mh1/Atakallou/MLproject/basin_dataset_public_v1p2/usgs_streamflow/01/01013500_streamflow_qc.txt\n"
     ]
    }
   ],
   "source": [
    "basin = '01013500' \n",
    "hidden_size = 10 \n",
    "dropout_rate = 0.0\n",
    "learning_rate = 1e-3 \n",
    "sequence_length = 365 \n",
    "\n",
    "##############\n",
    "# Data set up#\n",
    "##############\n",
    "\n",
    "# Training data\n",
    "start_date = pd.to_datetime(\"1980-10-01\", format=\"%Y-%m-%d\")\n",
    "end_date = pd.to_datetime(\"1995-09-30\", format=\"%Y-%m-%d\")\n",
    "ds_train = CamelsTXT(basin, seq_length=sequence_length, period=\"train\", dates=[start_date, end_date])\n",
    "tr_loader = DataLoader(ds_train, batch_size=256, shuffle=True)\n",
    "\n",
    "# Validation data. We use the feature means/stds of the training period for normalization\n",
    "means = ds_train.get_means()\n",
    "stds = ds_train.get_stds()\n",
    "start_date = pd.to_datetime(\"1995-10-01\", format=\"%Y-%m-%d\")\n",
    "end_date = pd.to_datetime(\"2000-09-30\", format=\"%Y-%m-%d\")\n",
    "ds_val = CamelsTXT(basin, seq_length=sequence_length, period=\"eval\", dates=[start_date, end_date],\n",
    "                     means=means, stds=stds)\n",
    "qstd = ds_val.get_stds()['QObs(mm/d)'] #Compute std of whole observation for normalization\n",
    "val_loader = DataLoader(ds_val, batch_size=2048, shuffle=False)\n",
    "\n",
    "# Test data. We use the feature means/stds of the training period for normalization\n",
    "start_date = pd.to_datetime(\"2000-10-01\", format=\"%Y-%m-%d\")\n",
    "end_date = pd.to_datetime(\"2010-09-30\", format=\"%Y-%m-%d\")\n",
    "ds_test = CamelsTXT(basin, seq_length=sequence_length, period=\"eval\", dates=[start_date, end_date],\n",
    "                     means=means, stds=stds)\n",
    "test_loader = DataLoader(ds_test, batch_size=2048, shuffle=False)\n",
    "\n",
    "\n",
    "#########################\n",
    "# Model, Optimizer, Loss#\n",
    "#########################\n",
    "\n",
    "model = Model(hidden_size=hidden_size, dropout_rate=dropout_rate).to(DEVICE)\n",
    "optimizer = torch.optim.Adam(model.parameters(), lr=learning_rate)\n",
    "loss_func = custom"
   ]
  },
  {
   "cell_type": "code",
   "execution_count": 64,
   "metadata": {
    "scrolled": true
   },
   "outputs": [
    {
     "name": "stderr",
     "output_type": "stream",
     "text": [
      "/tmp/ipykernel_61684/2138761174.py:4: TqdmDeprecationWarning: This function will be removed in tqdm==5.0.0\n",
      "Please use `tqdm.notebook.tqdm` instead of `tqdm.tqdm_notebook`\n",
      "  pbar = tqdm.tqdm_notebook(loader)\n"
     ]
    },
    {
     "data": {
      "application/vnd.jupyter.widget-view+json": {
       "model_id": "3aeb7e33aa2a429c8d16f8f5fa2dc01a",
       "version_major": 2,
       "version_minor": 0
      },
      "text/plain": [
       "  0%|          | 0/20 [00:00<?, ?it/s]"
      ]
     },
     "metadata": {},
     "output_type": "display_data"
    },
    {
     "name": "stdout",
     "output_type": "stream",
     "text": [
      "Validation NSE: 0.02\n",
      "Validation MSE: 4.22\n",
      "Validation KGE: -0.25\n"
     ]
    },
    {
     "data": {
      "application/vnd.jupyter.widget-view+json": {
       "model_id": "8cb2fa69dd934eff9606bbec8f41e77f",
       "version_major": 2,
       "version_minor": 0
      },
      "text/plain": [
       "  0%|          | 0/20 [00:00<?, ?it/s]"
      ]
     },
     "metadata": {},
     "output_type": "display_data"
    },
    {
     "name": "stdout",
     "output_type": "stream",
     "text": [
      "Validation NSE: 0.07\n",
      "Validation MSE: 3.99\n",
      "Validation KGE: -0.10\n"
     ]
    },
    {
     "data": {
      "application/vnd.jupyter.widget-view+json": {
       "model_id": "59ac98f300ea4d388fa2c2459502baf3",
       "version_major": 2,
       "version_minor": 0
      },
      "text/plain": [
       "  0%|          | 0/20 [00:00<?, ?it/s]"
      ]
     },
     "metadata": {},
     "output_type": "display_data"
    },
    {
     "name": "stdout",
     "output_type": "stream",
     "text": [
      "Validation NSE: 0.13\n",
      "Validation MSE: 3.74\n",
      "Validation KGE: 0.01\n"
     ]
    },
    {
     "data": {
      "application/vnd.jupyter.widget-view+json": {
       "model_id": "4b51de39218f433392d2dedfc03d9e02",
       "version_major": 2,
       "version_minor": 0
      },
      "text/plain": [
       "  0%|          | 0/20 [00:00<?, ?it/s]"
      ]
     },
     "metadata": {},
     "output_type": "display_data"
    },
    {
     "name": "stdout",
     "output_type": "stream",
     "text": [
      "Validation NSE: 0.21\n",
      "Validation MSE: 3.39\n",
      "Validation KGE: 0.12\n"
     ]
    },
    {
     "data": {
      "application/vnd.jupyter.widget-view+json": {
       "model_id": "6d79dc1918174543b2430ce881d2278a",
       "version_major": 2,
       "version_minor": 0
      },
      "text/plain": [
       "  0%|          | 0/20 [00:00<?, ?it/s]"
      ]
     },
     "metadata": {},
     "output_type": "display_data"
    },
    {
     "name": "stdout",
     "output_type": "stream",
     "text": [
      "Validation NSE: 0.31\n",
      "Validation MSE: 2.96\n",
      "Validation KGE: 0.23\n"
     ]
    },
    {
     "data": {
      "application/vnd.jupyter.widget-view+json": {
       "model_id": "1461e4b596b84980aa56485c44f0ffe7",
       "version_major": 2,
       "version_minor": 0
      },
      "text/plain": [
       "  0%|          | 0/20 [00:00<?, ?it/s]"
      ]
     },
     "metadata": {},
     "output_type": "display_data"
    },
    {
     "name": "stdout",
     "output_type": "stream",
     "text": [
      "Validation NSE: 0.44\n",
      "Validation MSE: 2.42\n",
      "Validation KGE: 0.35\n"
     ]
    },
    {
     "data": {
      "application/vnd.jupyter.widget-view+json": {
       "model_id": "e441c3eae01946caa2e951af5a5078ad",
       "version_major": 2,
       "version_minor": 0
      },
      "text/plain": [
       "  0%|          | 0/20 [00:00<?, ?it/s]"
      ]
     },
     "metadata": {},
     "output_type": "display_data"
    },
    {
     "name": "stdout",
     "output_type": "stream",
     "text": [
      "Validation NSE: 0.56\n",
      "Validation MSE: 1.90\n",
      "Validation KGE: 0.47\n"
     ]
    },
    {
     "data": {
      "application/vnd.jupyter.widget-view+json": {
       "model_id": "6b945bc0736048368713dc49fed930a4",
       "version_major": 2,
       "version_minor": 0
      },
      "text/plain": [
       "  0%|          | 0/20 [00:00<?, ?it/s]"
      ]
     },
     "metadata": {},
     "output_type": "display_data"
    },
    {
     "name": "stdout",
     "output_type": "stream",
     "text": [
      "Validation NSE: 0.65\n",
      "Validation MSE: 1.49\n",
      "Validation KGE: 0.55\n"
     ]
    },
    {
     "data": {
      "application/vnd.jupyter.widget-view+json": {
       "model_id": "d8419bae44274afca1dc0803a9acf896",
       "version_major": 2,
       "version_minor": 0
      },
      "text/plain": [
       "  0%|          | 0/20 [00:00<?, ?it/s]"
      ]
     },
     "metadata": {},
     "output_type": "display_data"
    },
    {
     "name": "stdout",
     "output_type": "stream",
     "text": [
      "Validation NSE: 0.72\n",
      "Validation MSE: 1.21\n",
      "Validation KGE: 0.64\n"
     ]
    },
    {
     "data": {
      "application/vnd.jupyter.widget-view+json": {
       "model_id": "ef0877d303ae4748815784052e247172",
       "version_major": 2,
       "version_minor": 0
      },
      "text/plain": [
       "  0%|          | 0/20 [00:00<?, ?it/s]"
      ]
     },
     "metadata": {},
     "output_type": "display_data"
    },
    {
     "name": "stdout",
     "output_type": "stream",
     "text": [
      "Validation NSE: 0.75\n",
      "Validation MSE: 1.06\n",
      "Validation KGE: 0.71\n"
     ]
    },
    {
     "data": {
      "application/vnd.jupyter.widget-view+json": {
       "model_id": "8d14e01683194ce0a305ee10f5318763",
       "version_major": 2,
       "version_minor": 0
      },
      "text/plain": [
       "  0%|          | 0/20 [00:00<?, ?it/s]"
      ]
     },
     "metadata": {},
     "output_type": "display_data"
    },
    {
     "name": "stdout",
     "output_type": "stream",
     "text": [
      "Validation NSE: 0.78\n",
      "Validation MSE: 0.95\n",
      "Validation KGE: 0.76\n"
     ]
    },
    {
     "data": {
      "application/vnd.jupyter.widget-view+json": {
       "model_id": "d8e3a4cf4d454d1d931cded9c78f3160",
       "version_major": 2,
       "version_minor": 0
      },
      "text/plain": [
       "  0%|          | 0/20 [00:00<?, ?it/s]"
      ]
     },
     "metadata": {},
     "output_type": "display_data"
    },
    {
     "name": "stdout",
     "output_type": "stream",
     "text": [
      "Validation NSE: 0.79\n",
      "Validation MSE: 0.88\n",
      "Validation KGE: 0.78\n"
     ]
    },
    {
     "data": {
      "application/vnd.jupyter.widget-view+json": {
       "model_id": "ca67fca66df545e38369a34d4e9ff6fd",
       "version_major": 2,
       "version_minor": 0
      },
      "text/plain": [
       "  0%|          | 0/20 [00:00<?, ?it/s]"
      ]
     },
     "metadata": {},
     "output_type": "display_data"
    },
    {
     "name": "stdout",
     "output_type": "stream",
     "text": [
      "Validation NSE: 0.81\n",
      "Validation MSE: 0.82\n",
      "Validation KGE: 0.81\n"
     ]
    },
    {
     "data": {
      "application/vnd.jupyter.widget-view+json": {
       "model_id": "1b5eb7dcc1e544caaeae5e55a78a57e5",
       "version_major": 2,
       "version_minor": 0
      },
      "text/plain": [
       "  0%|          | 0/20 [00:00<?, ?it/s]"
      ]
     },
     "metadata": {},
     "output_type": "display_data"
    },
    {
     "name": "stdout",
     "output_type": "stream",
     "text": [
      "Validation NSE: 0.82\n",
      "Validation MSE: 0.77\n",
      "Validation KGE: 0.83\n"
     ]
    },
    {
     "data": {
      "application/vnd.jupyter.widget-view+json": {
       "model_id": "5fcf88e0a6c24c5694918fd9d4c219c1",
       "version_major": 2,
       "version_minor": 0
      },
      "text/plain": [
       "  0%|          | 0/20 [00:00<?, ?it/s]"
      ]
     },
     "metadata": {},
     "output_type": "display_data"
    },
    {
     "name": "stdout",
     "output_type": "stream",
     "text": [
      "Validation NSE: 0.83\n",
      "Validation MSE: 0.74\n",
      "Validation KGE: 0.84\n"
     ]
    },
    {
     "data": {
      "application/vnd.jupyter.widget-view+json": {
       "model_id": "38d9e4fd687945fd841ecc3839edbfc8",
       "version_major": 2,
       "version_minor": 0
      },
      "text/plain": [
       "  0%|          | 0/20 [00:00<?, ?it/s]"
      ]
     },
     "metadata": {},
     "output_type": "display_data"
    },
    {
     "name": "stdout",
     "output_type": "stream",
     "text": [
      "Validation NSE: 0.83\n",
      "Validation MSE: 0.72\n",
      "Validation KGE: 0.86\n"
     ]
    },
    {
     "data": {
      "application/vnd.jupyter.widget-view+json": {
       "model_id": "c154236542b9407dab14f66b6b886462",
       "version_major": 2,
       "version_minor": 0
      },
      "text/plain": [
       "  0%|          | 0/20 [00:00<?, ?it/s]"
      ]
     },
     "metadata": {},
     "output_type": "display_data"
    },
    {
     "name": "stdout",
     "output_type": "stream",
     "text": [
      "Validation NSE: 0.85\n",
      "Validation MSE: 0.65\n",
      "Validation KGE: 0.86\n"
     ]
    },
    {
     "data": {
      "application/vnd.jupyter.widget-view+json": {
       "model_id": "db510e9f31f6437f985027fa7e02fbb8",
       "version_major": 2,
       "version_minor": 0
      },
      "text/plain": [
       "  0%|          | 0/20 [00:00<?, ?it/s]"
      ]
     },
     "metadata": {},
     "output_type": "display_data"
    },
    {
     "name": "stdout",
     "output_type": "stream",
     "text": [
      "Validation NSE: 0.86\n",
      "Validation MSE: 0.62\n",
      "Validation KGE: 0.87\n"
     ]
    },
    {
     "data": {
      "application/vnd.jupyter.widget-view+json": {
       "model_id": "0f34a1cfe34f4e5481fecf5de8b20dee",
       "version_major": 2,
       "version_minor": 0
      },
      "text/plain": [
       "  0%|          | 0/20 [00:00<?, ?it/s]"
      ]
     },
     "metadata": {},
     "output_type": "display_data"
    },
    {
     "name": "stdout",
     "output_type": "stream",
     "text": [
      "Validation NSE: 0.85\n",
      "Validation MSE: 0.63\n",
      "Validation KGE: 0.88\n"
     ]
    },
    {
     "data": {
      "application/vnd.jupyter.widget-view+json": {
       "model_id": "32ba35625d874fd585bfd06209c9a4e3",
       "version_major": 2,
       "version_minor": 0
      },
      "text/plain": [
       "  0%|          | 0/20 [00:00<?, ?it/s]"
      ]
     },
     "metadata": {},
     "output_type": "display_data"
    },
    {
     "name": "stdout",
     "output_type": "stream",
     "text": [
      "Validation NSE: 0.86\n",
      "Validation MSE: 0.59\n",
      "Validation KGE: 0.88\n"
     ]
    },
    {
     "data": {
      "application/vnd.jupyter.widget-view+json": {
       "model_id": "9afd3d448cbd4ed4bed643a5e64891d8",
       "version_major": 2,
       "version_minor": 0
      },
      "text/plain": [
       "  0%|          | 0/20 [00:00<?, ?it/s]"
      ]
     },
     "metadata": {},
     "output_type": "display_data"
    },
    {
     "name": "stdout",
     "output_type": "stream",
     "text": [
      "Validation NSE: 0.87\n",
      "Validation MSE: 0.56\n",
      "Validation KGE: 0.90\n"
     ]
    },
    {
     "data": {
      "application/vnd.jupyter.widget-view+json": {
       "model_id": "4cb6702c5094493caff6104d2fdba7bd",
       "version_major": 2,
       "version_minor": 0
      },
      "text/plain": [
       "  0%|          | 0/20 [00:00<?, ?it/s]"
      ]
     },
     "metadata": {},
     "output_type": "display_data"
    },
    {
     "name": "stdout",
     "output_type": "stream",
     "text": [
      "Validation NSE: 0.87\n",
      "Validation MSE: 0.55\n",
      "Validation KGE: 0.90\n"
     ]
    },
    {
     "data": {
      "application/vnd.jupyter.widget-view+json": {
       "model_id": "1390bec9d83e4079b90aac8c96ae48e2",
       "version_major": 2,
       "version_minor": 0
      },
      "text/plain": [
       "  0%|          | 0/20 [00:00<?, ?it/s]"
      ]
     },
     "metadata": {},
     "output_type": "display_data"
    },
    {
     "name": "stdout",
     "output_type": "stream",
     "text": [
      "Validation NSE: 0.88\n",
      "Validation MSE: 0.53\n",
      "Validation KGE: 0.90\n"
     ]
    },
    {
     "data": {
      "application/vnd.jupyter.widget-view+json": {
       "model_id": "84a974ef9a96457fac232b9371f3804d",
       "version_major": 2,
       "version_minor": 0
      },
      "text/plain": [
       "  0%|          | 0/20 [00:00<?, ?it/s]"
      ]
     },
     "metadata": {},
     "output_type": "display_data"
    },
    {
     "name": "stdout",
     "output_type": "stream",
     "text": [
      "Validation NSE: 0.88\n",
      "Validation MSE: 0.52\n",
      "Validation KGE: 0.90\n"
     ]
    },
    {
     "data": {
      "application/vnd.jupyter.widget-view+json": {
       "model_id": "a624404168a74e238006c5a92819f4fb",
       "version_major": 2,
       "version_minor": 0
      },
      "text/plain": [
       "  0%|          | 0/20 [00:00<?, ?it/s]"
      ]
     },
     "metadata": {},
     "output_type": "display_data"
    },
    {
     "name": "stdout",
     "output_type": "stream",
     "text": [
      "Validation NSE: 0.88\n",
      "Validation MSE: 0.51\n",
      "Validation KGE: 0.91\n"
     ]
    },
    {
     "data": {
      "application/vnd.jupyter.widget-view+json": {
       "model_id": "212aa84b37b04776af8a0f7c4f016245",
       "version_major": 2,
       "version_minor": 0
      },
      "text/plain": [
       "  0%|          | 0/20 [00:00<?, ?it/s]"
      ]
     },
     "metadata": {},
     "output_type": "display_data"
    },
    {
     "name": "stdout",
     "output_type": "stream",
     "text": [
      "Validation NSE: 0.87\n",
      "Validation MSE: 0.57\n",
      "Validation KGE: 0.92\n"
     ]
    },
    {
     "data": {
      "application/vnd.jupyter.widget-view+json": {
       "model_id": "937a142d97e24c66bb22446bac8d3ba6",
       "version_major": 2,
       "version_minor": 0
      },
      "text/plain": [
       "  0%|          | 0/20 [00:00<?, ?it/s]"
      ]
     },
     "metadata": {},
     "output_type": "display_data"
    },
    {
     "name": "stdout",
     "output_type": "stream",
     "text": [
      "Validation NSE: 0.88\n",
      "Validation MSE: 0.50\n",
      "Validation KGE: 0.93\n"
     ]
    },
    {
     "data": {
      "application/vnd.jupyter.widget-view+json": {
       "model_id": "95d103595c1e462a8f902ba9915fce44",
       "version_major": 2,
       "version_minor": 0
      },
      "text/plain": [
       "  0%|          | 0/20 [00:00<?, ?it/s]"
      ]
     },
     "metadata": {},
     "output_type": "display_data"
    },
    {
     "name": "stdout",
     "output_type": "stream",
     "text": [
      "Validation NSE: 0.88\n",
      "Validation MSE: 0.53\n",
      "Validation KGE: 0.92\n"
     ]
    },
    {
     "data": {
      "application/vnd.jupyter.widget-view+json": {
       "model_id": "e5a3698eaa604a229f26b916ff7b3514",
       "version_major": 2,
       "version_minor": 0
      },
      "text/plain": [
       "  0%|          | 0/20 [00:00<?, ?it/s]"
      ]
     },
     "metadata": {},
     "output_type": "display_data"
    },
    {
     "name": "stdout",
     "output_type": "stream",
     "text": [
      "Validation NSE: 0.88\n",
      "Validation MSE: 0.51\n",
      "Validation KGE: 0.92\n"
     ]
    },
    {
     "data": {
      "application/vnd.jupyter.widget-view+json": {
       "model_id": "47425c13032a40a58259e4e974bc630c",
       "version_major": 2,
       "version_minor": 0
      },
      "text/plain": [
       "  0%|          | 0/20 [00:00<?, ?it/s]"
      ]
     },
     "metadata": {},
     "output_type": "display_data"
    },
    {
     "name": "stdout",
     "output_type": "stream",
     "text": [
      "Validation NSE: 0.86\n",
      "Validation MSE: 0.62\n",
      "Validation KGE: 0.90\n"
     ]
    },
    {
     "data": {
      "application/vnd.jupyter.widget-view+json": {
       "model_id": "2d1038b47b394bcb87e269e7951b85b7",
       "version_major": 2,
       "version_minor": 0
      },
      "text/plain": [
       "  0%|          | 0/20 [00:00<?, ?it/s]"
      ]
     },
     "metadata": {},
     "output_type": "display_data"
    },
    {
     "name": "stdout",
     "output_type": "stream",
     "text": [
      "Validation NSE: 0.86\n",
      "Validation MSE: 0.59\n",
      "Validation KGE: 0.92\n"
     ]
    },
    {
     "data": {
      "application/vnd.jupyter.widget-view+json": {
       "model_id": "f9dfc185e05548d38f9a57ef8fd87db7",
       "version_major": 2,
       "version_minor": 0
      },
      "text/plain": [
       "  0%|          | 0/20 [00:00<?, ?it/s]"
      ]
     },
     "metadata": {},
     "output_type": "display_data"
    },
    {
     "name": "stdout",
     "output_type": "stream",
     "text": [
      "Validation NSE: 0.88\n",
      "Validation MSE: 0.52\n",
      "Validation KGE: 0.93\n"
     ]
    },
    {
     "data": {
      "application/vnd.jupyter.widget-view+json": {
       "model_id": "8700d2f634594092969d1ec625472dbe",
       "version_major": 2,
       "version_minor": 0
      },
      "text/plain": [
       "  0%|          | 0/20 [00:00<?, ?it/s]"
      ]
     },
     "metadata": {},
     "output_type": "display_data"
    },
    {
     "name": "stdout",
     "output_type": "stream",
     "text": [
      "Validation NSE: 0.88\n",
      "Validation MSE: 0.52\n",
      "Validation KGE: 0.93\n"
     ]
    },
    {
     "data": {
      "application/vnd.jupyter.widget-view+json": {
       "model_id": "51ce50a967b04830b13b6fc857983a6d",
       "version_major": 2,
       "version_minor": 0
      },
      "text/plain": [
       "  0%|          | 0/20 [00:00<?, ?it/s]"
      ]
     },
     "metadata": {},
     "output_type": "display_data"
    },
    {
     "name": "stdout",
     "output_type": "stream",
     "text": [
      "Validation NSE: 0.88\n",
      "Validation MSE: 0.53\n",
      "Validation KGE: 0.93\n"
     ]
    },
    {
     "data": {
      "application/vnd.jupyter.widget-view+json": {
       "model_id": "e38e140996d542db81947fa4bff0083a",
       "version_major": 2,
       "version_minor": 0
      },
      "text/plain": [
       "  0%|          | 0/20 [00:00<?, ?it/s]"
      ]
     },
     "metadata": {},
     "output_type": "display_data"
    },
    {
     "name": "stdout",
     "output_type": "stream",
     "text": [
      "Validation NSE: 0.87\n",
      "Validation MSE: 0.54\n",
      "Validation KGE: 0.92\n"
     ]
    },
    {
     "data": {
      "application/vnd.jupyter.widget-view+json": {
       "model_id": "02c64655368544a09d49fd32a4c373fe",
       "version_major": 2,
       "version_minor": 0
      },
      "text/plain": [
       "  0%|          | 0/20 [00:00<?, ?it/s]"
      ]
     },
     "metadata": {},
     "output_type": "display_data"
    },
    {
     "name": "stdout",
     "output_type": "stream",
     "text": [
      "Validation NSE: 0.87\n",
      "Validation MSE: 0.57\n",
      "Validation KGE: 0.92\n"
     ]
    },
    {
     "data": {
      "application/vnd.jupyter.widget-view+json": {
       "model_id": "a93da603216b42d99e835693b8caf956",
       "version_major": 2,
       "version_minor": 0
      },
      "text/plain": [
       "  0%|          | 0/20 [00:00<?, ?it/s]"
      ]
     },
     "metadata": {},
     "output_type": "display_data"
    },
    {
     "name": "stdout",
     "output_type": "stream",
     "text": [
      "Validation NSE: 0.88\n",
      "Validation MSE: 0.53\n",
      "Validation KGE: 0.93\n"
     ]
    },
    {
     "data": {
      "application/vnd.jupyter.widget-view+json": {
       "model_id": "1ccd97f1d32040e1ba71e9ac48e1deb9",
       "version_major": 2,
       "version_minor": 0
      },
      "text/plain": [
       "  0%|          | 0/20 [00:00<?, ?it/s]"
      ]
     },
     "metadata": {},
     "output_type": "display_data"
    },
    {
     "name": "stdout",
     "output_type": "stream",
     "text": [
      "Validation NSE: 0.86\n",
      "Validation MSE: 0.59\n",
      "Validation KGE: 0.91\n"
     ]
    },
    {
     "data": {
      "application/vnd.jupyter.widget-view+json": {
       "model_id": "41ae7e61252548eab24ddde772605268",
       "version_major": 2,
       "version_minor": 0
      },
      "text/plain": [
       "  0%|          | 0/20 [00:00<?, ?it/s]"
      ]
     },
     "metadata": {},
     "output_type": "display_data"
    },
    {
     "name": "stdout",
     "output_type": "stream",
     "text": [
      "Validation NSE: 0.87\n",
      "Validation MSE: 0.56\n",
      "Validation KGE: 0.93\n"
     ]
    },
    {
     "data": {
      "application/vnd.jupyter.widget-view+json": {
       "model_id": "446db31bf6084b65a919545159396799",
       "version_major": 2,
       "version_minor": 0
      },
      "text/plain": [
       "  0%|          | 0/20 [00:00<?, ?it/s]"
      ]
     },
     "metadata": {},
     "output_type": "display_data"
    },
    {
     "name": "stdout",
     "output_type": "stream",
     "text": [
      "Validation NSE: 0.87\n",
      "Validation MSE: 0.54\n",
      "Validation KGE: 0.92\n"
     ]
    },
    {
     "data": {
      "application/vnd.jupyter.widget-view+json": {
       "model_id": "bc820c7dd9d947379769a42e52660124",
       "version_major": 2,
       "version_minor": 0
      },
      "text/plain": [
       "  0%|          | 0/20 [00:00<?, ?it/s]"
      ]
     },
     "metadata": {},
     "output_type": "display_data"
    },
    {
     "name": "stdout",
     "output_type": "stream",
     "text": [
      "Validation NSE: 0.87\n",
      "Validation MSE: 0.56\n",
      "Validation KGE: 0.91\n"
     ]
    },
    {
     "data": {
      "application/vnd.jupyter.widget-view+json": {
       "model_id": "7a7c4a089a724316b7e56a69e7a5dfcd",
       "version_major": 2,
       "version_minor": 0
      },
      "text/plain": [
       "  0%|          | 0/20 [00:00<?, ?it/s]"
      ]
     },
     "metadata": {},
     "output_type": "display_data"
    },
    {
     "name": "stdout",
     "output_type": "stream",
     "text": [
      "Validation NSE: 0.88\n",
      "Validation MSE: 0.53\n",
      "Validation KGE: 0.93\n"
     ]
    },
    {
     "data": {
      "application/vnd.jupyter.widget-view+json": {
       "model_id": "51a32387ab924870ad37d8c8b31d23e1",
       "version_major": 2,
       "version_minor": 0
      },
      "text/plain": [
       "  0%|          | 0/20 [00:00<?, ?it/s]"
      ]
     },
     "metadata": {},
     "output_type": "display_data"
    },
    {
     "name": "stdout",
     "output_type": "stream",
     "text": [
      "Validation NSE: 0.86\n",
      "Validation MSE: 0.58\n",
      "Validation KGE: 0.91\n"
     ]
    },
    {
     "data": {
      "application/vnd.jupyter.widget-view+json": {
       "model_id": "c3303d9ec91c4fe4a8176e68e2d47509",
       "version_major": 2,
       "version_minor": 0
      },
      "text/plain": [
       "  0%|          | 0/20 [00:00<?, ?it/s]"
      ]
     },
     "metadata": {},
     "output_type": "display_data"
    },
    {
     "name": "stdout",
     "output_type": "stream",
     "text": [
      "Validation NSE: 0.86\n",
      "Validation MSE: 0.59\n",
      "Validation KGE: 0.90\n"
     ]
    },
    {
     "data": {
      "application/vnd.jupyter.widget-view+json": {
       "model_id": "ab97aa5831a44989a9e5565f35f288d0",
       "version_major": 2,
       "version_minor": 0
      },
      "text/plain": [
       "  0%|          | 0/20 [00:00<?, ?it/s]"
      ]
     },
     "metadata": {},
     "output_type": "display_data"
    },
    {
     "name": "stdout",
     "output_type": "stream",
     "text": [
      "Validation NSE: 0.85\n",
      "Validation MSE: 0.64\n",
      "Validation KGE: 0.89\n"
     ]
    },
    {
     "data": {
      "application/vnd.jupyter.widget-view+json": {
       "model_id": "2a7ca229851b4585a7ff89e5af508a18",
       "version_major": 2,
       "version_minor": 0
      },
      "text/plain": [
       "  0%|          | 0/20 [00:00<?, ?it/s]"
      ]
     },
     "metadata": {},
     "output_type": "display_data"
    },
    {
     "name": "stdout",
     "output_type": "stream",
     "text": [
      "Validation NSE: 0.86\n",
      "Validation MSE: 0.58\n",
      "Validation KGE: 0.92\n"
     ]
    },
    {
     "data": {
      "application/vnd.jupyter.widget-view+json": {
       "model_id": "4ef86cde66934cae96ff6653d7960bba",
       "version_major": 2,
       "version_minor": 0
      },
      "text/plain": [
       "  0%|          | 0/20 [00:00<?, ?it/s]"
      ]
     },
     "metadata": {},
     "output_type": "display_data"
    },
    {
     "name": "stdout",
     "output_type": "stream",
     "text": [
      "Validation NSE: 0.87\n",
      "Validation MSE: 0.56\n",
      "Validation KGE: 0.90\n"
     ]
    },
    {
     "data": {
      "application/vnd.jupyter.widget-view+json": {
       "model_id": "b2f3ae704762464aa75bf62ef8c66e72",
       "version_major": 2,
       "version_minor": 0
      },
      "text/plain": [
       "  0%|          | 0/20 [00:00<?, ?it/s]"
      ]
     },
     "metadata": {},
     "output_type": "display_data"
    },
    {
     "name": "stdout",
     "output_type": "stream",
     "text": [
      "Validation NSE: 0.86\n",
      "Validation MSE: 0.60\n",
      "Validation KGE: 0.90\n"
     ]
    },
    {
     "data": {
      "application/vnd.jupyter.widget-view+json": {
       "model_id": "73e11ea5af9748aca0641d58959e5a5c",
       "version_major": 2,
       "version_minor": 0
      },
      "text/plain": [
       "  0%|          | 0/20 [00:00<?, ?it/s]"
      ]
     },
     "metadata": {},
     "output_type": "display_data"
    },
    {
     "name": "stdout",
     "output_type": "stream",
     "text": [
      "Validation NSE: 0.86\n",
      "Validation MSE: 0.59\n",
      "Validation KGE: 0.91\n"
     ]
    },
    {
     "data": {
      "application/vnd.jupyter.widget-view+json": {
       "model_id": "b4b3acd1bb6b4f11a9cafc71ab34cde8",
       "version_major": 2,
       "version_minor": 0
      },
      "text/plain": [
       "  0%|          | 0/20 [00:00<?, ?it/s]"
      ]
     },
     "metadata": {},
     "output_type": "display_data"
    },
    {
     "name": "stdout",
     "output_type": "stream",
     "text": [
      "Validation NSE: 0.86\n",
      "Validation MSE: 0.58\n",
      "Validation KGE: 0.91\n",
      "Best Validation NSE: 0.88\n",
      "Best Validation KGE: 0.93\n"
     ]
    }
   ],
   "source": [
    "n_epochs = 50 # Number of training epochs\n",
    "dates = pd.date_range(start=\"1995-10-01\", end=\"2000-10-01\", freq='D')\n",
    "best_KGE = 0\n",
    "best_NSE = 0\n",
    "best_MSE = 10000\n",
    "for i in range(n_epochs):\n",
    "    train_epoch(model, optimizer, tr_loader, loss_func, i+1)\n",
    "    obs, preds = eval_model(model, val_loader)\n",
    "    preds = ds_val.local_rescale(preds.cpu().numpy(), variable='output') #preds = ds_val.local_rescale(preds.numpy(), variable='output')\n",
    "    nse = calc_nse(obs.numpy(), preds)\n",
    "    # if nse>best_NSE:\n",
    "        # best_NSE=nse\n",
    "    tqdm.tqdm.write(f\"Validation NSE: {nse:.2f}\")\n",
    "    MSE = mse_loss(obs, preds)\n",
    "\n",
    "    tqdm.tqdm.write(f\"Validation MSE: {MSE:.2f}\")\n",
    "    kge_value = kge(obs, preds)\n",
    "    # if kge_value>best_KGE:\n",
    "        # best_KGE=kge_value\n",
    "    tqdm.tqdm.write(f\"Validation KGE: {kge_value:.2f}\")\n",
    "    # if MSE<best_MSE:\n",
    "    #     best_MSE=MSE\n",
    "    #     best_KGE=kge_value\n",
    "    #     obs_np = obs.numpy().flatten()\n",
    "    #     preds = preds.flatten()\n",
    "    #     data = pd.DataFrame({\n",
    "    #         'Date': dates,\n",
    "    #         'Observed Streamflow': obs_np,\n",
    "    #         'Predicted Streamflow': preds})\n",
    "    #     loss_name=\"MSE\"\n",
    "    if nse>best_NSE:\n",
    "        best_NSE=nse\n",
    "        best_KGE=kge_value\n",
    "        obs_np = obs.numpy().flatten()\n",
    "        preds = preds.flatten()\n",
    "        data = pd.DataFrame({\n",
    "            'Date': dates,\n",
    "            'Observed Streamflow': obs_np,\n",
    "            'Predicted Streamflow': preds})\n",
    "        loss_name=\"NSE\" \n",
    "# tqdm.tqdm.write(f\"Best Validation MSE: {best_MSE:.2f}\")        \n",
    "tqdm.tqdm.write(f\"Best Validation NSE: {best_NSE:.2f}\")\n",
    "tqdm.tqdm.write(f\"Best Validation KGE: {best_KGE:.2f}\")\n",
    "# Set the Date column as the index (optional)\n",
    "data.set_index('Date', inplace=True)\n",
    "\n",
    "# Save the DataFrame to a CSV file\n",
    "#csv_file_path = f'/mh1/Atakallou/MLproject/output/{loss_name}_{basin}_streamflow_data.csv'\n",
    "#data.to_csv(csv_file_path)"
   ]
  },
  {
   "cell_type": "code",
   "execution_count": 28,
   "metadata": {},
   "outputs": [
    {
     "data": {
      "image/png": "[encoded data removed]",
      "text/plain": [
       "<Figure size 1200x600 with 1 Axes>"
      ]
     },
     "metadata": {},
     "output_type": "display_data"
    }
   ],
   "source": [
    "# Convert the tensor to a numpy array if necessary\n",
    "obs_np = obs.numpy()\n",
    "# Generate the date range from \"1995-10-01\" to \"2000-09-30\"\n",
    "dates = pd.date_range(start=\"1995-10-01\", end=\"2000-10-01\", freq='D')\n",
    "\n",
    "# Plotting\n",
    "plt.figure(figsize=(12, 6))\n",
    "plt.plot(dates, obs_np, label='Observed Streamflow', color='blue')\n",
    "plt.plot(dates, preds, label='Predicted Streamflow', color='red', linestyle='--')\n",
    "plt.title('Daily Streamflow from 1995 to 2000')\n",
    "plt.xlabel('Date')\n",
    "plt.ylabel('Streamflow')\n",
    "plt.legend()\n",
    "plt.grid(True)\n",
    "plt.show()"
   ]
  },
  {
   "cell_type": "code",
   "execution_count": 65,
   "metadata": {},
   "outputs": [],
   "source": [
    "# Convert the tensor to a numpy array if necessary\n",
    "obs_np = obs.numpy().flatten()\n",
    "preds = preds.flatten()\n",
    "# Generate the date range from \"1995-10-01\" to \"2000-09-30\"\n",
    "dates = pd.date_range(start=\"1995-10-01\", end=\"2000-10-01\", freq='D')\n",
    "# Create a pandas DataFrame with the dates and data\n",
    "data = pd.DataFrame({\n",
    "    'Date': dates,\n",
    "    'Observed Streamflow': obs_np,\n",
    "    'Predicted Streamflow': preds})\n",
    "# })\n",
    "\n"
   ]
  },
  {
   "cell_type": "code",
   "execution_count": 66,
   "metadata": {
    "scrolled": true
   },
   "outputs": [
    {
     "data": {
      "text/html": [
       "<div>\n",
       "<style scoped>\n",
       "    .dataframe tbody tr th:only-of-type {\n",
       "        vertical-align: middle;\n",
       "    }\n",
       "\n",
       "    .dataframe tbody tr th {\n",
       "        vertical-align: top;\n",
       "    }\n",
       "\n",
       "    .dataframe thead th {\n",
       "        text-align: right;\n",
       "    }\n",
       "</style>\n",
       "<table border=\"1\" class=\"dataframe\">\n",
       "  <thead>\n",
       "    <tr style=\"text-align: right;\">\n",
       "      <th></th>\n",
       "      <th>Date</th>\n",
       "      <th>Observed Streamflow</th>\n",
       "      <th>Predicted Streamflow</th>\n",
       "    </tr>\n",
       "  </thead>\n",
       "  <tbody>\n",
       "    <tr>\n",
       "      <th>0</th>\n",
       "      <td>1995-10-01</td>\n",
       "      <td>0.053043</td>\n",
       "      <td>0.254234</td>\n",
       "    </tr>\n",
       "    <tr>\n",
       "      <th>1</th>\n",
       "      <td>1995-10-02</td>\n",
       "      <td>0.051961</td>\n",
       "      <td>0.219718</td>\n",
       "    </tr>\n",
       "    <tr>\n",
       "      <th>2</th>\n",
       "      <td>1995-10-03</td>\n",
       "      <td>0.049796</td>\n",
       "      <td>0.203129</td>\n",
       "    </tr>\n",
       "    <tr>\n",
       "      <th>3</th>\n",
       "      <td>1995-10-04</td>\n",
       "      <td>0.046548</td>\n",
       "      <td>0.243794</td>\n",
       "    </tr>\n",
       "    <tr>\n",
       "      <th>4</th>\n",
       "      <td>1995-10-05</td>\n",
       "      <td>0.045465</td>\n",
       "      <td>0.303569</td>\n",
       "    </tr>\n",
       "    <tr>\n",
       "      <th>...</th>\n",
       "      <td>...</td>\n",
       "      <td>...</td>\n",
       "      <td>...</td>\n",
       "    </tr>\n",
       "    <tr>\n",
       "      <th>1823</th>\n",
       "      <td>2000-09-27</td>\n",
       "      <td>0.149387</td>\n",
       "      <td>0.457729</td>\n",
       "    </tr>\n",
       "    <tr>\n",
       "      <th>1824</th>\n",
       "      <td>2000-09-28</td>\n",
       "      <td>0.141809</td>\n",
       "      <td>0.426280</td>\n",
       "    </tr>\n",
       "    <tr>\n",
       "      <th>1825</th>\n",
       "      <td>2000-09-29</td>\n",
       "      <td>0.128819</td>\n",
       "      <td>0.451195</td>\n",
       "    </tr>\n",
       "    <tr>\n",
       "      <th>1826</th>\n",
       "      <td>2000-09-30</td>\n",
       "      <td>0.122324</td>\n",
       "      <td>0.491187</td>\n",
       "    </tr>\n",
       "    <tr>\n",
       "      <th>1827</th>\n",
       "      <td>2000-10-01</td>\n",
       "      <td>0.120159</td>\n",
       "      <td>0.407890</td>\n",
       "    </tr>\n",
       "  </tbody>\n",
       "</table>\n",
       "<p>1828 rows × 3 columns</p>\n",
       "</div>"
      ],
      "text/plain": [
       "           Date  Observed Streamflow  Predicted Streamflow\n",
       "0    1995-10-01             0.053043              0.254234\n",
       "1    1995-10-02             0.051961              0.219718\n",
       "2    1995-10-03             0.049796              0.203129\n",
       "3    1995-10-04             0.046548              0.243794\n",
       "4    1995-10-05             0.045465              0.303569\n",
       "...         ...                  ...                   ...\n",
       "1823 2000-09-27             0.149387              0.457729\n",
       "1824 2000-09-28             0.141809              0.426280\n",
       "1825 2000-09-29             0.128819              0.451195\n",
       "1826 2000-09-30             0.122324              0.491187\n",
       "1827 2000-10-01             0.120159              0.407890\n",
       "\n",
       "[1828 rows x 3 columns]"
      ]
     },
     "execution_count": 66,
     "metadata": {},
     "output_type": "execute_result"
    }
   ],
   "source": [
    "data"
   ]
  },
  {
   "cell_type": "markdown",
   "metadata": {
    "id": "V5C2zxDcsqVa"
   },
   "source": [
    "## 3) Create KGE loss function in Pytorch"
   ]
  },
  {
   "cell_type": "code",
   "execution_count": 67,
   "metadata": {},
   "outputs": [],
   "source": [
    "def local_normalization(feature, variable, means, stds):\n",
    "        \"\"\"Normalize input/output features with local mean/std.\n",
    "\n",
    "        :param feature: Numpy array containing the feature(s) as matrix.\n",
    "        :param variable: Either 'inputs' or 'output' showing which feature will\n",
    "            be normalized\n",
    "        :return: array containing the normalized feature\n",
    "        \"\"\"\n",
    "        if variable == 'inputs':\n",
    "            means = np.array([means['prcp(mm/day)'],\n",
    "                              means['srad(W/m2)'],\n",
    "                              means['tmax(C)'],\n",
    "                              means['tmin(C)'],\n",
    "                              means['vp(Pa)']])\n",
    "            stds = np.array([stds['prcp(mm/day)'],\n",
    "                             stds['srad(W/m2)'],\n",
    "                             stds['tmax(C)'],\n",
    "                             stds['tmin(C)'],\n",
    "                             stds['vp(Pa)']])\n",
    "            feature = (feature - means) / stds\n",
    "        elif variable == 'output':\n",
    "            feature = ((feature - means[\"QObs(mm/d)\"]) /\n",
    "                       stds[\"QObs(mm/d)\"])\n",
    "        else:\n",
    "            raise RuntimeError(f\"Unknown variable type {variable}\")\n",
    "\n",
    "        return feature\n",
    "\n",
    "\n",
    "\n",
    "def reshape_data(x: np.ndarray, y: np.ndarray, seq_length: int) -> Tuple[np.ndarray, np.ndarray]:\n",
    "    \"\"\"\n",
    "    Reshape matrix data into sample shape for LSTM training.\n",
    "\n",
    "    :param x: Matrix containing input features column wise and time steps row wise\n",
    "    :param y: Matrix containing the output feature.\n",
    "    :param seq_length: Length of look back days for one day of prediction\n",
    "    \n",
    "    :return: Two np.ndarrays, the first of shape (samples, length of sequence,\n",
    "        number of features), containing the input data for the LSTM. The second\n",
    "        of shape (samples, 1) containing the expected output for each input\n",
    "        sample.\n",
    "    \"\"\"\n",
    "    num_samples, num_features = x.shape\n",
    "\n",
    "    x_new = np.zeros((num_samples - seq_length + 1, seq_length, num_features))\n",
    "    y_new = np.zeros((num_samples - seq_length + 1, 1))\n",
    "\n",
    "    for i in range(0, x_new.shape[0]):\n",
    "        x_new[i, :, :num_features] = x[i:i + seq_length, :]\n",
    "        y_new[i, :] = y[i + seq_length - 1, 0]\n",
    "\n",
    "    return x_new, y_new"
   ]
  },
  {
   "cell_type": "markdown",
   "metadata": {
    "id": "vxoiFnCk_l4G"
   },
   "source": [
    "---------------------------------------------------------   Until Apr 16 ---------------------------------------------------------"
   ]
  },
  {
   "cell_type": "markdown",
   "metadata": {
    "id": "k0esC6j5svrM"
   },
   "source": [
    "## 4) Multi-basin training"
   ]
  },
  {
   "cell_type": "code",
   "execution_count": null,
   "metadata": {},
   "outputs": [],
   "source": []
  },
  {
   "cell_type": "markdown",
   "metadata": {
    "id": "UaWh2ZDLszOy"
   },
   "source": [
    "## 5) Validation on pseudo-ungauged basins"
   ]
  },
  {
   "cell_type": "code",
   "execution_count": null,
   "metadata": {
    "id": "VDhWE6u1s1mG"
   },
   "outputs": [],
   "source": []
  }
 ],
 "metadata": {
  "colab": {
   "provenance": []
  },
  "kernelspec": {
   "display_name": "Python 3 (ipykernel)",
   "language": "python",
   "name": "python3"
  },
  "language_info": {
   "codemirror_mode": {
    "name": "ipython",
    "version": 3
   },
   "file_extension": ".py",
   "mimetype": "text/x-python",
   "name": "python",
   "nbconvert_exporter": "python",
   "pygments_lexer": "ipython3",
   "version": "3.11.13"
  }
 },
 "nbformat": 4,
 "nbformat_minor": 4
}
